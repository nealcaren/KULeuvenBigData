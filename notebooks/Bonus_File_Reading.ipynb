{
 "cells": [
  {
   "cell_type": "markdown",
   "metadata": {},
   "source": [
    "# Reading other kinds of files"
   ]
  },
  {
   "cell_type": "markdown",
   "metadata": {},
   "source": [
    "## Word Documents"
   ]
  },
  {
   "cell_type": "markdown",
   "metadata": {},
   "source": [
    "The best package for reading the contents of modern Word documents (i.e,. files with a  docx exctension) in `docx2txt`. It returns the full text, stripping out all formatting information. \n",
    "\n",
    "To install (from within a notebook):\n",
    "~~~~\n",
    "    %conda install -c conda-forge docx2txt\n",
    "~~~~"
   ]
  },
  {
   "cell_type": "code",
   "execution_count": 3,
   "metadata": {},
   "outputs": [],
   "source": [
    "import docx2txt"
   ]
  },
  {
   "cell_type": "code",
   "execution_count": 4,
   "metadata": {},
   "outputs": [],
   "source": [
    "text = docx2txt.process('data/pandas_wiki.docx')"
   ]
  },
  {
   "cell_type": "code",
   "execution_count": 5,
   "metadata": {},
   "outputs": [
    {
     "data": {
      "text/plain": [
       "'In\\xa0computer programming,\\xa0pandas\\xa0is a\\xa0software library\\xa0written for the\\xa0Python programming language\\xa0for data manipulation and analysis. In particular, it offers data structures and operations for manipulating numerical tables and\\xa0time series. It is\\xa0free software\\xa0released under the\\xa0three-clause BSD license.\\xa0The name is derived from the term \"panel data\", an\\xa0econometrics\\xa0term for data sets that include observations over multiple time periods for the same individuals.\\n\\n\\n\\nLibrary features\\n\\nDataFrame object for data manipulation with integrated indexing.\\n\\nTools for reading and writing data between in-memory data structures and different file formats.\\n\\nData alignment and integrated handling of missing data.\\n\\nReshaping and pivoting of data sets.\\n\\nLabel-based slicing, fancy indexing, and subsetting of large data sets.\\n\\nData structure column insertion and deletion.\\n\\nGroup by engine allowing split-apply-combine operations on data sets.\\n\\nData set merging and joining.\\n\\nHierarchical axis indexing to work with high-dimensional data in a lower-dimensional data structure.\\n\\nTime series-functionality: Date range generation[3]\\xa0and frequency conversion, moving window statistics, moving window linear regressions, date shifting and lagging.\\n\\nThe library is highly optimized for performance, with critical code paths written in\\xa0Cython\\xa0or\\xa0C.'"
      ]
     },
     "execution_count": 5,
     "metadata": {},
     "output_type": "execute_result"
    }
   ],
   "source": [
    "text"
   ]
  },
  {
   "cell_type": "code",
   "execution_count": 6,
   "metadata": {},
   "outputs": [
    {
     "name": "stdout",
     "output_type": "stream",
     "text": [
      "In computer programming, pandas is a software library written for the Python programming language for data manipulation and analysis. In particular, it offers data structures and operations for manipulating numerical tables and time series. It is free software released under the three-clause BSD license. The name is derived from the term \"panel data\", an econometrics term for data sets that include observations over multiple time periods for the same individuals.\n",
      "\n",
      "\n",
      "\n",
      "Library features\n",
      "\n",
      "DataFrame object for data manipulation with integrated indexing.\n",
      "\n",
      "Tools for reading and writing data between in-memory data structures and different file formats.\n",
      "\n",
      "Data alignment and integrated handling of missing data.\n",
      "\n",
      "Reshaping and pivoting of data sets.\n",
      "\n",
      "Label-based slicing, fancy indexing, and subsetting of large data sets.\n",
      "\n",
      "Data structure column insertion and deletion.\n",
      "\n",
      "Group by engine allowing split-apply-combine operations on data sets.\n",
      "\n",
      "Data set merging and joining.\n",
      "\n",
      "Hierarchical axis indexing to work with high-dimensional data in a lower-dimensional data structure.\n",
      "\n",
      "Time series-functionality: Date range generation[3] and frequency conversion, moving window statistics, moving window linear regressions, date shifting and lagging.\n",
      "\n",
      "The library is highly optimized for performance, with critical code paths written in Cython or C.\n"
     ]
    }
   ],
   "source": [
    "print(text)"
   ]
  },
  {
   "cell_type": "markdown",
   "metadata": {},
   "source": [
    "## PDF Documents"
   ]
  },
  {
   "cell_type": "markdown",
   "metadata": {},
   "source": [
    "The best package for reading the contents of PDF documents in `PyPDF2`. It can be used to read and write PDF documents. It can extract the text, but only when the text is stored in the document, as is commonly the case when PDFs are created on a computer from the original document. It can not extract the text from scanned documents, as the text there is stored as an image.\n",
    "\n",
    "To install (from within a notebook):\n",
    "~~~~\n",
    "    %conda install -c conda-forge docx2txt\n",
    "~~~~"
   ]
  },
  {
   "cell_type": "code",
   "execution_count": 7,
   "metadata": {},
   "outputs": [],
   "source": [
    "import PyPDF2"
   ]
  },
  {
   "cell_type": "markdown",
   "metadata": {},
   "source": [
    "Extracting the textual elements of a PDF is more complicated than a Word document. After the file is opened, it needs to be parsed, and then the text extracted from each page."
   ]
  },
  {
   "cell_type": "code",
   "execution_count": 9,
   "metadata": {},
   "outputs": [],
   "source": [
    "pdfFileObj = open('data/l09r01.pdf', 'rb')"
   ]
  },
  {
   "cell_type": "code",
   "execution_count": 10,
   "metadata": {},
   "outputs": [],
   "source": [
    "pdfReader = PyPDF2.PdfFileReader(pdfFileObj)"
   ]
  },
  {
   "cell_type": "code",
   "execution_count": 11,
   "metadata": {},
   "outputs": [
    {
     "name": "stdout",
     "output_type": "stream",
     "text": [
      "32\n"
     ]
    }
   ],
   "source": [
    "print(pdfReader.numPages)"
   ]
  },
  {
   "cell_type": "code",
   "execution_count": 15,
   "metadata": {},
   "outputs": [
    {
     "name": "stdout",
     "output_type": "stream",
     "text": [
      " \n",
      "GE.15\n",
      "-\n",
      "21932(E)\n",
      " \n",
      "*1521932*\n",
      " \n",
      " \n",
      " \n",
      "Conference of the Parties\n",
      " \n",
      "Twenty\n",
      "-\n",
      "first session\n",
      " \n",
      "Paris, 30 \n"
     ]
    }
   ],
   "source": [
    "first_page_text = pdfReader.getPage(0).extractText()\n",
    "\n",
    "print(first_page_text[:100])"
   ]
  },
  {
   "cell_type": "markdown",
   "metadata": {},
   "source": [
    "If you wanted all of the text from a particular PDF, you could iterate over each page. In this case, I add a line break (`\\n`) in between each page. "
   ]
  },
  {
   "cell_type": "code",
   "execution_count": 19,
   "metadata": {},
   "outputs": [],
   "source": [
    "full_text = ''\n",
    "\n",
    "for page_number in range(0, pdfReader.numPages):\n",
    "    new_page_text = pdfReader.getPage(page_number).extractText()\n",
    "    full_text = full_text +  '\\n' + new_page_text"
   ]
  },
  {
   "cell_type": "code",
   "execution_count": 20,
   "metadata": {},
   "outputs": [
    {
     "data": {
      "text/plain": [
       "116390"
      ]
     },
     "execution_count": 20,
     "metadata": {},
     "output_type": "execute_result"
    }
   ],
   "source": [
    "len(text)"
   ]
  },
  {
   "cell_type": "code",
   "execution_count": 21,
   "metadata": {},
   "outputs": [
    {
     "name": "stdout",
     "output_type": "stream",
     "text": [
      "equests \n",
      "Parties to provide \n",
      "notification of any such provisional \n",
      "application to the Depositary;\n",
      " \n",
      "\n",
      "FCCC/CP/2015/L.9\n",
      "/Rev.1\n",
      " \n",
      " \n",
      "3\n",
      " \n",
      "6.\n",
      " \n",
      "Notes\n",
      " \n",
      "that the work of the Ad Hoc Working Group on the Durban Platform for \n",
      "Enhanced Action, in accordance with decision 1/CP.17, paragraph 4, has been completed;\n",
      " \n",
      "7.\n",
      " \n",
      "Decides\n",
      " \n",
      "to establish the Ad Hoc Working Group on the Paris Agreement under the \n",
      "same arrangement, mutatis mutandis, as those concerning the election of officers to the \n",
      "Bureau of the \n",
      "Ad Hoc Working Group on the Durban Platform for Enhanced Action\n",
      ";\n",
      "1\n",
      " \n",
      "8.\n",
      " \n",
      "Also\n",
      " \n",
      "decides\n",
      " \n",
      "that the Ad Hoc Working Group on the Paris Agreement shall prepare \n",
      "for the entry into force of the Agreement and for the convening of the first session of the \n",
      "Conference of the Parties serving as the meeting of the Parties to the Paris Agreement;\n",
      " \n",
      "9.\n",
      " \n",
      "Furthe\n",
      "r\n",
      " \n",
      "decides\n",
      " \n",
      "to oversee the implementation of the work programme resulting \n",
      "from the relevant requests contained in this decision;\n",
      " \n",
      "10.\n",
      " \n",
      "Requests\n",
      "\n"
     ]
    }
   ],
   "source": [
    "print(text[5135:6135])"
   ]
  },
  {
   "cell_type": "markdown",
   "metadata": {},
   "source": [
    "This could all be bundled in function:"
   ]
  },
  {
   "cell_type": "code",
   "execution_count": 26,
   "metadata": {},
   "outputs": [],
   "source": [
    "def extract_text(pdf_file_name):\n",
    "    '''Extract text contents from a PDF file'''\n",
    "    \n",
    "    pdfFileObj = open(pdf_file_name, 'rb')\n",
    "        \n",
    "    pdfReader = PyPDF2.PdfFileReader(pdfFileObj)\n",
    "    \n",
    "    full_text = ''\n",
    "\n",
    "    for page_number in range(0, pdfReader.numPages):\n",
    "        new_page_text = pdfReader.getPage(page_number).extractText()\n",
    "        full_text = full_text +  '\\n' + new_page_text\n",
    "    return full_text\n",
    "    "
   ]
  },
  {
   "cell_type": "code",
   "execution_count": 27,
   "metadata": {},
   "outputs": [],
   "source": [
    "text = extract_text('data/l09r01.pdf')"
   ]
  },
  {
   "cell_type": "code",
   "execution_count": 29,
   "metadata": {},
   "outputs": [
    {
     "name": "stdout",
     "output_type": "stream",
     "text": [
      "o\n",
      "-\n",
      "benefits of \n",
      "policies, practices and actions for enhancing mitigation ambition, as well as on options \n",
      "for \n",
      "supporting their implementation, information on which should be made available in a user\n"
     ]
    }
   ],
   "source": [
    "print(text[53454:53654])"
   ]
  },
  {
   "cell_type": "markdown",
   "metadata": {},
   "source": [
    "Alternatively, if you wanted to preserve the pages as individual documents:"
   ]
  },
  {
   "cell_type": "code",
   "execution_count": 36,
   "metadata": {},
   "outputs": [],
   "source": [
    "import pandas as pd\n",
    "pd.set_option('display.max_colwidth', 200)\n",
    "\n",
    "\n",
    "def extract_page(page_number):\n",
    "    text = pdfReader.getPage(page_number).extractText()\n",
    "    return {'page' : page_number + 1,\n",
    "            'text' : text}\n",
    "\n",
    "def extract_pages(pdf_file_name):\n",
    "    '''Extract text contents from a PDF file'''\n",
    "    \n",
    "    pdfFileObj = open(pdf_file_name, 'rb')\n",
    "        \n",
    "    pdfReader = PyPDF2.PdfFileReader(pdfFileObj)\n",
    "    \n",
    "    pages = []\n",
    "\n",
    "    for page_number in range(0, pdfReader.numPages):\n",
    "        new_page_dict = extract_page(page_number)\n",
    "        pages.append(new_page_dict)\n",
    "    df = pd.DataFrame(pages)\n",
    "    df['source'] = pdf_file_name\n",
    "    \n",
    "    return df\n",
    "    "
   ]
  },
  {
   "cell_type": "code",
   "execution_count": 37,
   "metadata": {},
   "outputs": [
    {
     "data": {
      "text/html": [
       "<div>\n",
       "<style scoped>\n",
       "    .dataframe tbody tr th:only-of-type {\n",
       "        vertical-align: middle;\n",
       "    }\n",
       "\n",
       "    .dataframe tbody tr th {\n",
       "        vertical-align: top;\n",
       "    }\n",
       "\n",
       "    .dataframe thead th {\n",
       "        text-align: right;\n",
       "    }\n",
       "</style>\n",
       "<table border=\"1\" class=\"dataframe\">\n",
       "  <thead>\n",
       "    <tr style=\"text-align: right;\">\n",
       "      <th></th>\n",
       "      <th>page</th>\n",
       "      <th>text</th>\n",
       "      <th>source</th>\n",
       "    </tr>\n",
       "  </thead>\n",
       "  <tbody>\n",
       "    <tr>\n",
       "      <th>0</th>\n",
       "      <td>1</td>\n",
       "      <td>\\nGE.15\\n-\\n21932(E)\\n \\n*1521932*\\n \\n \\n \\nConference of the Parties\\n \\nTwenty\\n-\\nfirst session\\n \\nParis, 30 November \\nto \\n11\\n \\nDecember 201\\n5\\n \\nAgenda item \\n4\\n(\\nb\\n)\\n \\nDurban Pl...</td>\n",
       "      <td>data/l09r01.pdf</td>\n",
       "    </tr>\n",
       "    <tr>\n",
       "      <th>1</th>\n",
       "      <td>2</td>\n",
       "      <td>FCCC/CP/2015/L.9\\n/Rev.1\\n \\n2\\n \\n \\nlocal communities, migrants, children, persons with disabilities and people in vulnerable \\nsituations and the right to development, as well as gender equalit...</td>\n",
       "      <td>data/l09r01.pdf</td>\n",
       "    </tr>\n",
       "    <tr>\n",
       "      <th>2</th>\n",
       "      <td>3</td>\n",
       "      <td>FCCC/CP/2015/L.9\\n/Rev.1\\n \\n \\n3\\n \\n6.\\n \\nNotes\\n \\nthat the work of the Ad Hoc Working Group on the Durban Platform for \\nEnhanced Action, in accordance with decision 1/CP.17, paragraph 4, has...</td>\n",
       "      <td>data/l09r01.pdf</td>\n",
       "    </tr>\n",
       "    <tr>\n",
       "      <th>3</th>\n",
       "      <td>4</td>\n",
       "      <td>FCCC/CP/2015/L.9\\n/Rev.1\\n \\n4\\n \\n \\n\\n-\\nindustrial levels by reducing to \\na level to be identified in the special\\n \\nreport referred to in paragraph 21 below;\\n \\n18.\\n \\nAlso notes, in this ...</td>\n",
       "      <td>data/l09r01.pdf</td>\n",
       "    </tr>\n",
       "    <tr>\n",
       "      <th>4</th>\n",
       "      <td>5</td>\n",
       "      <td>FCCC/CP/2015/L.9\\n/Rev.1\\n \\n \\n5\\n \\nemissions and, as appropriate, removals, and how the Party considers that its nationally \\ndetermined contribution is fair and ambitious, in \\nthe \\nlight of ...</td>\n",
       "      <td>data/l09r01.pdf</td>\n",
       "    </tr>\n",
       "    <tr>\n",
       "      <th>5</th>\n",
       "      <td>6</td>\n",
       "      <td>FCCC/CP/2015/L.9\\n/Rev.1\\n \\n6\\n \\n \\nand the excha\\nnge of information, experiences, and best practices amongst Parties to raise \\ntheir resilience to these impacts\\n;\\n*\\n \\n36.\\n \\nInvites\\n \\n...</td>\n",
       "      <td>data/l09r01.pdf</td>\n",
       "    </tr>\n",
       "    <tr>\n",
       "      <th>6</th>\n",
       "      <td>7</td>\n",
       "      <td>FCCC/CP/2015/L.9\\n/Rev.1\\n \\n \\n7\\n \\n42.\\n \\nRequests\\n \\nthe Adaptation Committee and the Least Developed Countries Expert \\nGroup to jointly develop modalities to recognize the adaptation effor...</td>\n",
       "      <td>data/l09r01.pdf</td>\n",
       "    </tr>\n",
       "    <tr>\n",
       "      <th>7</th>\n",
       "      <td>8</td>\n",
       "      <td>FCCC/CP/2015/L.9\\n/Rev.1\\n \\n8\\n \\n \\ndevelop recommendations for integrated approa\\nches to avert, minimize and address \\ndisplacement related to the adverse impacts of climate change;\\n \\n51.\\n ...</td>\n",
       "      <td>data/l09r01.pdf</td>\n",
       "    </tr>\n",
       "    <tr>\n",
       "      <th>8</th>\n",
       "      <td>9</td>\n",
       "      <td>FCCC/CP/2015/L.9\\n/Rev.1\\n \\n \\n9\\n \\n60.\\n \\nRecognizes\\n \\nthat the Adaptation Fund may serve the Agreement, subject to relevant \\ndecisions by the Conference of the Parties serving as the meeti...</td>\n",
       "      <td>data/l09r01.pdf</td>\n",
       "    </tr>\n",
       "    <tr>\n",
       "      <th>9</th>\n",
       "      <td>10</td>\n",
       "      <td>FCCC/CP/2015/L.9\\n/Rev.1\\n \\n10\\n \\n \\n(c)\\n \\nThe assessment of technologies that are ready for transfer;\\n \\n(d)\\n \\nThe enhancement of enabling environments for and the addressing of barriers \\...</td>\n",
       "      <td>data/l09r01.pdf</td>\n",
       "    </tr>\n",
       "    <tr>\n",
       "      <th>10</th>\n",
       "      <td>11</td>\n",
       "      <td>FCCC/CP/2015/L.9\\n/Rev.1\\n \\n \\n11\\n \\ninformation on capacity\\n-\\nbuilding activities and strategies of bodies established under the \\nConvention; \\n \\n(i)\\n \\nProviding guidance to the secretari...</td>\n",
       "      <td>data/l09r01.pdf</td>\n",
       "    </tr>\n",
       "    <tr>\n",
       "      <th>11</th>\n",
       "      <td>12</td>\n",
       "      <td>FCCC/CP/2015/L.9\\n/Rev.1\\n \\n12\\n \\n \\ntraining, public awareness, public participation and public access to information so as to \\ne\\nnhance actions under the Agreement;\\n \\n \\nT\\nRANSPARENCY OF ...</td>\n",
       "      <td>data/l09r01.pdf</td>\n",
       "    </tr>\n",
       "    <tr>\n",
       "      <th>12</th>\n",
       "      <td>13</td>\n",
       "      <td>FCCC/CP/2015/L.9\\n/Rev.1\\n \\n \\n13\\n \\n93\\n.\\n \\nAlso\\n \\nrequests\\n \\nthe Ad Hoc Working Group on the Paris Agreement in developing the \\nrecommendations fo\\nr the modalities, procedures and guid...</td>\n",
       "      <td>data/l09r01.pdf</td>\n",
       "    </tr>\n",
       "    <tr>\n",
       "      <th>13</th>\n",
       "      <td>14</td>\n",
       "      <td>FCCC/CP/2015/L.9\\n/Rev.1\\n \\n14\\n \\n \\n92\\n \\nabove to future sessions of the Conference of the Parties, and that this work be \\nco\\nncluded no later than \\n2018;\\n \\n98\\n.\\n \\nDecides \\nthat the ...</td>\n",
       "      <td>data/l09r01.pdf</td>\n",
       "    </tr>\n",
       "    <tr>\n",
       "      <th>14</th>\n",
       "      <td>15</td>\n",
       "      <td>FCCC/CP/2015/L.9\\n/Rev.1\\n \\n \\n15\\n \\nAgreement\\n \\ncompleting its work on such modalities and pro\\ncedures for consideration and \\nadoption by the Conference of the Parties serving as the meetin...</td>\n",
       "      <td>data/l09r01.pdf</td>\n",
       "    </tr>\n",
       "    <tr>\n",
       "      <th>15</th>\n",
       "      <td>16</td>\n",
       "      <td>FCCC/CP/2015/L.9\\n/Rev.1\\n \\n16\\n \\n \\n(b)\\n \\nStriving to improve, in consultation with Parties, access to and participation \\nin this process by developing country Par\\nty and non\\n-\\nParty expe...</td>\n",
       "      <td>data/l09r01.pdf</td>\n",
       "    </tr>\n",
       "    <tr>\n",
       "      <th>16</th>\n",
       "      <td>17</td>\n",
       "      <td>FCCC/CP/2015/L.9\\n/Rev.1\\n \\n \\n17\\n \\ngoal of jointly providing USD 100 billion annually by 2020 for mitigation and adaptation \\nwhile significantly increasing adaptation\\n \\nfinance from current...</td>\n",
       "      <td>data/l09r01.pdf</td>\n",
       "    </tr>\n",
       "    <tr>\n",
       "      <th>17</th>\n",
       "      <td>18</td>\n",
       "      <td>FCCC/CP/2015/L.9\\n/Rev.1\\n \\n18\\n \\n \\n(a)\\n \\nWorking with the Executive Secretary and the current and incoming \\nPresidents of the Conference of the Parties to co\\nordinate the annual high\\n-\\nl...</td>\n",
       "      <td>data/l09r01.pdf</td>\n",
       "    </tr>\n",
       "    <tr>\n",
       "      <th>18</th>\n",
       "      <td>19</td>\n",
       "      <td>FCCC/CP/2015/L.9\\n/Rev.1\\n \\n \\n19\\n \\n130\\n.\\n \\nRequests\\n \\nthe secretariat to support the technical examination pr\\nocess referred to in \\nparagraph \\n125\\n \\nabove by:\\n \\n(a) \\n \\nOrganizing...</td>\n",
       "      <td>data/l09r01.pdf</td>\n",
       "    </tr>\n",
       "    <tr>\n",
       "      <th>19</th>\n",
       "      <td>20</td>\n",
       "      <td>FCCC/CP/2015/L.9\\n/Rev.1\\n \\n20\\n \\n \\n140\\n. \\n \\nUrges \\nParties to make voluntary contributions for t\\nhe timely implementation of this \\ndecision.\\n \\n \\n \\n</td>\n",
       "      <td>data/l09r01.pdf</td>\n",
       "    </tr>\n",
       "    <tr>\n",
       "      <th>20</th>\n",
       "      <td>21</td>\n",
       "      <td>FCCC/CP/2015/L.9\\n \\n \\n21\\n \\nAnnex\\n \\nPARIS \\nAGREEMENT \\n \\n \\nThe Parties to this Agreement,\\n \\nBei\\nn\\ng\\n \\nP\\na\\nr\\nties\\n \\nto\\n \\nt\\nh\\ne\\n \\nU\\nn\\nited\\n \\nN\\nati\\no\\nn\\ns\\n \\nFr\\na\\nm...</td>\n",
       "      <td>data/l09r01.pdf</td>\n",
       "    </tr>\n",
       "    <tr>\n",
       "      <th>21</th>\n",
       "      <td>22</td>\n",
       "      <td>FCCC/CP/2015/L.9\\n/Rev.1\\n \\n22\\n \\n \\nArticle 1 \\n \\nFor the purpose of this Agreement, the definitions contained in Article 1 of the Convention shall apply. In \\naddition:\\n \\n1.\\n \\n\\nn New Yor...</td>\n",
       "      <td>data/l09r01.pdf</td>\n",
       "    </tr>\n",
       "    <tr>\n",
       "      <th>22</th>\n",
       "      <td>23</td>\n",
       "      <td>FCCC/CP/2015/L.9\\n \\n \\n23\\n \\n6\\n.\\n \\nThe least developed countries and small island developing States may prepare and communicate strategies, plans \\nand actions for low greenhouse gas emission...</td>\n",
       "      <td>data/l09r01.pdf</td>\n",
       "    </tr>\n",
       "    <tr>\n",
       "      <th>23</th>\n",
       "      <td>24</td>\n",
       "      <td>FCCC/CP/2015/L.9\\n/Rev.1\\n \\n24\\n \\n \\nstocks in developing countries; and alternative policy approaches, such as joint mitigation and adaptation \\napproaches for the integral and sustainable ma\\n...</td>\n",
       "      <td>data/l09r01.pdf</td>\n",
       "    </tr>\n",
       "    <tr>\n",
       "      <th>24</th>\n",
       "      <td>25</td>\n",
       "      <td>FCCC/CP/2015/L.9\\n \\n \\n25\\n \\nArticle 7\\n \\n1.\\n \\nParties hereby establish the global goal on adaptation of enhancing adaptive capacity, strengthening r\\nesilience \\nand reducing vulnerability t...</td>\n",
       "      <td>data/l09r01.pdf</td>\n",
       "    </tr>\n",
       "    <tr>\n",
       "      <th>25</th>\n",
       "      <td>26</td>\n",
       "      <td>FCCC/CP/2015/L.9\\n/Rev.1\\n \\n26\\n \\n \\n10.\\n \\nEach Party should, as appropriate, submit and update periodically an adaptation communication, which may \\ninclude its priorities, implementation and...</td>\n",
       "      <td>data/l09r01.pdf</td>\n",
       "    </tr>\n",
       "    <tr>\n",
       "      <th>26</th>\n",
       "      <td>27</td>\n",
       "      <td>FCCC/CP/2015/L.9\\n \\n \\n27\\n \\nthrough a variety of actions, including supporting country\\n-\\ndriven strategies, and taking int\\no account the needs \\nand priorities of developing country Parties....</td>\n",
       "      <td>data/l09r01.pdf</td>\n",
       "    </tr>\n",
       "    <tr>\n",
       "      <th>27</th>\n",
       "      <td>28</td>\n",
       "      <td>FCCC/CP/2015/L.9\\n/Rev.1\\n \\n28\\n \\n \\neffective climate change action, including, inter alia, to implement adaptation and mitigation actions, and shoul\\nd \\nfacilitate technology development, dis...</td>\n",
       "      <td>data/l09r01.pdf</td>\n",
       "    </tr>\n",
       "    <tr>\n",
       "      <th>28</th>\n",
       "      <td>29</td>\n",
       "      <td>FCCC/CP/2015/L.9\\n \\n \\n29\\n \\n(a)\\n \\nA national inventory report of anthropogenic emissions by sources and removals by sinks of greenhouse \\ngases, prepared using good practice methodologies acc...</td>\n",
       "      <td>data/l09r01.pdf</td>\n",
       "    </tr>\n",
       "    <tr>\n",
       "      <th>29</th>\n",
       "      <td>30</td>\n",
       "      <td>FCCC/CP/2015/L.9\\n/Rev.1\\n \\n30\\n \\n \\n3.\\n \\nThe committee shall operate under the modalities and procedures adopted by the Conference of the Parties \\nserving as the meeting of the Parties to th...</td>\n",
       "      <td>data/l09r01.pdf</td>\n",
       "    </tr>\n",
       "    <tr>\n",
       "      <th>30</th>\n",
       "      <td>31</td>\n",
       "      <td>FCCC/CP/2015/L.9\\n \\n \\n31\\n \\nArticle\\n \\n18\\n \\n \\n1.\\n \\nThe Subsidiary Body for Scientific and Technological Advice and the Subsidiary Body for Implementation \\nestablished by Articles 9 and 1...</td>\n",
       "      <td>data/l09r01.pdf</td>\n",
       "    </tr>\n",
       "    <tr>\n",
       "      <th>31</th>\n",
       "      <td>32</td>\n",
       "      <td>FCCC/CP/2015/L.9\\n/Rev.1\\n \\n32\\n \\n \\nthis Agreement shall enter into force on the thirtieth day \\nafter the date of deposit by such State or regional \\neconomic integration organization of its i...</td>\n",
       "      <td>data/l09r01.pdf</td>\n",
       "    </tr>\n",
       "  </tbody>\n",
       "</table>\n",
       "</div>"
      ],
      "text/plain": [
       "    page  \\\n",
       "0      1   \n",
       "1      2   \n",
       "2      3   \n",
       "3      4   \n",
       "4      5   \n",
       "5      6   \n",
       "6      7   \n",
       "7      8   \n",
       "8      9   \n",
       "9     10   \n",
       "10    11   \n",
       "11    12   \n",
       "12    13   \n",
       "13    14   \n",
       "14    15   \n",
       "15    16   \n",
       "16    17   \n",
       "17    18   \n",
       "18    19   \n",
       "19    20   \n",
       "20    21   \n",
       "21    22   \n",
       "22    23   \n",
       "23    24   \n",
       "24    25   \n",
       "25    26   \n",
       "26    27   \n",
       "27    28   \n",
       "28    29   \n",
       "29    30   \n",
       "30    31   \n",
       "31    32   \n",
       "\n",
       "                                                                                                                                                                                                       text  \\\n",
       "0    \\nGE.15\\n-\\n21932(E)\\n \\n*1521932*\\n \\n \\n \\nConference of the Parties\\n \\nTwenty\\n-\\nfirst session\\n \\nParis, 30 November \\nto \\n11\\n \\nDecember 201\\n5\\n \\nAgenda item \\n4\\n(\\nb\\n)\\n \\nDurban Pl...   \n",
       "1   FCCC/CP/2015/L.9\\n/Rev.1\\n \\n2\\n \\n \\nlocal communities, migrants, children, persons with disabilities and people in vulnerable \\nsituations and the right to development, as well as gender equalit...   \n",
       "2   FCCC/CP/2015/L.9\\n/Rev.1\\n \\n \\n3\\n \\n6.\\n \\nNotes\\n \\nthat the work of the Ad Hoc Working Group on the Durban Platform for \\nEnhanced Action, in accordance with decision 1/CP.17, paragraph 4, has...   \n",
       "3   FCCC/CP/2015/L.9\\n/Rev.1\\n \\n4\\n \\n \\n\\n-\\nindustrial levels by reducing to \\na level to be identified in the special\\n \\nreport referred to in paragraph 21 below;\\n \\n18.\\n \\nAlso notes, in this ...   \n",
       "4   FCCC/CP/2015/L.9\\n/Rev.1\\n \\n \\n5\\n \\nemissions and, as appropriate, removals, and how the Party considers that its nationally \\ndetermined contribution is fair and ambitious, in \\nthe \\nlight of ...   \n",
       "5   FCCC/CP/2015/L.9\\n/Rev.1\\n \\n6\\n \\n \\nand the excha\\nnge of information, experiences, and best practices amongst Parties to raise \\ntheir resilience to these impacts\\n;\\n*\\n \\n36.\\n \\nInvites\\n \\n...   \n",
       "6   FCCC/CP/2015/L.9\\n/Rev.1\\n \\n \\n7\\n \\n42.\\n \\nRequests\\n \\nthe Adaptation Committee and the Least Developed Countries Expert \\nGroup to jointly develop modalities to recognize the adaptation effor...   \n",
       "7   FCCC/CP/2015/L.9\\n/Rev.1\\n \\n8\\n \\n \\ndevelop recommendations for integrated approa\\nches to avert, minimize and address \\ndisplacement related to the adverse impacts of climate change;\\n \\n51.\\n ...   \n",
       "8   FCCC/CP/2015/L.9\\n/Rev.1\\n \\n \\n9\\n \\n60.\\n \\nRecognizes\\n \\nthat the Adaptation Fund may serve the Agreement, subject to relevant \\ndecisions by the Conference of the Parties serving as the meeti...   \n",
       "9   FCCC/CP/2015/L.9\\n/Rev.1\\n \\n10\\n \\n \\n(c)\\n \\nThe assessment of technologies that are ready for transfer;\\n \\n(d)\\n \\nThe enhancement of enabling environments for and the addressing of barriers \\...   \n",
       "10  FCCC/CP/2015/L.9\\n/Rev.1\\n \\n \\n11\\n \\ninformation on capacity\\n-\\nbuilding activities and strategies of bodies established under the \\nConvention; \\n \\n(i)\\n \\nProviding guidance to the secretari...   \n",
       "11  FCCC/CP/2015/L.9\\n/Rev.1\\n \\n12\\n \\n \\ntraining, public awareness, public participation and public access to information so as to \\ne\\nnhance actions under the Agreement;\\n \\n \\nT\\nRANSPARENCY OF ...   \n",
       "12  FCCC/CP/2015/L.9\\n/Rev.1\\n \\n \\n13\\n \\n93\\n.\\n \\nAlso\\n \\nrequests\\n \\nthe Ad Hoc Working Group on the Paris Agreement in developing the \\nrecommendations fo\\nr the modalities, procedures and guid...   \n",
       "13  FCCC/CP/2015/L.9\\n/Rev.1\\n \\n14\\n \\n \\n92\\n \\nabove to future sessions of the Conference of the Parties, and that this work be \\nco\\nncluded no later than \\n2018;\\n \\n98\\n.\\n \\nDecides \\nthat the ...   \n",
       "14  FCCC/CP/2015/L.9\\n/Rev.1\\n \\n \\n15\\n \\nAgreement\\n \\ncompleting its work on such modalities and pro\\ncedures for consideration and \\nadoption by the Conference of the Parties serving as the meetin...   \n",
       "15  FCCC/CP/2015/L.9\\n/Rev.1\\n \\n16\\n \\n \\n(b)\\n \\nStriving to improve, in consultation with Parties, access to and participation \\nin this process by developing country Par\\nty and non\\n-\\nParty expe...   \n",
       "16  FCCC/CP/2015/L.9\\n/Rev.1\\n \\n \\n17\\n \\ngoal of jointly providing USD 100 billion annually by 2020 for mitigation and adaptation \\nwhile significantly increasing adaptation\\n \\nfinance from current...   \n",
       "17  FCCC/CP/2015/L.9\\n/Rev.1\\n \\n18\\n \\n \\n(a)\\n \\nWorking with the Executive Secretary and the current and incoming \\nPresidents of the Conference of the Parties to co\\nordinate the annual high\\n-\\nl...   \n",
       "18  FCCC/CP/2015/L.9\\n/Rev.1\\n \\n \\n19\\n \\n130\\n.\\n \\nRequests\\n \\nthe secretariat to support the technical examination pr\\nocess referred to in \\nparagraph \\n125\\n \\nabove by:\\n \\n(a) \\n \\nOrganizing...   \n",
       "19                                        FCCC/CP/2015/L.9\\n/Rev.1\\n \\n20\\n \\n \\n140\\n. \\n \\nUrges \\nParties to make voluntary contributions for t\\nhe timely implementation of this \\ndecision.\\n \\n \\n \\n   \n",
       "20  FCCC/CP/2015/L.9\\n \\n \\n21\\n \\nAnnex\\n \\nPARIS \\nAGREEMENT \\n \\n \\nThe Parties to this Agreement,\\n \\nBei\\nn\\ng\\n \\nP\\na\\nr\\nties\\n \\nto\\n \\nt\\nh\\ne\\n \\nU\\nn\\nited\\n \\nN\\nati\\no\\nn\\ns\\n \\nFr\\na\\nm...   \n",
       "21  FCCC/CP/2015/L.9\\n/Rev.1\\n \\n22\\n \\n \\nArticle 1 \\n \\nFor the purpose of this Agreement, the definitions contained in Article 1 of the Convention shall apply. In \\naddition:\\n \\n1.\\n \\n\\nn New Yor...   \n",
       "22  FCCC/CP/2015/L.9\\n \\n \\n23\\n \\n6\\n.\\n \\nThe least developed countries and small island developing States may prepare and communicate strategies, plans \\nand actions for low greenhouse gas emission...   \n",
       "23  FCCC/CP/2015/L.9\\n/Rev.1\\n \\n24\\n \\n \\nstocks in developing countries; and alternative policy approaches, such as joint mitigation and adaptation \\napproaches for the integral and sustainable ma\\n...   \n",
       "24  FCCC/CP/2015/L.9\\n \\n \\n25\\n \\nArticle 7\\n \\n1.\\n \\nParties hereby establish the global goal on adaptation of enhancing adaptive capacity, strengthening r\\nesilience \\nand reducing vulnerability t...   \n",
       "25  FCCC/CP/2015/L.9\\n/Rev.1\\n \\n26\\n \\n \\n10.\\n \\nEach Party should, as appropriate, submit and update periodically an adaptation communication, which may \\ninclude its priorities, implementation and...   \n",
       "26  FCCC/CP/2015/L.9\\n \\n \\n27\\n \\nthrough a variety of actions, including supporting country\\n-\\ndriven strategies, and taking int\\no account the needs \\nand priorities of developing country Parties....   \n",
       "27  FCCC/CP/2015/L.9\\n/Rev.1\\n \\n28\\n \\n \\neffective climate change action, including, inter alia, to implement adaptation and mitigation actions, and shoul\\nd \\nfacilitate technology development, dis...   \n",
       "28  FCCC/CP/2015/L.9\\n \\n \\n29\\n \\n(a)\\n \\nA national inventory report of anthropogenic emissions by sources and removals by sinks of greenhouse \\ngases, prepared using good practice methodologies acc...   \n",
       "29  FCCC/CP/2015/L.9\\n/Rev.1\\n \\n30\\n \\n \\n3.\\n \\nThe committee shall operate under the modalities and procedures adopted by the Conference of the Parties \\nserving as the meeting of the Parties to th...   \n",
       "30  FCCC/CP/2015/L.9\\n \\n \\n31\\n \\nArticle\\n \\n18\\n \\n \\n1.\\n \\nThe Subsidiary Body for Scientific and Technological Advice and the Subsidiary Body for Implementation \\nestablished by Articles 9 and 1...   \n",
       "31  FCCC/CP/2015/L.9\\n/Rev.1\\n \\n32\\n \\n \\nthis Agreement shall enter into force on the thirtieth day \\nafter the date of deposit by such State or regional \\neconomic integration organization of its i...   \n",
       "\n",
       "             source  \n",
       "0   data/l09r01.pdf  \n",
       "1   data/l09r01.pdf  \n",
       "2   data/l09r01.pdf  \n",
       "3   data/l09r01.pdf  \n",
       "4   data/l09r01.pdf  \n",
       "5   data/l09r01.pdf  \n",
       "6   data/l09r01.pdf  \n",
       "7   data/l09r01.pdf  \n",
       "8   data/l09r01.pdf  \n",
       "9   data/l09r01.pdf  \n",
       "10  data/l09r01.pdf  \n",
       "11  data/l09r01.pdf  \n",
       "12  data/l09r01.pdf  \n",
       "13  data/l09r01.pdf  \n",
       "14  data/l09r01.pdf  \n",
       "15  data/l09r01.pdf  \n",
       "16  data/l09r01.pdf  \n",
       "17  data/l09r01.pdf  \n",
       "18  data/l09r01.pdf  \n",
       "19  data/l09r01.pdf  \n",
       "20  data/l09r01.pdf  \n",
       "21  data/l09r01.pdf  \n",
       "22  data/l09r01.pdf  \n",
       "23  data/l09r01.pdf  \n",
       "24  data/l09r01.pdf  \n",
       "25  data/l09r01.pdf  \n",
       "26  data/l09r01.pdf  \n",
       "27  data/l09r01.pdf  \n",
       "28  data/l09r01.pdf  \n",
       "29  data/l09r01.pdf  \n",
       "30  data/l09r01.pdf  \n",
       "31  data/l09r01.pdf  "
      ]
     },
     "execution_count": 37,
     "metadata": {},
     "output_type": "execute_result"
    }
   ],
   "source": [
    "extract_pages('data/l09r01.pdf')"
   ]
  },
  {
   "cell_type": "markdown",
   "metadata": {},
   "source": [
    "## Plain text files"
   ]
  },
  {
   "cell_type": "markdown",
   "metadata": {},
   "source": [
    "Plain text files can be opened and contents stored in a string."
   ]
  },
  {
   "cell_type": "code",
   "execution_count": 54,
   "metadata": {},
   "outputs": [],
   "source": [
    "filename = 'lyrics/ani-difranco_grand-canyon.txt'"
   ]
  },
  {
   "cell_type": "code",
   "execution_count": 58,
   "metadata": {},
   "outputs": [],
   "source": [
    "text = open(filename,'r').read()"
   ]
  },
  {
   "cell_type": "code",
   "execution_count": 56,
   "metadata": {},
   "outputs": [
    {
     "data": {
      "text/plain": [
       "'I love my country\\nBy which I mean\\nI am indebted joyfully\\nTo all the people throughout its history\\nWho have fought the government to make right\\nWhere so many cunning sons and daughters\\nOur fore mothers and forefathers\\nCame singing through slaughter\\nCa'"
      ]
     },
     "execution_count": 56,
     "metadata": {},
     "output_type": "execute_result"
    }
   ],
   "source": [
    "text[:250]"
   ]
  },
  {
   "cell_type": "markdown",
   "metadata": {},
   "source": [
    "The above method does not scale well, as Python keeps the file open until you close it. Leaving it open creates memory problems when opening hundreds or thousands of files, so the preferred way to open files is using `with`:"
   ]
  },
  {
   "cell_type": "code",
   "execution_count": 59,
   "metadata": {},
   "outputs": [],
   "source": [
    "with open(filename, 'r') as infile:\n",
    "    text = infile.read()"
   ]
  },
  {
   "cell_type": "code",
   "execution_count": 60,
   "metadata": {},
   "outputs": [
    {
     "data": {
      "text/plain": [
       "'I love my country\\nBy which I mean\\nI am indebted joyfully\\nTo all the people throughout its history\\nWho have fought the government to make right\\nWhere so many cunning sons and daughters\\nOur fore mothers and forefathers\\nCame singing through slaughter\\nCa'"
      ]
     },
     "execution_count": 60,
     "metadata": {},
     "output_type": "execute_result"
    }
   ],
   "source": [
    "text[:250]"
   ]
  },
  {
   "cell_type": "markdown",
   "metadata": {},
   "source": [
    "## Loading multiple files"
   ]
  },
  {
   "cell_type": "code",
   "execution_count": 38,
   "metadata": {},
   "outputs": [],
   "source": [
    "from glob import glob"
   ]
  },
  {
   "cell_type": "code",
   "execution_count": 44,
   "metadata": {},
   "outputs": [
    {
     "data": {
      "text/plain": [
       "['lyrics/the-byrds_dolphin-s-smile.txt',\n",
       " 'lyrics/barclay-james-harvest_in-memory-of-the-martyrs.txt',\n",
       " 'lyrics/five-man-electrical-band_you-and-i.txt',\n",
       " 'lyrics/cd9_amiga.txt',\n",
       " 'lyrics/carnage_rari.txt',\n",
       " 'lyrics/adiva_letting-go.txt',\n",
       " 'lyrics/aygun-kaza-mova_sevdi-urek.txt',\n",
       " 'lyrics/die-toten-hosen_kanzler-sein.txt',\n",
       " 'lyrics/esham_hoe-role.txt',\n",
       " 'lyrics/delgadillo-fernando_buenas-intenciones.txt',\n",
       " 'lyrics/ani-difranco_grand-canyon.txt',\n",
       " 'lyrics/einstuerzende-neubauten_installation-no1.txt',\n",
       " 'lyrics/britny-fox_midnight-moses.txt',\n",
       " 'lyrics/emf_ballad-o-the-bishop.txt',\n",
       " 'lyrics/game_cats-and-dogs.txt',\n",
       " 'lyrics/dave-mason_what-do-we-got-here.txt',\n",
       " 'lyrics/architects_gone-with-the-wind.txt',\n",
       " 'lyrics/the-atlicic_skin.txt',\n",
       " 'lyrics/amos-lee_wait-up-for-me.txt',\n",
       " 'lyrics/elevation-worship_undivided.txt',\n",
       " 'lyrics/damnwells_she-goes-down.txt',\n",
       " 'lyrics/cassius_cassius-1999.txt',\n",
       " 'lyrics/fool-s-gold_balmy.txt',\n",
       " 'lyrics/chamillionaire_slow-city-don.txt',\n",
       " 'lyrics/blood-on-the-dance-floor_you-done-goofed.txt',\n",
       " 'lyrics/b-b-king_sweet-sixteen-pt2.txt',\n",
       " 'lyrics/gem-club_i-heard-the-party.txt',\n",
       " 'lyrics/discharge_visions-of-war.txt',\n",
       " 'lyrics/enrique-bunbury_infinito.txt',\n",
       " 'lyrics/chelly_guilty-crown-euterpe.txt',\n",
       " 'lyrics/bobby-valentino_thank-you-lord-outro.txt',\n",
       " 'lyrics/big-tymers_how-you-luv-that.txt',\n",
       " 'lyrics/dar-williams_spring-street.txt',\n",
       " 'lyrics/abyssos_worthless-soul-for-sale.txt',\n",
       " 'lyrics/antonio-orozco_suspiros-sin-pasimao-n.txt',\n",
       " 'lyrics/frank-zappa_no-waiting-for-the-peanuts-to-dissolve.txt',\n",
       " 'lyrics/deltron-3030_madness.txt',\n",
       " 'lyrics/flipboy_angels-usually-don-t-reach-earth-yet.txt',\n",
       " 'lyrics/dennis-brown_have-you-ever-been-in-love.txt',\n",
       " 'lyrics/eddy-arnold_prayer.txt',\n",
       " 'lyrics/exploited_fuck-religion.txt',\n",
       " 'lyrics/flaming-lips_assassination-of-the-sun.txt',\n",
       " 'lyrics/ac-dc_decibel.txt',\n",
       " 'lyrics/eidieu-e-ooo_iioioeee.txt',\n",
       " 'lyrics/diana-ross-the-supremes_mother-dear.txt',\n",
       " 'lyrics/the-carpenters_christ-is-born.txt',\n",
       " 'lyrics/fall_bonkers-in-phoenix.txt',\n",
       " 'lyrics/a-day-to-remember_byou-should-ve-killed-me-when-you-had-the-chance.txt',\n",
       " 'lyrics/gerry-rafferty_when-i-rest.txt',\n",
       " 'lyrics/childish-gambino_i-flight-of-the-navigator.txt',\n",
       " 'lyrics/cardigans_and-then-you-kissed-me.txt',\n",
       " 'lyrics/andrew-duncan-brown_life-on-doubtin.txt',\n",
       " 'lyrics/brooke-white_be-careful.txt',\n",
       " 'lyrics/dani-moreno_break-it.txt',\n",
       " 'lyrics/church_youth-worshipper.txt',\n",
       " 'lyrics/abraham-mateo_torture.txt',\n",
       " 'lyrics/broken-hope_i-am-god.txt',\n",
       " 'lyrics/fats-domino_margie.txt',\n",
       " 'lyrics/car-is-on-fire_we-re-doing-fine-minerva.txt',\n",
       " 'lyrics/the-conells_glade.txt',\n",
       " 'lyrics/aimee-mann_today-s-the-day.txt',\n",
       " 'lyrics/family-force-5_whatcha-gonna-do-with-it.txt',\n",
       " 'lyrics/busta-rhymes_cake-remix.txt',\n",
       " 'lyrics/cinerama_london.txt',\n",
       " 'lyrics/bob-geldof_one-for-me.txt',\n",
       " 'lyrics/bad-religion_the-dichotomy.txt',\n",
       " 'lyrics/boeijen-frank_twee-mannen-zo-stil.txt',\n",
       " 'lyrics/gordon-lightfoot_forgive-me-lord.txt',\n",
       " 'lyrics/fats-domino_telling-lies.txt',\n",
       " 'lyrics/diabolic_suffolk-s-most-wanted.txt',\n",
       " 'lyrics/bliss-n-eso_at-midnight.txt',\n",
       " 'lyrics/blondie_will-anything-happen.txt',\n",
       " 'lyrics/glen-campbell_friends.txt',\n",
       " 'lyrics/abc_the-night-you-murdered-love.txt',\n",
       " 'lyrics/anna-vissi_vaterlo.txt']"
      ]
     },
     "execution_count": 44,
     "metadata": {},
     "output_type": "execute_result"
    }
   ],
   "source": [
    "glob('lyrics/*.txt')"
   ]
  },
  {
   "cell_type": "code",
   "execution_count": 62,
   "metadata": {},
   "outputs": [],
   "source": [
    "filename_list = glob('lyrics/*')"
   ]
  },
  {
   "cell_type": "code",
   "execution_count": 63,
   "metadata": {},
   "outputs": [],
   "source": [
    "lyrics_list = []\n",
    "for filename in filename_list:\n",
    "    with open(filename, 'r') as infile:\n",
    "        text = infile.read()\n",
    "        \n",
    "    info = {'filename' : filename,\n",
    "            'lyrics'   : text}\n",
    "    \n",
    "    lyrics_list.append(info)"
   ]
  },
  {
   "cell_type": "code",
   "execution_count": 66,
   "metadata": {},
   "outputs": [
    {
     "data": {
      "text/html": [
       "<div>\n",
       "<style scoped>\n",
       "    .dataframe tbody tr th:only-of-type {\n",
       "        vertical-align: middle;\n",
       "    }\n",
       "\n",
       "    .dataframe tbody tr th {\n",
       "        vertical-align: top;\n",
       "    }\n",
       "\n",
       "    .dataframe thead th {\n",
       "        text-align: right;\n",
       "    }\n",
       "</style>\n",
       "<table border=\"1\" class=\"dataframe\">\n",
       "  <thead>\n",
       "    <tr style=\"text-align: right;\">\n",
       "      <th></th>\n",
       "      <th>filename</th>\n",
       "      <th>lyrics</th>\n",
       "    </tr>\n",
       "  </thead>\n",
       "  <tbody>\n",
       "    <tr>\n",
       "      <th>0</th>\n",
       "      <td>lyrics/the-byrds_dolphin-s-smile.txt</td>\n",
       "      <td>Out at sea for a year\\nFloating free from all fear\\nEvery day blowin' spray\\nIn a dolphin's smile\\nWind-taut line split the sky\\nCurlin' crest rollin' by\\nFloating free aimlessly\\nIn a dolphin's s...</td>\n",
       "    </tr>\n",
       "    <tr>\n",
       "      <th>1</th>\n",
       "      <td>lyrics/barclay-james-harvest_in-memory-of-the-martyrs.txt</td>\n",
       "      <td>Life is like a tall ship\\nDrifting gently from the shore\\nTime is like a fair wind\\nWith a lifetime to explore.\\nThe beauty that surrounds you\\nWas meant to be adored\\nThe problems that surround y...</td>\n",
       "    </tr>\n",
       "    <tr>\n",
       "      <th>2</th>\n",
       "      <td>lyrics/five-man-electrical-band_you-and-i.txt</td>\n",
       "      <td>CHORUS:\\nWhen a butterfly flies by my window,\\nAnd I can see which way the wind blows.\\nOnly you and I know,\\nYou and I, butterfly.\\nGot a pillow under my mind yeah.\\nBelieve that woman to be a co...</td>\n",
       "    </tr>\n",
       "    <tr>\n",
       "      <th>3</th>\n",
       "      <td>lyrics/cd9_amiga.txt</td>\n",
       "      <td></td>\n",
       "    </tr>\n",
       "    <tr>\n",
       "      <th>4</th>\n",
       "      <td>lyrics/carnage_rari.txt</td>\n",
       "      <td>[Hook: Famous Dex]\\nI just bought me a Ferrari\\nI just bought me a Ferrari\\nI just bought me a Ferrari\\nI just pulled up in a Rari\\nFucked a little bitch in a Rari\\nMy diamonds they blind you, I'm...</td>\n",
       "    </tr>\n",
       "  </tbody>\n",
       "</table>\n",
       "</div>"
      ],
      "text/plain": [
       "                                                    filename  \\\n",
       "0                       lyrics/the-byrds_dolphin-s-smile.txt   \n",
       "1  lyrics/barclay-james-harvest_in-memory-of-the-martyrs.txt   \n",
       "2              lyrics/five-man-electrical-band_you-and-i.txt   \n",
       "3                                       lyrics/cd9_amiga.txt   \n",
       "4                                    lyrics/carnage_rari.txt   \n",
       "\n",
       "                                                                                                                                                                                                    lyrics  \n",
       "0  Out at sea for a year\\nFloating free from all fear\\nEvery day blowin' spray\\nIn a dolphin's smile\\nWind-taut line split the sky\\nCurlin' crest rollin' by\\nFloating free aimlessly\\nIn a dolphin's s...  \n",
       "1  Life is like a tall ship\\nDrifting gently from the shore\\nTime is like a fair wind\\nWith a lifetime to explore.\\nThe beauty that surrounds you\\nWas meant to be adored\\nThe problems that surround y...  \n",
       "2  CHORUS:\\nWhen a butterfly flies by my window,\\nAnd I can see which way the wind blows.\\nOnly you and I know,\\nYou and I, butterfly.\\nGot a pillow under my mind yeah.\\nBelieve that woman to be a co...  \n",
       "3                                                                                                                                                                                                           \n",
       "4  [Hook: Famous Dex]\\nI just bought me a Ferrari\\nI just bought me a Ferrari\\nI just bought me a Ferrari\\nI just pulled up in a Rari\\nFucked a little bitch in a Rari\\nMy diamonds they blind you, I'm...  "
      ]
     },
     "execution_count": 66,
     "metadata": {},
     "output_type": "execute_result"
    }
   ],
   "source": [
    "lyrics_df = pd.DataFrame(lyrics_list)\n",
    "\n",
    "lyrics_df.head()"
   ]
  },
  {
   "cell_type": "markdown",
   "metadata": {},
   "source": [
    "If you had subdirectories, you can modify your glob statement using `**` and `recursive=True`."
   ]
  },
  {
   "cell_type": "code",
   "execution_count": 71,
   "metadata": {},
   "outputs": [
    {
     "data": {
      "text/plain": [
       "['lyrics/the-byrds_dolphin-s-smile.txt',\n",
       " 'lyrics/barclay-james-harvest_in-memory-of-the-martyrs.txt',\n",
       " 'lyrics/five-man-electrical-band_you-and-i.txt',\n",
       " 'lyrics/cd9_amiga.txt',\n",
       " 'lyrics/carnage_rari.txt',\n",
       " 'lyrics/adiva_letting-go.txt',\n",
       " 'lyrics/aygun-kaza-mova_sevdi-urek.txt',\n",
       " 'lyrics/die-toten-hosen_kanzler-sein.txt',\n",
       " 'lyrics/esham_hoe-role.txt',\n",
       " 'lyrics/delgadillo-fernando_buenas-intenciones.txt',\n",
       " 'lyrics/ani-difranco_grand-canyon.txt',\n",
       " 'lyrics/einstuerzende-neubauten_installation-no1.txt',\n",
       " 'lyrics/britny-fox_midnight-moses.txt',\n",
       " 'lyrics/emf_ballad-o-the-bishop.txt',\n",
       " 'lyrics/game_cats-and-dogs.txt',\n",
       " 'lyrics/dave-mason_what-do-we-got-here.txt',\n",
       " 'lyrics/architects_gone-with-the-wind.txt',\n",
       " 'lyrics/the-atlicic_skin.txt',\n",
       " 'lyrics/amos-lee_wait-up-for-me.txt',\n",
       " 'lyrics/elevation-worship_undivided.txt',\n",
       " 'lyrics/damnwells_she-goes-down.txt',\n",
       " 'lyrics/cassius_cassius-1999.txt',\n",
       " 'lyrics/fool-s-gold_balmy.txt',\n",
       " 'lyrics/chamillionaire_slow-city-don.txt',\n",
       " 'lyrics/blood-on-the-dance-floor_you-done-goofed.txt',\n",
       " 'lyrics/b-b-king_sweet-sixteen-pt2.txt',\n",
       " 'lyrics/gem-club_i-heard-the-party.txt',\n",
       " 'lyrics/discharge_visions-of-war.txt',\n",
       " 'lyrics/enrique-bunbury_infinito.txt',\n",
       " 'lyrics/chelly_guilty-crown-euterpe.txt',\n",
       " 'lyrics/bobby-valentino_thank-you-lord-outro.txt',\n",
       " 'lyrics/big-tymers_how-you-luv-that.txt',\n",
       " 'lyrics/dar-williams_spring-street.txt',\n",
       " 'lyrics/abyssos_worthless-soul-for-sale.txt',\n",
       " 'lyrics/antonio-orozco_suspiros-sin-pasimao-n.txt',\n",
       " 'lyrics/frank-zappa_no-waiting-for-the-peanuts-to-dissolve.txt',\n",
       " 'lyrics/deltron-3030_madness.txt',\n",
       " 'lyrics/flipboy_angels-usually-don-t-reach-earth-yet.txt',\n",
       " 'lyrics/dennis-brown_have-you-ever-been-in-love.txt',\n",
       " 'lyrics/eddy-arnold_prayer.txt',\n",
       " 'lyrics/exploited_fuck-religion.txt',\n",
       " 'lyrics/flaming-lips_assassination-of-the-sun.txt',\n",
       " 'lyrics/ac-dc_decibel.txt',\n",
       " 'lyrics/eidieu-e-ooo_iioioeee.txt',\n",
       " 'lyrics/diana-ross-the-supremes_mother-dear.txt',\n",
       " 'lyrics/the-carpenters_christ-is-born.txt',\n",
       " 'lyrics/fall_bonkers-in-phoenix.txt',\n",
       " 'lyrics/a-day-to-remember_byou-should-ve-killed-me-when-you-had-the-chance.txt',\n",
       " 'lyrics/gerry-rafferty_when-i-rest.txt',\n",
       " 'lyrics/childish-gambino_i-flight-of-the-navigator.txt',\n",
       " 'lyrics/cardigans_and-then-you-kissed-me.txt',\n",
       " 'lyrics/andrew-duncan-brown_life-on-doubtin.txt',\n",
       " 'lyrics/brooke-white_be-careful.txt',\n",
       " 'lyrics/dani-moreno_break-it.txt',\n",
       " 'lyrics/church_youth-worshipper.txt',\n",
       " 'lyrics/abraham-mateo_torture.txt',\n",
       " 'lyrics/broken-hope_i-am-god.txt',\n",
       " 'lyrics/fats-domino_margie.txt',\n",
       " 'lyrics/car-is-on-fire_we-re-doing-fine-minerva.txt',\n",
       " 'lyrics/the-conells_glade.txt',\n",
       " 'lyrics/aimee-mann_today-s-the-day.txt',\n",
       " 'lyrics/family-force-5_whatcha-gonna-do-with-it.txt',\n",
       " 'lyrics/busta-rhymes_cake-remix.txt',\n",
       " 'lyrics/cinerama_london.txt',\n",
       " 'lyrics/bob-geldof_one-for-me.txt',\n",
       " 'lyrics/bad-religion_the-dichotomy.txt',\n",
       " 'lyrics/boeijen-frank_twee-mannen-zo-stil.txt',\n",
       " 'lyrics/gordon-lightfoot_forgive-me-lord.txt',\n",
       " 'lyrics/fats-domino_telling-lies.txt',\n",
       " 'lyrics/diabolic_suffolk-s-most-wanted.txt',\n",
       " 'lyrics/bliss-n-eso_at-midnight.txt',\n",
       " 'lyrics/blondie_will-anything-happen.txt',\n",
       " 'lyrics/glen-campbell_friends.txt',\n",
       " 'lyrics/abc_the-night-you-murdered-love.txt',\n",
       " 'lyrics/anna-vissi_vaterlo.txt',\n",
       " 'data/negative_words_nl.txt',\n",
       " 'data/positive_words_nl.txt']"
      ]
     },
     "execution_count": 71,
     "metadata": {},
     "output_type": "execute_result"
    }
   ],
   "source": [
    "glob('**/*.txt', recursive=True)"
   ]
  },
  {
   "cell_type": "code",
   "execution_count": null,
   "metadata": {},
   "outputs": [],
   "source": []
  }
 ],
 "metadata": {
  "kernelspec": {
   "display_name": "Python 3",
   "language": "python",
   "name": "python3"
  },
  "language_info": {
   "codemirror_mode": {
    "name": "ipython",
    "version": 3
   },
   "file_extension": ".py",
   "mimetype": "text/x-python",
   "name": "python",
   "nbconvert_exporter": "python",
   "pygments_lexer": "ipython3",
   "version": "3.6.8"
  }
 },
 "nbformat": 4,
 "nbformat_minor": 2
}
