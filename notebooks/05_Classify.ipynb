{
 "cells": [
  {
   "cell_type": "markdown",
   "metadata": {
    "slideshow": {
     "slide_type": "slide"
    }
   },
   "source": [
    "### Text Classification"
   ]
  },
  {
   "cell_type": "code",
   "execution_count": 1,
   "metadata": {
    "slideshow": {
     "slide_type": "slide"
    }
   },
   "outputs": [],
   "source": [
    "%matplotlib inline\n",
    "\n",
    "import pandas as pd"
   ]
  },
  {
   "cell_type": "code",
   "execution_count": 2,
   "metadata": {
    "slideshow": {
     "slide_type": "slide"
    }
   },
   "outputs": [],
   "source": [
    "#https://www.kaggle.com/zynicide/wine-reviews/data\n",
    "\n",
    "wine_df = pd.read_csv('data/wine_reviews.csv')\n"
   ]
  },
  {
   "cell_type": "code",
   "execution_count": 3,
   "metadata": {
    "slideshow": {
     "slide_type": "fragment"
    }
   },
   "outputs": [
    {
     "data": {
      "text/plain": [
       "87     16933\n",
       "86     12600\n",
       "91     11359\n",
       "92      9613\n",
       "85      9530\n",
       "93      6489\n",
       "84      6480\n",
       "94      3758\n",
       "83      3025\n",
       "82      1836\n",
       "95      1535\n",
       "81       692\n",
       "96       523\n",
       "80       397\n",
       "97       229\n",
       "98        77\n",
       "99        33\n",
       "100       19\n",
       "Name: points, dtype: int64"
      ]
     },
     "execution_count": 3,
     "metadata": {},
     "output_type": "execute_result"
    }
   ],
   "source": [
    "wine_df['points'].value_counts()"
   ]
  },
  {
   "cell_type": "code",
   "execution_count": 4,
   "metadata": {
    "slideshow": {
     "slide_type": "slide"
    }
   },
   "outputs": [
    {
     "data": {
      "text/plain": [
       "0    Aromas include tropical fruit, broom, brimston...\n",
       "1    This is ripe and fruity, a wine that is smooth...\n",
       "2    Tart and snappy, the flavors of lime flesh and...\n",
       "3    Pineapple rind, lemon pith and orange blossom ...\n",
       "4    Much like the regular bottling from 2012, this...\n",
       "Name: description, dtype: object"
      ]
     },
     "execution_count": 4,
     "metadata": {},
     "output_type": "execute_result"
    }
   ],
   "source": [
    "wine_df['description'][:5]"
   ]
  },
  {
   "cell_type": "markdown",
   "metadata": {
    "slideshow": {
     "slide_type": "slide"
    }
   },
   "source": [
    "![google_search.png](images/google_search.png)"
   ]
  },
  {
   "cell_type": "code",
   "execution_count": 5,
   "metadata": {
    "slideshow": {
     "slide_type": "slide"
    }
   },
   "outputs": [],
   "source": [
    "pd.set_option('display.max_colwidth', 120)\n",
    "\n"
   ]
  },
  {
   "cell_type": "code",
   "execution_count": 6,
   "metadata": {
    "slideshow": {
     "slide_type": "slide"
    }
   },
   "outputs": [
    {
     "data": {
      "text/plain": [
       "0    Aromas include tropical fruit, broom, brimstone and dried herb. The palate isn't overly expressive, offering unripen...\n",
       "1    This is ripe and fruity, a wine that is smooth while still structured. Firm tannins are filled out with juicy red be...\n",
       "2    Tart and snappy, the flavors of lime flesh and rind dominate. Some green pineapple pokes through, with crisp acidity...\n",
       "3    Pineapple rind, lemon pith and orange blossom start off the aromas. The palate is a bit more opulent, with notes of ...\n",
       "4    Much like the regular bottling from 2012, this comes across as rather rough and tannic, with rustic, earthy, herbal ...\n",
       "Name: description, dtype: object"
      ]
     },
     "execution_count": 6,
     "metadata": {},
     "output_type": "execute_result"
    }
   ],
   "source": [
    "wine_df['description'][:5]"
   ]
  },
  {
   "cell_type": "code",
   "execution_count": 7,
   "metadata": {
    "slideshow": {
     "slide_type": "slide"
    }
   },
   "outputs": [
    {
     "data": {
      "text/html": [
       "<div>\n",
       "<style scoped>\n",
       "    .dataframe tbody tr th:only-of-type {\n",
       "        vertical-align: middle;\n",
       "    }\n",
       "\n",
       "    .dataframe tbody tr th {\n",
       "        vertical-align: top;\n",
       "    }\n",
       "\n",
       "    .dataframe thead th {\n",
       "        text-align: right;\n",
       "    }\n",
       "</style>\n",
       "<table border=\"1\" class=\"dataframe\">\n",
       "  <thead>\n",
       "    <tr style=\"text-align: right;\">\n",
       "      <th></th>\n",
       "      <th>Unnamed: 0</th>\n",
       "      <th>country</th>\n",
       "      <th>description</th>\n",
       "      <th>designation</th>\n",
       "      <th>points</th>\n",
       "      <th>price</th>\n",
       "      <th>province</th>\n",
       "      <th>region_1</th>\n",
       "      <th>region_2</th>\n",
       "      <th>taster_name</th>\n",
       "      <th>taster_twitter_handle</th>\n",
       "      <th>title</th>\n",
       "      <th>variety</th>\n",
       "      <th>winery</th>\n",
       "      <th>rating</th>\n",
       "    </tr>\n",
       "  </thead>\n",
       "  <tbody>\n",
       "    <tr>\n",
       "      <th>0</th>\n",
       "      <td>0</td>\n",
       "      <td>Italy</td>\n",
       "      <td>Aromas include tropical fruit, broom, brimstone and dried herb. The palate isn't overly expressive, offering unripen...</td>\n",
       "      <td>Vulkà Bianco</td>\n",
       "      <td>87</td>\n",
       "      <td>NaN</td>\n",
       "      <td>Sicily &amp; Sardinia</td>\n",
       "      <td>Etna</td>\n",
       "      <td>NaN</td>\n",
       "      <td>Kerin O’Keefe</td>\n",
       "      <td>@kerinokeefe</td>\n",
       "      <td>Nicosia 2013 Vulkà Bianco  (Etna)</td>\n",
       "      <td>White Blend</td>\n",
       "      <td>Nicosia</td>\n",
       "      <td>Low</td>\n",
       "    </tr>\n",
       "    <tr>\n",
       "      <th>1</th>\n",
       "      <td>1</td>\n",
       "      <td>Portugal</td>\n",
       "      <td>This is ripe and fruity, a wine that is smooth while still structured. Firm tannins are filled out with juicy red be...</td>\n",
       "      <td>Avidagos</td>\n",
       "      <td>87</td>\n",
       "      <td>15.0</td>\n",
       "      <td>Douro</td>\n",
       "      <td>NaN</td>\n",
       "      <td>NaN</td>\n",
       "      <td>Roger Voss</td>\n",
       "      <td>@vossroger</td>\n",
       "      <td>Quinta dos Avidagos 2011 Avidagos Red (Douro)</td>\n",
       "      <td>Portuguese Red</td>\n",
       "      <td>Quinta dos Avidagos</td>\n",
       "      <td>Low</td>\n",
       "    </tr>\n",
       "    <tr>\n",
       "      <th>2</th>\n",
       "      <td>2</td>\n",
       "      <td>US</td>\n",
       "      <td>Tart and snappy, the flavors of lime flesh and rind dominate. Some green pineapple pokes through, with crisp acidity...</td>\n",
       "      <td>NaN</td>\n",
       "      <td>87</td>\n",
       "      <td>14.0</td>\n",
       "      <td>Oregon</td>\n",
       "      <td>Willamette Valley</td>\n",
       "      <td>Willamette Valley</td>\n",
       "      <td>Paul Gregutt</td>\n",
       "      <td>@paulgwine</td>\n",
       "      <td>Rainstorm 2013 Pinot Gris (Willamette Valley)</td>\n",
       "      <td>Pinot Gris</td>\n",
       "      <td>Rainstorm</td>\n",
       "      <td>Low</td>\n",
       "    </tr>\n",
       "    <tr>\n",
       "      <th>3</th>\n",
       "      <td>3</td>\n",
       "      <td>US</td>\n",
       "      <td>Pineapple rind, lemon pith and orange blossom start off the aromas. The palate is a bit more opulent, with notes of ...</td>\n",
       "      <td>Reserve Late Harvest</td>\n",
       "      <td>87</td>\n",
       "      <td>13.0</td>\n",
       "      <td>Michigan</td>\n",
       "      <td>Lake Michigan Shore</td>\n",
       "      <td>NaN</td>\n",
       "      <td>Alexander Peartree</td>\n",
       "      <td>NaN</td>\n",
       "      <td>St. Julian 2013 Reserve Late Harvest Riesling (Lake Michigan Shore)</td>\n",
       "      <td>Riesling</td>\n",
       "      <td>St. Julian</td>\n",
       "      <td>Low</td>\n",
       "    </tr>\n",
       "    <tr>\n",
       "      <th>4</th>\n",
       "      <td>4</td>\n",
       "      <td>US</td>\n",
       "      <td>Much like the regular bottling from 2012, this comes across as rather rough and tannic, with rustic, earthy, herbal ...</td>\n",
       "      <td>Vintner's Reserve Wild Child Block</td>\n",
       "      <td>87</td>\n",
       "      <td>65.0</td>\n",
       "      <td>Oregon</td>\n",
       "      <td>Willamette Valley</td>\n",
       "      <td>Willamette Valley</td>\n",
       "      <td>Paul Gregutt</td>\n",
       "      <td>@paulgwine</td>\n",
       "      <td>Sweet Cheeks 2012 Vintner's Reserve Wild Child Block Pinot Noir (Willamette Valley)</td>\n",
       "      <td>Pinot Noir</td>\n",
       "      <td>Sweet Cheeks</td>\n",
       "      <td>Low</td>\n",
       "    </tr>\n",
       "  </tbody>\n",
       "</table>\n",
       "</div>"
      ],
      "text/plain": [
       "   Unnamed: 0   country  \\\n",
       "0           0     Italy   \n",
       "1           1  Portugal   \n",
       "2           2        US   \n",
       "3           3        US   \n",
       "4           4        US   \n",
       "\n",
       "                                                                                                               description  \\\n",
       "0  Aromas include tropical fruit, broom, brimstone and dried herb. The palate isn't overly expressive, offering unripen...   \n",
       "1  This is ripe and fruity, a wine that is smooth while still structured. Firm tannins are filled out with juicy red be...   \n",
       "2  Tart and snappy, the flavors of lime flesh and rind dominate. Some green pineapple pokes through, with crisp acidity...   \n",
       "3  Pineapple rind, lemon pith and orange blossom start off the aromas. The palate is a bit more opulent, with notes of ...   \n",
       "4  Much like the regular bottling from 2012, this comes across as rather rough and tannic, with rustic, earthy, herbal ...   \n",
       "\n",
       "                          designation  points  price           province  \\\n",
       "0                        Vulkà Bianco      87    NaN  Sicily & Sardinia   \n",
       "1                            Avidagos      87   15.0              Douro   \n",
       "2                                 NaN      87   14.0             Oregon   \n",
       "3                Reserve Late Harvest      87   13.0           Michigan   \n",
       "4  Vintner's Reserve Wild Child Block      87   65.0             Oregon   \n",
       "\n",
       "              region_1           region_2         taster_name  \\\n",
       "0                 Etna                NaN       Kerin O’Keefe   \n",
       "1                  NaN                NaN          Roger Voss   \n",
       "2    Willamette Valley  Willamette Valley        Paul Gregutt   \n",
       "3  Lake Michigan Shore                NaN  Alexander Peartree   \n",
       "4    Willamette Valley  Willamette Valley        Paul Gregutt   \n",
       "\n",
       "  taster_twitter_handle  \\\n",
       "0          @kerinokeefe   \n",
       "1            @vossroger   \n",
       "2           @paulgwine    \n",
       "3                   NaN   \n",
       "4           @paulgwine    \n",
       "\n",
       "                                                                                 title  \\\n",
       "0                                                    Nicosia 2013 Vulkà Bianco  (Etna)   \n",
       "1                                        Quinta dos Avidagos 2011 Avidagos Red (Douro)   \n",
       "2                                        Rainstorm 2013 Pinot Gris (Willamette Valley)   \n",
       "3                  St. Julian 2013 Reserve Late Harvest Riesling (Lake Michigan Shore)   \n",
       "4  Sweet Cheeks 2012 Vintner's Reserve Wild Child Block Pinot Noir (Willamette Valley)   \n",
       "\n",
       "          variety               winery rating  \n",
       "0     White Blend              Nicosia    Low  \n",
       "1  Portuguese Red  Quinta dos Avidagos    Low  \n",
       "2      Pinot Gris            Rainstorm    Low  \n",
       "3        Riesling           St. Julian    Low  \n",
       "4      Pinot Noir         Sweet Cheeks    Low  "
      ]
     },
     "execution_count": 7,
     "metadata": {},
     "output_type": "execute_result"
    }
   ],
   "source": [
    "wine_df.head()"
   ]
  },
  {
   "cell_type": "markdown",
   "metadata": {
    "slideshow": {
     "slide_type": "slide"
    }
   },
   "source": [
    "### Turning words in to features"
   ]
  },
  {
   "cell_type": "code",
   "execution_count": 8,
   "metadata": {
    "slideshow": {
     "slide_type": "slide"
    }
   },
   "outputs": [],
   "source": [
    "from sklearn.feature_extraction.text import CountVectorizer\n"
   ]
  },
  {
   "cell_type": "markdown",
   "metadata": {
    "slideshow": {
     "slide_type": "slide"
    }
   },
   "source": [
    "# 1. Set up your model, fixing any parameters."
   ]
  },
  {
   "cell_type": "code",
   "execution_count": 9,
   "metadata": {
    "slideshow": {
     "slide_type": "slide"
    }
   },
   "outputs": [],
   "source": [
    "vectorizer = CountVectorizer(lowercase   = True,\n",
    "                             ngram_range = (1,2),\n",
    "                             stop_words  = 'english',\n",
    "                             min_df      = .01,\n",
    "                             max_features = None)"
   ]
  },
  {
   "cell_type": "markdown",
   "metadata": {
    "slideshow": {
     "slide_type": "slide"
    }
   },
   "source": [
    "# 2. Fit your model"
   ]
  },
  {
   "cell_type": "markdown",
   "metadata": {
    "slideshow": {
     "slide_type": "fragment"
    }
   },
   "source": [
    "`model.fit(X)`"
   ]
  },
  {
   "cell_type": "code",
   "execution_count": 10,
   "metadata": {
    "slideshow": {
     "slide_type": "fragment"
    }
   },
   "outputs": [
    {
     "data": {
      "text/plain": [
       "CountVectorizer(analyzer='word', binary=False, decode_error='strict',\n",
       "        dtype=<class 'numpy.int64'>, encoding='utf-8', input='content',\n",
       "        lowercase=True, max_df=1.0, max_features=None, min_df=0.01,\n",
       "        ngram_range=(1, 2), preprocessor=None, stop_words='english',\n",
       "        strip_accents=None, token_pattern='(?u)\\\\b\\\\w\\\\w+\\\\b',\n",
       "        tokenizer=None, vocabulary=None)"
      ]
     },
     "execution_count": 10,
     "metadata": {},
     "output_type": "execute_result"
    }
   ],
   "source": [
    "vectorizer.fit(wine_df['description'])"
   ]
  },
  {
   "cell_type": "markdown",
   "metadata": {
    "slideshow": {
     "slide_type": "slide"
    }
   },
   "source": [
    "# Inpsect your model"
   ]
  },
  {
   "cell_type": "code",
   "execution_count": 11,
   "metadata": {
    "slideshow": {
     "slide_type": "fragment"
    }
   },
   "outputs": [
    {
     "data": {
      "text/plain": [
       "459"
      ]
     },
     "execution_count": 11,
     "metadata": {},
     "output_type": "execute_result"
    }
   ],
   "source": [
    "len(vectorizer.get_feature_names())"
   ]
  },
  {
   "cell_type": "markdown",
   "metadata": {
    "slideshow": {
     "slide_type": "slide"
    }
   },
   "source": [
    "# 3. Create new data based on your model"
   ]
  },
  {
   "cell_type": "code",
   "execution_count": 12,
   "metadata": {
    "slideshow": {
     "slide_type": "slide"
    }
   },
   "outputs": [],
   "source": [
    "review_word_counts = vectorizer.transform(wine_df['description'])"
   ]
  },
  {
   "cell_type": "markdown",
   "metadata": {
    "slideshow": {
     "slide_type": "slide"
    }
   },
   "source": [
    "What words are associated with well-reviewed wines?"
   ]
  },
  {
   "cell_type": "code",
   "execution_count": 13,
   "metadata": {
    "slideshow": {
     "slide_type": "fragment"
    }
   },
   "outputs": [
    {
     "data": {
      "text/plain": [
       "Low     51493\n",
       "High    33635\n",
       "Name: rating, dtype: int64"
      ]
     },
     "execution_count": 13,
     "metadata": {},
     "output_type": "execute_result"
    }
   ],
   "source": [
    "wine_df['rating'].value_counts()"
   ]
  },
  {
   "cell_type": "markdown",
   "metadata": {
    "slideshow": {
     "slide_type": "slide"
    }
   },
   "source": [
    "# 1. Set up your model, fixing any parameters."
   ]
  },
  {
   "cell_type": "code",
   "execution_count": 14,
   "metadata": {
    "slideshow": {
     "slide_type": "fragment"
    }
   },
   "outputs": [],
   "source": [
    "from sklearn.naive_bayes import MultinomialNB"
   ]
  },
  {
   "cell_type": "code",
   "execution_count": 15,
   "metadata": {
    "slideshow": {
     "slide_type": "fragment"
    }
   },
   "outputs": [],
   "source": [
    "nb_classifier = MultinomialNB()\n"
   ]
  },
  {
   "cell_type": "markdown",
   "metadata": {
    "slideshow": {
     "slide_type": "slide"
    }
   },
   "source": [
    "# 2. Fit your model"
   ]
  },
  {
   "cell_type": "markdown",
   "metadata": {
    "slideshow": {
     "slide_type": "fragment"
    }
   },
   "source": [
    "`model.fit(X)`"
   ]
  },
  {
   "cell_type": "markdown",
   "metadata": {
    "slideshow": {
     "slide_type": "fragment"
    }
   },
   "source": [
    "`model.fit(X, Y)`"
   ]
  },
  {
   "cell_type": "code",
   "execution_count": 16,
   "metadata": {
    "slideshow": {
     "slide_type": "fragment"
    }
   },
   "outputs": [
    {
     "data": {
      "text/plain": [
       "MultinomialNB(alpha=1.0, class_prior=None, fit_prior=True)"
      ]
     },
     "execution_count": 16,
     "metadata": {},
     "output_type": "execute_result"
    }
   ],
   "source": [
    "nb_classifier.fit(review_word_counts, wine_df['rating'])"
   ]
  },
  {
   "cell_type": "markdown",
   "metadata": {
    "slideshow": {
     "slide_type": "slide"
    }
   },
   "source": [
    "## We have coefficients now"
   ]
  },
  {
   "cell_type": "code",
   "execution_count": 17,
   "metadata": {
    "slideshow": {
     "slide_type": "fragment"
    }
   },
   "outputs": [
    {
     "data": {
      "text/plain": [
       "array([ -7.39826323,  -7.30949531,  -7.25502175,  -7.26975498,\n",
       "        -7.45244767,  -8.25120286,  -8.95430037, -11.16157528,\n",
       "        -7.26420455,  -7.30756667,  -6.7559653 ,  -4.06953068,\n",
       "        -6.76824909,  -7.30756667,  -7.32310096,  -6.32673742,\n",
       "        -6.73836308,  -6.98998913,  -6.62507334,  -6.20831233,\n",
       "        -6.4569712 ,  -6.15701903,  -7.2279687 ,  -4.90704741,\n",
       "        -7.03005171,  -6.33544574,  -7.10427199,  -3.85358064,\n",
       "        -6.84773016,  -6.99843989,  -6.82487889,  -5.92464988,\n",
       "        -7.35088053,  -6.45944339,  -7.36506516,  -7.70439863,\n",
       "        -6.32818355,  -5.95308316,  -6.79443158,  -7.18444573,\n",
       "        -9.05966088,  -9.24198244,  -6.84287578,  -4.6896506 ,\n",
       "        -6.91308004,  -6.50588483,  -7.04032327,  -6.69566716,\n",
       "        -6.86614688,  -7.34486245,  -6.51893416,  -5.44724259,\n",
       "        -5.92223616,  -4.72455117,  -6.06004726,  -6.69149614,\n",
       "        -6.62897579,  -7.50503121,  -7.16922989,  -7.22619093,\n",
       "        -6.88490916,  -5.36000636,  -6.34643889,  -5.11506313,\n",
       "        -7.39615575,  -7.63521476,  -6.84166586,  -5.31592505,\n",
       "        -7.02422928,  -6.52508262,  -7.28659355,  -7.34486245,\n",
       "        -7.06269556,  -6.99561503,  -6.73401052,  -5.18039066,\n",
       "        -7.06874702,  -6.98998913,  -6.66480051,  -7.09177183,\n",
       "        -6.9732989 ,  -5.52257378,  -7.12813947,  -6.31953796,\n",
       "        -6.32313121,  -7.00696267,  -6.66378786,  -7.03590825,\n",
       "        -6.73727316,  -6.98998913,  -8.31244648,  -5.4194466 ,\n",
       "        -5.90124303,  -6.23498057,  -4.33937789,  -6.75264119,\n",
       "        -7.05219284,  -7.29797887,  -7.20858484,  -5.8332579 ,\n",
       "        -6.83443691,  -6.85138647,  -4.98797859,  -6.95960005,\n",
       "        -7.63789213,  -5.57024914,  -6.80253816,  -6.72751699,\n",
       "        -7.42607251,  -6.4921507 ,  -6.3486521 ,  -6.09381524,\n",
       "        -6.37635885,  -6.68423847,  -7.31142768,  -7.02422928,\n",
       "        -6.82964648,  -7.07942599,  -7.12492403,  -6.77388291,\n",
       "        -6.78296356,  -5.9183863 ,  -4.86513586,  -6.6749839 ,\n",
       "        -7.11058116,  -5.73782743,  -7.0026922 ,  -6.94340537,\n",
       "        -5.69889977,  -7.93184944,  -7.50503121,  -6.67293891,\n",
       "        -6.86367164,  -6.62312782,  -6.76153014,  -7.35088053,\n",
       "        -7.29416934,  -7.88614729,  -6.87736196,  -6.80953936,\n",
       "        -5.81101053,  -4.37280831,  -7.90698137,  -7.84573775,\n",
       "        -8.52251795,  -9.25540546,  -6.20446863,  -7.13784829,\n",
       "        -4.65592712,  -6.71678727,  -6.65371728,  -5.95806822,\n",
       "        -5.47183027,  -6.34056085,  -7.79741917,  -6.99420558,\n",
       "        -6.5446562 ,  -7.11058116,  -7.05518238,  -7.43917313,\n",
       "        -7.16420896,  -7.32702254,  -5.93241314,  -5.74224777,\n",
       "        -6.30954502,  -3.99418674,  -7.14110562,  -6.10939098,\n",
       "        -7.37120643,  -6.06726751,  -7.33095955,  -5.70237669,\n",
       "        -7.04179928,  -3.35643412,  -6.60197318,  -6.32818355,\n",
       "        -6.54106875,  -7.03297569,  -8.28647099,  -6.5573146 ,\n",
       "        -6.91568082,  -7.6595732 ,  -6.59722709,  -7.08867105,\n",
       "        -6.87610961,  -7.23870226,  -7.64326849,  -4.6860025 ,\n",
       "        -7.20684116,  -6.57382874,  -3.7787723 ,  -6.80370163,\n",
       "        -5.65034837,  -6.68114408,  -5.14364586,  -5.02012456,\n",
       "        -6.5198102 ,  -7.11375073,  -6.39940135,  -7.11375073,\n",
       "        -7.07942599,  -5.16965629,  -6.65873989,  -6.21023973,\n",
       "        -6.5868643 ,  -6.72106535,  -5.02247473,  -6.75707579,\n",
       "        -7.07026562,  -6.99985532,  -7.77872704,  -6.38245179,\n",
       "        -6.29474038,  -6.03436981,  -5.40554542,  -6.31167797,\n",
       "        -6.19429043,  -5.78000359,  -6.12108702,  -6.29194513,\n",
       "        -6.88743761,  -8.79729662,  -7.77564537,  -6.91828838,\n",
       "        -7.30180297,  -6.58874047,  -6.27054286,  -7.06269556,\n",
       "        -5.6082634 ,  -5.82491171,  -7.93184944,  -7.41528492,\n",
       "        -6.04958749,  -7.47269583,  -6.16129646,  -6.3650337 ,\n",
       "        -5.43029556,  -7.79741917,  -6.44226505,  -4.76585848,\n",
       "        -6.16190902,  -5.31961314,  -5.84971369,  -7.62193435,\n",
       "        -5.76505935,  -6.13411267,  -6.80370163,  -7.06571671,\n",
       "        -8.32836194,  -7.01125145,  -7.55065737,  -6.47524413,\n",
       "        -6.76600442,  -6.91308004,  -6.91698375,  -7.03151264,\n",
       "        -5.50844834,  -6.14851868,  -5.86918453,  -5.91455121,\n",
       "        -7.42824406,  -6.67703308,  -6.23894359,  -7.13784829,\n",
       "        -6.91698375,  -6.98998913,  -6.97054408,  -7.15755336,\n",
       "        -5.63250701,  -5.94663952,  -7.05818088,  -7.09177183,\n",
       "        -6.68011475,  -6.3501303 ,  -7.2244163 ,  -6.46357733,\n",
       "        -4.8138677 ,  -7.0026922 ,  -5.73542454,  -4.72878135,\n",
       "        -4.76222432,  -6.30954502,  -6.91828838,  -5.11656997,\n",
       "        -7.34686446,  -7.31724729,  -7.06723072,  -5.99991106,\n",
       "        -8.73115682,  -5.82885649,  -6.85016621,  -7.6192993 ,\n",
       "        -6.32313121,  -4.03461145,  -7.70439863,  -6.2153977 ,\n",
       "        -5.38448602,  -5.58184545,  -7.0995661 ,  -5.57024914,\n",
       "        -6.69985565,  -6.77049881,  -7.42824406,  -7.51209837,\n",
       "        -7.11375073,  -6.07791485,  -6.86243631,  -5.68739657,\n",
       "        -6.48366169,  -6.61153348,  -6.43418746,  -4.94406231,\n",
       "        -7.10900013,  -7.12332018,  -7.70439863,  -7.86237707,\n",
       "        -8.25120286,  -7.73347045,  -7.81646737,  -6.25562733,\n",
       "        -6.66378786,  -7.59589121,  -7.93906969,  -7.90347874,\n",
       "        -6.94206758,  -7.55065737,  -7.93184944,  -6.910486  ,\n",
       "        -6.38321602,  -7.04032327,  -7.33293388,  -5.37663184,\n",
       "        -7.25502175,  -6.85138647,  -5.73903104,  -5.86872739,\n",
       "        -4.46892774,  -6.30458574,  -6.87987137,  -6.98858759,\n",
       "        -6.39707306,  -6.85628244,  -6.27054286,  -5.36441286,\n",
       "        -6.53126912,  -6.910486  ,  -7.00127275,  -4.59592626,\n",
       "        -7.80689791,  -7.25137211,  -7.46364599,  -6.56553758,\n",
       "        -7.34286445,  -6.55186994,  -6.25967319,  -6.73184132,\n",
       "        -6.68114408,  -7.4217435 ,  -6.89506153,  -5.69083366,\n",
       "        -6.67600797,  -6.43579777,  -6.53660247,  -7.75735218,\n",
       "        -7.43260137,  -6.45614849,  -6.6182805 ,  -6.62897579,\n",
       "        -5.34798764,  -6.87861587,  -5.41160342,  -7.70726807,\n",
       "        -7.0198846 ,  -5.60299376,  -6.73945419,  -6.88870423,\n",
       "        -6.29334177,  -5.92368369,  -4.68474279,  -6.41348609,\n",
       "        -6.77954865,  -6.8988954 ,  -6.33544574,  -4.90530191,\n",
       "        -6.98579039,  -6.97606133,  -5.73542454,  -6.38474624,\n",
       "        -6.71040427,  -6.60292511,  -6.11932387,  -6.61153348,\n",
       "        -6.03598924,  -6.90660752,  -5.7511475 ,  -7.02713626,\n",
       "        -6.70300857,  -7.62457636,  -4.74662712,  -6.46274917,\n",
       "        -6.08243208,  -6.94608633,  -6.37787861,  -5.73542454,\n",
       "        -7.06874702,  -4.44004006,  -5.64741366,  -6.70406175,\n",
       "        -5.82360023,  -7.32114593,  -5.30001236,  -6.98439471,\n",
       "        -6.17796866,  -8.12139124,  -6.74602595,  -6.05178048,\n",
       "        -6.66987924,  -6.83203883,  -6.43660389,  -6.86614688,\n",
       "        -6.57382874,  -5.36856167,  -7.31530365,  -6.09438782,\n",
       "        -6.75264119,  -7.36915515,  -5.21925323,  -7.07942599,\n",
       "        -7.07178653,  -8.36097352,  -7.49568534,  -7.21383419,\n",
       "        -7.85568808,  -6.84651435,  -7.68735276,  -6.62118607,\n",
       "        -7.6192993 ,  -6.56553758,  -6.67293891,  -6.4406443 ,\n",
       "        -7.34087043,  -7.01125145,  -5.08018693,  -7.38568445,\n",
       "        -7.24050244,  -6.58780195,  -3.32402092,  -7.06874702,\n",
       "        -7.17259123,  -7.41743315,  -6.98858759,  -5.91742615,\n",
       "        -7.65410871,  -7.13622359,  -6.70195649,  -6.41506337,\n",
       "        -6.4245797 ,  -6.6457332 ,  -6.56004809])"
      ]
     },
     "execution_count": 17,
     "metadata": {},
     "output_type": "execute_result"
    }
   ],
   "source": [
    "nb_classifier.coef_[0]"
   ]
  },
  {
   "cell_type": "code",
   "execution_count": 18,
   "metadata": {
    "slideshow": {
     "slide_type": "slide"
    }
   },
   "outputs": [],
   "source": [
    "coeficients = pd.Series(nb_classifier.coef_[0],\n",
    "                        index = vectorizer.get_feature_names())"
   ]
  },
  {
   "cell_type": "code",
   "execution_count": 19,
   "metadata": {
    "slideshow": {
     "slide_type": "slide"
    }
   },
   "outputs": [
    {
     "data": {
      "text/plain": [
       "2022             -11.161575\n",
       "drink 2020        -9.255405\n",
       "beautifully       -9.241982\n",
       "beautiful         -9.059661\n",
       "2020              -8.954300\n",
       "impressive        -8.797297\n",
       "opulent           -8.731157\n",
       "drink 2019        -8.522518\n",
       "velvety           -8.360974\n",
       "lovely            -8.328362\n",
       "cellar            -8.312446\n",
       "focused           -8.286471\n",
       "2019              -8.251203\n",
       "potential         -8.251203\n",
       "tightly           -8.121391\n",
       "producer          -7.939070\n",
       "purple            -7.931849\n",
       "dark chocolate    -7.931849\n",
       "layered           -7.931849\n",
       "drink 2017        -7.906981\n",
       "dtype: float64"
      ]
     },
     "execution_count": 19,
     "metadata": {},
     "output_type": "execute_result"
    }
   ],
   "source": [
    "coeficients.sort_values()[:20]"
   ]
  },
  {
   "cell_type": "code",
   "execution_count": 20,
   "metadata": {
    "slideshow": {
     "slide_type": "slide"
    }
   },
   "outputs": [
    {
     "data": {
      "text/plain": [
       "wine      -3.324021\n",
       "flavors   -3.356434\n",
       "fruit     -3.778772\n",
       "aromas    -3.853581\n",
       "finish    -3.994187\n",
       "palate    -4.034611\n",
       "acidity   -4.069531\n",
       "cherry    -4.339378\n",
       "drink     -4.372808\n",
       "tannins   -4.440040\n",
       "red       -4.468928\n",
       "ripe      -4.595926\n",
       "dry       -4.655927\n",
       "soft      -4.684743\n",
       "fresh     -4.686002\n",
       "berry     -4.689651\n",
       "black     -4.724551\n",
       "notes     -4.728781\n",
       "sweet     -4.746627\n",
       "oak       -4.762224\n",
       "dtype: float64"
      ]
     },
     "execution_count": 20,
     "metadata": {},
     "output_type": "execute_result"
    }
   ],
   "source": [
    "coeficients.sort_values(ascending=False)[:20]"
   ]
  },
  {
   "cell_type": "markdown",
   "metadata": {
    "slideshow": {
     "slide_type": "slide"
    }
   },
   "source": [
    "<div class=\"alert alert-info\">\n",
    "<h3> Your turn</h3>\n",
    "<p> New groups. \n",
    "<p> Kickstarter is a web-based platform for people to raise money for their projects. Not all projects meet their financial goals however. Your job is to discern if we can predict which projects will be successful or not based on their text description. </p>\n",
    "    \n",
    "<p><b>First step:</b> After loading the data in a new notebook, find the words associated with smallest and largest coefficients for a naive Bayes classifier of campaign success.</p>\n",
    "</div>\n"
   ]
  },
  {
   "cell_type": "code",
   "execution_count": 21,
   "metadata": {
    "slideshow": {
     "slide_type": "fragment"
    }
   },
   "outputs": [],
   "source": [
    "ks_url = 'https://github.com/nealcaren/KULeuvenBigData/blob/master/notebooks/data/kickstarter_100k.csv?raw=true'"
   ]
  },
  {
   "cell_type": "markdown",
   "metadata": {
    "slideshow": {
     "slide_type": "slide"
    }
   },
   "source": [
    "# 3. Create new data based on your model"
   ]
  },
  {
   "cell_type": "code",
   "execution_count": 22,
   "metadata": {
    "slideshow": {
     "slide_type": "fragment"
    }
   },
   "outputs": [
    {
     "data": {
      "text/plain": [
       "array(['Low', 'Low', 'Low', ..., 'Low', 'High', 'High'], dtype='<U4')"
      ]
     },
     "execution_count": 22,
     "metadata": {},
     "output_type": "execute_result"
    }
   ],
   "source": [
    "nb_classifier.predict(review_word_counts)"
   ]
  },
  {
   "cell_type": "code",
   "execution_count": 23,
   "metadata": {
    "slideshow": {
     "slide_type": "fragment"
    }
   },
   "outputs": [],
   "source": [
    "wine_df['prediction']  = nb_classifier.predict(review_word_counts)"
   ]
  },
  {
   "cell_type": "code",
   "execution_count": 24,
   "metadata": {
    "slideshow": {
     "slide_type": "slide"
    }
   },
   "outputs": [
    {
     "data": {
      "text/html": [
       "<div>\n",
       "<style scoped>\n",
       "    .dataframe tbody tr th:only-of-type {\n",
       "        vertical-align: middle;\n",
       "    }\n",
       "\n",
       "    .dataframe tbody tr th {\n",
       "        vertical-align: top;\n",
       "    }\n",
       "\n",
       "    .dataframe thead th {\n",
       "        text-align: right;\n",
       "    }\n",
       "</style>\n",
       "<table border=\"1\" class=\"dataframe\">\n",
       "  <thead>\n",
       "    <tr style=\"text-align: right;\">\n",
       "      <th>prediction</th>\n",
       "      <th>High</th>\n",
       "      <th>Low</th>\n",
       "    </tr>\n",
       "    <tr>\n",
       "      <th>rating</th>\n",
       "      <th></th>\n",
       "      <th></th>\n",
       "    </tr>\n",
       "  </thead>\n",
       "  <tbody>\n",
       "    <tr>\n",
       "      <th>High</th>\n",
       "      <td>26842</td>\n",
       "      <td>6793</td>\n",
       "    </tr>\n",
       "    <tr>\n",
       "      <th>Low</th>\n",
       "      <td>7954</td>\n",
       "      <td>43539</td>\n",
       "    </tr>\n",
       "  </tbody>\n",
       "</table>\n",
       "</div>"
      ],
      "text/plain": [
       "prediction   High    Low\n",
       "rating                  \n",
       "High        26842   6793\n",
       "Low          7954  43539"
      ]
     },
     "execution_count": 24,
     "metadata": {},
     "output_type": "execute_result"
    }
   ],
   "source": [
    "pd.crosstab(wine_df['rating'], wine_df['prediction'])"
   ]
  },
  {
   "cell_type": "code",
   "execution_count": 25,
   "metadata": {
    "slideshow": {
     "slide_type": "slide"
    }
   },
   "outputs": [],
   "source": [
    "from sklearn.metrics import classification_report, confusion_matrix, accuracy_score\n",
    "\n"
   ]
  },
  {
   "cell_type": "code",
   "execution_count": 27,
   "metadata": {
    "slideshow": {
     "slide_type": "slide"
    }
   },
   "outputs": [
    {
     "data": {
      "text/plain": [
       "0.8267667512451837"
      ]
     },
     "execution_count": 27,
     "metadata": {},
     "output_type": "execute_result"
    }
   ],
   "source": [
    "accuracy_score(wine_df['rating'], wine_df['prediction'])"
   ]
  },
  {
   "cell_type": "code",
   "execution_count": 29,
   "metadata": {
    "slideshow": {
     "slide_type": "slide"
    }
   },
   "outputs": [
    {
     "data": {
      "text/plain": [
       "array([[26842,  6793],\n",
       "       [ 7954, 43539]])"
      ]
     },
     "execution_count": 29,
     "metadata": {},
     "output_type": "execute_result"
    }
   ],
   "source": []
  },
  {
   "cell_type": "code",
   "execution_count": 75,
   "metadata": {
    "slideshow": {
     "slide_type": "slide"
    }
   },
   "outputs": [
    {
     "data": {
      "text/plain": [
       "<matplotlib.axes._subplots.AxesSubplot at 0x129bbfe48>"
      ]
     },
     "execution_count": 75,
     "metadata": {},
     "output_type": "execute_result"
    },
    {
     "data": {
      "image/png": "[encoded data removed]",
      "text/plain": [
       "<Figure size 432x288 with 2 Axes>"
      ]
     },
     "metadata": {
      "needs_background": "light"
     },
     "output_type": "display_data"
    }
   ],
   "source": [
    "import seaborn as sns\n",
    "\n",
    "cm = confusion_matrix(wine_df['rating'], wine_df['prediction'])\n",
    "sns.heatmap(cm, annot=True, cmap=\"Greens\", fmt='g')\n"
   ]
  },
  {
   "cell_type": "code",
   "execution_count": 39,
   "metadata": {
    "slideshow": {
     "slide_type": "slide"
    }
   },
   "outputs": [
    {
     "name": "stdout",
     "output_type": "stream",
     "text": [
      "              precision    recall  f1-score   support\n",
      "\n",
      "        High       0.77      0.80      0.78     33635\n",
      "         Low       0.87      0.85      0.86     51493\n",
      "\n",
      "   micro avg       0.83      0.83      0.83     85128\n",
      "   macro avg       0.82      0.82      0.82     85128\n",
      "weighted avg       0.83      0.83      0.83     85128\n",
      "\n"
     ]
    }
   ],
   "source": [
    "print(classification_report(wine_df['rating'], wine_df['prediction']))"
   ]
  },
  {
   "cell_type": "markdown",
   "metadata": {
    "slideshow": {
     "slide_type": "-"
    }
   },
   "source": [
    "Precision: % of selected items that are correct \n",
    "\n",
    "Recall: % of correct items that are selected\n",
    "\n"
   ]
  },
  {
   "cell_type": "markdown",
   "metadata": {
    "slideshow": {
     "slide_type": "slide"
    }
   },
   "source": [
    "<div class=\"alert alert-info\">\n",
    "<h3> Your turn</h3>\n",
    "<p> How's your Kickstarter model doing? How many correct? Is it balanced?</div>\n",
    "\n"
   ]
  },
  {
   "cell_type": "code",
   "execution_count": 40,
   "metadata": {
    "slideshow": {
     "slide_type": "slide"
    }
   },
   "outputs": [
    {
     "data": {
      "text/plain": [
       "array([[0.02441804, 0.97558196],\n",
       "       [0.32799953, 0.67200047],\n",
       "       [0.00346265, 0.99653735],\n",
       "       ...,\n",
       "       [0.09784092, 0.90215908],\n",
       "       [0.91947045, 0.08052955],\n",
       "       [0.64839775, 0.35160225]])"
      ]
     },
     "execution_count": 40,
     "metadata": {},
     "output_type": "execute_result"
    }
   ],
   "source": [
    "nb_classifier.predict_proba(review_word_counts)"
   ]
  },
  {
   "cell_type": "code",
   "execution_count": 41,
   "metadata": {
    "slideshow": {
     "slide_type": "slide"
    }
   },
   "outputs": [],
   "source": [
    "predict_df = pd.DataFrame(nb_classifier.predict_proba(review_word_counts), \n",
    "                          columns=nb_classifier.classes_)"
   ]
  },
  {
   "cell_type": "code",
   "execution_count": 42,
   "metadata": {
    "slideshow": {
     "slide_type": "slide"
    }
   },
   "outputs": [
    {
     "data": {
      "text/html": [
       "<div>\n",
       "<style scoped>\n",
       "    .dataframe tbody tr th:only-of-type {\n",
       "        vertical-align: middle;\n",
       "    }\n",
       "\n",
       "    .dataframe tbody tr th {\n",
       "        vertical-align: top;\n",
       "    }\n",
       "\n",
       "    .dataframe thead th {\n",
       "        text-align: right;\n",
       "    }\n",
       "</style>\n",
       "<table border=\"1\" class=\"dataframe\">\n",
       "  <thead>\n",
       "    <tr style=\"text-align: right;\">\n",
       "      <th></th>\n",
       "      <th>High</th>\n",
       "      <th>Low</th>\n",
       "    </tr>\n",
       "  </thead>\n",
       "  <tbody>\n",
       "    <tr>\n",
       "      <th>0</th>\n",
       "      <td>0.024418</td>\n",
       "      <td>0.975582</td>\n",
       "    </tr>\n",
       "    <tr>\n",
       "      <th>1</th>\n",
       "      <td>0.328000</td>\n",
       "      <td>0.672000</td>\n",
       "    </tr>\n",
       "    <tr>\n",
       "      <th>2</th>\n",
       "      <td>0.003463</td>\n",
       "      <td>0.996537</td>\n",
       "    </tr>\n",
       "    <tr>\n",
       "      <th>3</th>\n",
       "      <td>0.009818</td>\n",
       "      <td>0.990182</td>\n",
       "    </tr>\n",
       "    <tr>\n",
       "      <th>4</th>\n",
       "      <td>0.017622</td>\n",
       "      <td>0.982378</td>\n",
       "    </tr>\n",
       "  </tbody>\n",
       "</table>\n",
       "</div>"
      ],
      "text/plain": [
       "       High       Low\n",
       "0  0.024418  0.975582\n",
       "1  0.328000  0.672000\n",
       "2  0.003463  0.996537\n",
       "3  0.009818  0.990182\n",
       "4  0.017622  0.982378"
      ]
     },
     "execution_count": 42,
     "metadata": {},
     "output_type": "execute_result"
    }
   ],
   "source": [
    "predict_df.head()"
   ]
  },
  {
   "cell_type": "code",
   "execution_count": 43,
   "metadata": {
    "slideshow": {
     "slide_type": "slide"
    }
   },
   "outputs": [],
   "source": [
    "wine_df_prediction = pd.concat([wine_df, predict_df], axis = 1)"
   ]
  },
  {
   "cell_type": "code",
   "execution_count": 44,
   "metadata": {
    "slideshow": {
     "slide_type": "slide"
    }
   },
   "outputs": [
    {
     "data": {
      "text/html": [
       "<div>\n",
       "<style scoped>\n",
       "    .dataframe tbody tr th:only-of-type {\n",
       "        vertical-align: middle;\n",
       "    }\n",
       "\n",
       "    .dataframe tbody tr th {\n",
       "        vertical-align: top;\n",
       "    }\n",
       "\n",
       "    .dataframe thead th {\n",
       "        text-align: right;\n",
       "    }\n",
       "</style>\n",
       "<table border=\"1\" class=\"dataframe\">\n",
       "  <thead>\n",
       "    <tr style=\"text-align: right;\">\n",
       "      <th></th>\n",
       "      <th>description</th>\n",
       "      <th>points</th>\n",
       "    </tr>\n",
       "  </thead>\n",
       "  <tbody>\n",
       "    <tr>\n",
       "      <th>79481</th>\n",
       "      <td>From a beautifully exposed southwest facing vineyard with views of the Pyrenees, this is a serious and impressive wi...</td>\n",
       "      <td>96</td>\n",
       "    </tr>\n",
       "    <tr>\n",
       "      <th>5129</th>\n",
       "      <td>A blend of 28% Cabernet Franc, 23% Cabernet Sauvignon, 21% Malbec, 18% Petit Verdot and 10% Merlot, this is a big, b...</td>\n",
       "      <td>94</td>\n",
       "    </tr>\n",
       "    <tr>\n",
       "      <th>25463</th>\n",
       "      <td>A blend of 28% Cabernet Franc, 23% Cabernet Sauvignon, 21% Malbec, 18% Petit Verdot and 10% Merlot, this is a big, b...</td>\n",
       "      <td>94</td>\n",
       "    </tr>\n",
       "    <tr>\n",
       "      <th>18317</th>\n",
       "      <td>Initially closed, this elegant vibrant red slowly reveals alluring aromas of mature black-skinned fruit, French oak,...</td>\n",
       "      <td>94</td>\n",
       "    </tr>\n",
       "    <tr>\n",
       "      <th>36344</th>\n",
       "      <td>Mature dark-skinned berry, leather, underbrush and dark spice are some of the aromas that emerge on this fantastic r...</td>\n",
       "      <td>97</td>\n",
       "    </tr>\n",
       "    <tr>\n",
       "      <th>72251</th>\n",
       "      <td>Perfumed berry, rose, fragrant blue flower, tilled earth, baking spice and a hint of new leather are just some of th...</td>\n",
       "      <td>96</td>\n",
       "    </tr>\n",
       "    <tr>\n",
       "      <th>10192</th>\n",
       "      <td>This is a rich, concentrated wine, powered by both tannins and very ripe fruit. It is produced from vines planted in...</td>\n",
       "      <td>94</td>\n",
       "    </tr>\n",
       "    <tr>\n",
       "      <th>67748</th>\n",
       "      <td>Dark, rich mountain blueberry and blackberry form the core of this classically delicious Napa Valley wine from an es...</td>\n",
       "      <td>93</td>\n",
       "    </tr>\n",
       "    <tr>\n",
       "      <th>75255</th>\n",
       "      <td>This is the second wine of Mouchão estate, a power in its own right. It is beautifully perfumed with violets and spi...</td>\n",
       "      <td>93</td>\n",
       "    </tr>\n",
       "    <tr>\n",
       "      <th>77340</th>\n",
       "      <td>From one of the top estates in Cahors, this complex, dense wine is both structured and packed with great fruit. At t...</td>\n",
       "      <td>94</td>\n",
       "    </tr>\n",
       "    <tr>\n",
       "      <th>49526</th>\n",
       "      <td>This Ferreirinha Douro Superior wine is made in exceptional years. The 2007 is the 16th vintage since 1960 (the prev...</td>\n",
       "      <td>97</td>\n",
       "    </tr>\n",
       "    <tr>\n",
       "      <th>58945</th>\n",
       "      <td>A blend of 57% Cabernet Sauvignon, 14% Merlot, 13% Malbec, 11% Cabernet Franc and 5% Petit Verdot, this stunning, we...</td>\n",
       "      <td>93</td>\n",
       "    </tr>\n",
       "    <tr>\n",
       "      <th>29754</th>\n",
       "      <td>Intense, lovely aromatics of wild berry, fragrant blue flower, crushed herb and a whiff of tilled soil lead the way....</td>\n",
       "      <td>95</td>\n",
       "    </tr>\n",
       "    <tr>\n",
       "      <th>55591</th>\n",
       "      <td>Forest floor, ripe black fruit, truffle, leather and balsamic aromas open this bold, concentrated wine. The deliciou...</td>\n",
       "      <td>94</td>\n",
       "    </tr>\n",
       "    <tr>\n",
       "      <th>20045</th>\n",
       "      <td>Coming from arguably the grandest of the Chablis Grand Crus, this is an impressive, rich and structured wine. It is ...</td>\n",
       "      <td>94</td>\n",
       "    </tr>\n",
       "  </tbody>\n",
       "</table>\n",
       "</div>"
      ],
      "text/plain": [
       "                                                                                                                   description  \\\n",
       "79481  From a beautifully exposed southwest facing vineyard with views of the Pyrenees, this is a serious and impressive wi...   \n",
       "5129   A blend of 28% Cabernet Franc, 23% Cabernet Sauvignon, 21% Malbec, 18% Petit Verdot and 10% Merlot, this is a big, b...   \n",
       "25463  A blend of 28% Cabernet Franc, 23% Cabernet Sauvignon, 21% Malbec, 18% Petit Verdot and 10% Merlot, this is a big, b...   \n",
       "18317  Initially closed, this elegant vibrant red slowly reveals alluring aromas of mature black-skinned fruit, French oak,...   \n",
       "36344  Mature dark-skinned berry, leather, underbrush and dark spice are some of the aromas that emerge on this fantastic r...   \n",
       "72251  Perfumed berry, rose, fragrant blue flower, tilled earth, baking spice and a hint of new leather are just some of th...   \n",
       "10192  This is a rich, concentrated wine, powered by both tannins and very ripe fruit. It is produced from vines planted in...   \n",
       "67748  Dark, rich mountain blueberry and blackberry form the core of this classically delicious Napa Valley wine from an es...   \n",
       "75255  This is the second wine of Mouchão estate, a power in its own right. It is beautifully perfumed with violets and spi...   \n",
       "77340  From one of the top estates in Cahors, this complex, dense wine is both structured and packed with great fruit. At t...   \n",
       "49526  This Ferreirinha Douro Superior wine is made in exceptional years. The 2007 is the 16th vintage since 1960 (the prev...   \n",
       "58945  A blend of 57% Cabernet Sauvignon, 14% Merlot, 13% Malbec, 11% Cabernet Franc and 5% Petit Verdot, this stunning, we...   \n",
       "29754  Intense, lovely aromatics of wild berry, fragrant blue flower, crushed herb and a whiff of tilled soil lead the way....   \n",
       "55591  Forest floor, ripe black fruit, truffle, leather and balsamic aromas open this bold, concentrated wine. The deliciou...   \n",
       "20045  Coming from arguably the grandest of the Chablis Grand Crus, this is an impressive, rich and structured wine. It is ...   \n",
       "\n",
       "       points  \n",
       "79481      96  \n",
       "5129       94  \n",
       "25463      94  \n",
       "18317      94  \n",
       "36344      97  \n",
       "72251      96  \n",
       "10192      94  \n",
       "67748      93  \n",
       "75255      93  \n",
       "77340      94  \n",
       "49526      97  \n",
       "58945      93  \n",
       "29754      95  \n",
       "55591      94  \n",
       "20045      94  "
      ]
     },
     "execution_count": 44,
     "metadata": {},
     "output_type": "execute_result"
    }
   ],
   "source": [
    "wine_df_prediction.sort_values('High', ascending=False)[['description','points']].head(15)"
   ]
  },
  {
   "cell_type": "code",
   "execution_count": 45,
   "metadata": {
    "slideshow": {
     "slide_type": "slide"
    }
   },
   "outputs": [
    {
     "data": {
      "text/html": [
       "<div>\n",
       "<style scoped>\n",
       "    .dataframe tbody tr th:only-of-type {\n",
       "        vertical-align: middle;\n",
       "    }\n",
       "\n",
       "    .dataframe tbody tr th {\n",
       "        vertical-align: top;\n",
       "    }\n",
       "\n",
       "    .dataframe thead th {\n",
       "        text-align: right;\n",
       "    }\n",
       "</style>\n",
       "<table border=\"1\" class=\"dataframe\">\n",
       "  <thead>\n",
       "    <tr style=\"text-align: right;\">\n",
       "      <th></th>\n",
       "      <th>description</th>\n",
       "      <th>points</th>\n",
       "    </tr>\n",
       "  </thead>\n",
       "  <tbody>\n",
       "    <tr>\n",
       "      <th>39450</th>\n",
       "      <td>Reasonably accurate on the nose for Leyda Sauvignon Blanc, but also a little pickled smelling. Feels chunky and a li...</td>\n",
       "      <td>85</td>\n",
       "    </tr>\n",
       "    <tr>\n",
       "      <th>16200</th>\n",
       "      <td>Lively aromas of grapefruit, white flowers and mineral lead into a light, fruity but rather simple palate that offer...</td>\n",
       "      <td>86</td>\n",
       "    </tr>\n",
       "    <tr>\n",
       "      <th>66311</th>\n",
       "      <td>Dry, mild, dusty berry aromas are simple but correct for the variety. This feels scattered across the palate, with s...</td>\n",
       "      <td>86</td>\n",
       "    </tr>\n",
       "    <tr>\n",
       "      <th>26592</th>\n",
       "      <td>Lemon citrus, toast, white flowers—the lead on this wine is feminine and light and, as the name suggests, feels like...</td>\n",
       "      <td>84</td>\n",
       "    </tr>\n",
       "    <tr>\n",
       "      <th>38207</th>\n",
       "      <td>A light straw color, bright fruit aromas and a dot of sweetness paint the picture of an easy-drinking refresher. The...</td>\n",
       "      <td>86</td>\n",
       "    </tr>\n",
       "    <tr>\n",
       "      <th>63660</th>\n",
       "      <td>Apple and mineral aromas are basic but clean, and the palate is fresh and lithe, with little to no extra weight. Fla...</td>\n",
       "      <td>86</td>\n",
       "    </tr>\n",
       "    <tr>\n",
       "      <th>43618</th>\n",
       "      <td>A medium-bodied Bordeaux blend with sweet aromas of cherry pie and a hint of fresh sage and tarragon. Simple and str...</td>\n",
       "      <td>85</td>\n",
       "    </tr>\n",
       "    <tr>\n",
       "      <th>58337</th>\n",
       "      <td>Here's a fresh and easy Sauvignon Blanc that would pair with easy appetizers or a salad lunch. Crisp but simple arom...</td>\n",
       "      <td>86</td>\n",
       "    </tr>\n",
       "    <tr>\n",
       "      <th>13944</th>\n",
       "      <td>This straightforward Verdicchio opens with subdued aromas of stone fruit and citrus. The palate is a bit lean but of...</td>\n",
       "      <td>86</td>\n",
       "    </tr>\n",
       "    <tr>\n",
       "      <th>76673</th>\n",
       "      <td>Earthy, leafy red-fruit aromas are a bit rustic and burnt-smelling. This solid, chunky Pinot has spicy oak leading s...</td>\n",
       "      <td>86</td>\n",
       "    </tr>\n",
       "    <tr>\n",
       "      <th>45377</th>\n",
       "      <td>Earthy, leafy red-fruit aromas are a bit rustic and burnt-smelling. This solid, chunky Pinot has spicy oak leading s...</td>\n",
       "      <td>86</td>\n",
       "    </tr>\n",
       "    <tr>\n",
       "      <th>58458</th>\n",
       "      <td>Slightly stalky, roasted aromas of earthy plum and berry lean in the direction of compost. This feels light and some...</td>\n",
       "      <td>87</td>\n",
       "    </tr>\n",
       "    <tr>\n",
       "      <th>44783</th>\n",
       "      <td>Simple green-apple aromas are innocuous. This is fresh, easy and light on the palate. Flavors of apple and sweet gre...</td>\n",
       "      <td>87</td>\n",
       "    </tr>\n",
       "    <tr>\n",
       "      <th>21333</th>\n",
       "      <td>Simple but solid apple and nectarine aromas are straight forward. This feels round and easy, without much acid-based...</td>\n",
       "      <td>86</td>\n",
       "    </tr>\n",
       "    <tr>\n",
       "      <th>30861</th>\n",
       "      <td>Simple but solid apple and nectarine aromas are straight forward. This feels round and easy, without much acid-based...</td>\n",
       "      <td>86</td>\n",
       "    </tr>\n",
       "  </tbody>\n",
       "</table>\n",
       "</div>"
      ],
      "text/plain": [
       "                                                                                                                   description  \\\n",
       "39450  Reasonably accurate on the nose for Leyda Sauvignon Blanc, but also a little pickled smelling. Feels chunky and a li...   \n",
       "16200  Lively aromas of grapefruit, white flowers and mineral lead into a light, fruity but rather simple palate that offer...   \n",
       "66311  Dry, mild, dusty berry aromas are simple but correct for the variety. This feels scattered across the palate, with s...   \n",
       "26592  Lemon citrus, toast, white flowers—the lead on this wine is feminine and light and, as the name suggests, feels like...   \n",
       "38207  A light straw color, bright fruit aromas and a dot of sweetness paint the picture of an easy-drinking refresher. The...   \n",
       "63660  Apple and mineral aromas are basic but clean, and the palate is fresh and lithe, with little to no extra weight. Fla...   \n",
       "43618  A medium-bodied Bordeaux blend with sweet aromas of cherry pie and a hint of fresh sage and tarragon. Simple and str...   \n",
       "58337  Here's a fresh and easy Sauvignon Blanc that would pair with easy appetizers or a salad lunch. Crisp but simple arom...   \n",
       "13944  This straightforward Verdicchio opens with subdued aromas of stone fruit and citrus. The palate is a bit lean but of...   \n",
       "76673  Earthy, leafy red-fruit aromas are a bit rustic and burnt-smelling. This solid, chunky Pinot has spicy oak leading s...   \n",
       "45377  Earthy, leafy red-fruit aromas are a bit rustic and burnt-smelling. This solid, chunky Pinot has spicy oak leading s...   \n",
       "58458  Slightly stalky, roasted aromas of earthy plum and berry lean in the direction of compost. This feels light and some...   \n",
       "44783  Simple green-apple aromas are innocuous. This is fresh, easy and light on the palate. Flavors of apple and sweet gre...   \n",
       "21333  Simple but solid apple and nectarine aromas are straight forward. This feels round and easy, without much acid-based...   \n",
       "30861  Simple but solid apple and nectarine aromas are straight forward. This feels round and easy, without much acid-based...   \n",
       "\n",
       "       points  \n",
       "39450      85  \n",
       "16200      86  \n",
       "66311      86  \n",
       "26592      84  \n",
       "38207      86  \n",
       "63660      86  \n",
       "43618      85  \n",
       "58337      86  \n",
       "13944      86  \n",
       "76673      86  \n",
       "45377      86  \n",
       "58458      87  \n",
       "44783      87  \n",
       "21333      86  \n",
       "30861      86  "
      ]
     },
     "execution_count": 45,
     "metadata": {},
     "output_type": "execute_result"
    }
   ],
   "source": [
    "wine_df_prediction.sort_values('Low', ascending=False)[['description','points']].head(15)"
   ]
  },
  {
   "cell_type": "markdown",
   "metadata": {
    "slideshow": {
     "slide_type": "slide"
    }
   },
   "source": [
    "<div class=\"alert alert-info\">\n",
    "<h3> Your turn</h3>\n",
    "  <p> Which <b>failed</b> Kickstarter campaign had the highest likelihood of being funded?\n",
    "\n",
    "</div>\n",
    "\n"
   ]
  },
  {
   "cell_type": "markdown",
   "metadata": {
    "slideshow": {
     "slide_type": "slide"
    }
   },
   "source": [
    "### What about overfitting?"
   ]
  },
  {
   "cell_type": "code",
   "execution_count": 46,
   "metadata": {
    "slideshow": {
     "slide_type": "slide"
    }
   },
   "outputs": [],
   "source": [
    "from sklearn.model_selection import train_test_split\n",
    "\n",
    "train, test = train_test_split(wine_df, test_size=0.2)"
   ]
  },
  {
   "cell_type": "code",
   "execution_count": 47,
   "metadata": {
    "slideshow": {
     "slide_type": "slide"
    }
   },
   "outputs": [
    {
     "data": {
      "text/plain": [
       "68102"
      ]
     },
     "execution_count": 47,
     "metadata": {},
     "output_type": "execute_result"
    }
   ],
   "source": [
    "len(train)"
   ]
  },
  {
   "cell_type": "code",
   "execution_count": 48,
   "metadata": {
    "slideshow": {
     "slide_type": "fragment"
    }
   },
   "outputs": [
    {
     "data": {
      "text/plain": [
       "17026"
      ]
     },
     "execution_count": 48,
     "metadata": {},
     "output_type": "execute_result"
    }
   ],
   "source": [
    "len(test)"
   ]
  },
  {
   "cell_type": "code",
   "execution_count": 49,
   "metadata": {
    "slideshow": {
     "slide_type": "slide"
    }
   },
   "outputs": [
    {
     "data": {
      "text/plain": [
       "CountVectorizer(analyzer='word', binary=False, decode_error='strict',\n",
       "        dtype=<class 'numpy.int64'>, encoding='utf-8', input='content',\n",
       "        lowercase=True, max_df=1.0, max_features=None, min_df=0.01,\n",
       "        ngram_range=(1, 2), preprocessor=None, stop_words='english',\n",
       "        strip_accents=None, token_pattern='(?u)\\\\b\\\\w\\\\w+\\\\b',\n",
       "        tokenizer=None, vocabulary=None)"
      ]
     },
     "execution_count": 49,
     "metadata": {},
     "output_type": "execute_result"
    }
   ],
   "source": [
    "vectorizer = CountVectorizer(lowercase   = True,\n",
    "                             ngram_range = (1,2),\n",
    "                             stop_words  = 'english',\n",
    "                             min_df      = .01,\n",
    "                             max_features = None)\n",
    "\n",
    "vectorizer.fit(train['description'])\n"
   ]
  },
  {
   "cell_type": "code",
   "execution_count": 50,
   "metadata": {
    "slideshow": {
     "slide_type": "slide"
    }
   },
   "outputs": [],
   "source": [
    "X_train = vectorizer.transform(train['description'])"
   ]
  },
  {
   "cell_type": "code",
   "execution_count": 51,
   "metadata": {
    "slideshow": {
     "slide_type": "fragment"
    }
   },
   "outputs": [
    {
     "data": {
      "text/plain": [
       "MultinomialNB(alpha=1.0, class_prior=None, fit_prior=True)"
      ]
     },
     "execution_count": 51,
     "metadata": {},
     "output_type": "execute_result"
    }
   ],
   "source": [
    "nb_classifier.fit(X_train, train['rating'])"
   ]
  },
  {
   "cell_type": "code",
   "execution_count": null,
   "metadata": {
    "slideshow": {
     "slide_type": "slide"
    }
   },
   "outputs": [],
   "source": [
    "from sklearn.metrics import classification_report, confusion_matrix, accuracy_score\n"
   ]
  },
  {
   "cell_type": "code",
   "execution_count": 52,
   "metadata": {
    "slideshow": {
     "slide_type": "slide"
    }
   },
   "outputs": [
    {
     "name": "stdout",
     "output_type": "stream",
     "text": [
      "0.8279786203048368\n"
     ]
    }
   ],
   "source": [
    "print(accuracy_score(train['rating'],\n",
    "                     nb_classifier.predict(X_train)))\n",
    "\n"
   ]
  },
  {
   "cell_type": "code",
   "execution_count": 55,
   "metadata": {
    "slideshow": {
     "slide_type": "slide"
    }
   },
   "outputs": [],
   "source": [
    "test_wf         = vectorizer.transform(test['description'])\n",
    "test_prediction = nb_classifier.predict(test_wf)"
   ]
  },
  {
   "cell_type": "code",
   "execution_count": 56,
   "metadata": {
    "slideshow": {
     "slide_type": "slide"
    }
   },
   "outputs": [
    {
     "name": "stdout",
     "output_type": "stream",
     "text": [
      "0.8256783742511453\n"
     ]
    }
   ],
   "source": [
    "print(accuracy_score(test['rating'], test_prediction))"
   ]
  },
  {
   "cell_type": "code",
   "execution_count": 61,
   "metadata": {
    "slideshow": {
     "slide_type": "slide"
    }
   },
   "outputs": [],
   "source": [
    "vectorizer = CountVectorizer(lowercase=True,\n",
    "                             ngram_range = (1,3),\n",
    "                             stop_words = 'english',\n",
    "                             max_df = .60,\n",
    "                             min_df = 5,\n",
    "                             max_features = None)"
   ]
  },
  {
   "cell_type": "code",
   "execution_count": 62,
   "metadata": {
    "slideshow": {
     "slide_type": "slide"
    }
   },
   "outputs": [
    {
     "name": "stdout",
     "output_type": "stream",
     "text": [
      "76831\n"
     ]
    },
    {
     "data": {
      "text/plain": [
       "MultinomialNB(alpha=1.0, class_prior=None, fit_prior=True)"
      ]
     },
     "execution_count": 62,
     "metadata": {},
     "output_type": "execute_result"
    }
   ],
   "source": [
    "vectorizer.fit(train['description'])\n",
    "print(len(vectorizer.get_feature_names()))\n",
    "X_train = vectorizer.transform(train['description'])\n",
    "nb_classifier.fit(X_train, train['rating'])\n"
   ]
  },
  {
   "cell_type": "code",
   "execution_count": 63,
   "metadata": {
    "slideshow": {
     "slide_type": "slide"
    }
   },
   "outputs": [
    {
     "name": "stdout",
     "output_type": "stream",
     "text": [
      "0.9176382485095885\n"
     ]
    }
   ],
   "source": [
    "print(accuracy_score(train['rating'],\n",
    "                     nb_classifier.predict(X_train)))\n",
    "\n"
   ]
  },
  {
   "cell_type": "code",
   "execution_count": 64,
   "metadata": {
    "slideshow": {
     "slide_type": "slide"
    }
   },
   "outputs": [
    {
     "name": "stdout",
     "output_type": "stream",
     "text": [
      "0.8882297662398685\n"
     ]
    }
   ],
   "source": [
    "\n",
    "print(accuracy_score(test['rating'],\n",
    "                     nb_classifier.predict(vectorizer.transform(test['description']))))\n"
   ]
  },
  {
   "cell_type": "markdown",
   "metadata": {
    "slideshow": {
     "slide_type": "slide"
    }
   },
   "source": [
    "<div class=\"alert alert-info\">\n",
    "<h3> Your turn</h3>\n",
    "<p> What happens to your model if you change some of the parameters for your vectorizer? Be sure to spit the data between train and test!\n",
    "\n",
    "</div>\n",
    "\n",
    "\n"
   ]
  },
  {
   "cell_type": "markdown",
   "metadata": {
    "slideshow": {
     "slide_type": "slide"
    }
   },
   "source": [
    "# What about a different model?"
   ]
  },
  {
   "cell_type": "code",
   "execution_count": 65,
   "metadata": {
    "slideshow": {
     "slide_type": "slide"
    }
   },
   "outputs": [],
   "source": [
    "from sklearn.linear_model import LogisticRegression"
   ]
  },
  {
   "cell_type": "code",
   "execution_count": 67,
   "metadata": {
    "slideshow": {
     "slide_type": "fragment"
    }
   },
   "outputs": [],
   "source": [
    "ln_classifier = LogisticRegression()"
   ]
  },
  {
   "cell_type": "code",
   "execution_count": 68,
   "metadata": {
    "slideshow": {
     "slide_type": "slide"
    }
   },
   "outputs": [
    {
     "name": "stdout",
     "output_type": "stream",
     "text": [
      "456\n"
     ]
    },
    {
     "name": "stderr",
     "output_type": "stream",
     "text": [
      "/Users/nealcaren/anaconda3/envs/kuleuven/lib/python3.6/site-packages/sklearn/linear_model/logistic.py:433: FutureWarning: Default solver will be changed to 'lbfgs' in 0.22. Specify a solver to silence this warning.\n",
      "  FutureWarning)\n"
     ]
    },
    {
     "data": {
      "text/plain": [
       "LogisticRegression(C=1.0, class_weight=None, dual=False, fit_intercept=True,\n",
       "          intercept_scaling=1, max_iter=100, multi_class='warn',\n",
       "          n_jobs=None, penalty='l2', random_state=None, solver='warn',\n",
       "          tol=0.0001, verbose=0, warm_start=False)"
      ]
     },
     "execution_count": 68,
     "metadata": {},
     "output_type": "execute_result"
    }
   ],
   "source": [
    "vectorizer = CountVectorizer(lowercase=True,\n",
    "                             ngram_range = (1,2),\n",
    "                             stop_words = 'english',\n",
    "                             min_df = .01,\n",
    "                             max_features = None)\n",
    "\n",
    "vectorizer.fit(train['description'])\n",
    "\n",
    "print(len(vectorizer.get_feature_names()))\n",
    "ln_classifier.fit(vectorizer.transform(train['description']), train['rating'])"
   ]
  },
  {
   "cell_type": "code",
   "execution_count": 69,
   "metadata": {},
   "outputs": [
    {
     "name": "stdout",
     "output_type": "stream",
     "text": [
      "0.8826613021644004\n"
     ]
    }
   ],
   "source": [
    "print(accuracy_score(train['rating'],\n",
    "                     ln_classifier.predict(vectorizer.transform(train['description']))))"
   ]
  },
  {
   "cell_type": "code",
   "execution_count": 70,
   "metadata": {},
   "outputs": [
    {
     "name": "stdout",
     "output_type": "stream",
     "text": [
      "0.8797133795371784\n"
     ]
    }
   ],
   "source": [
    "print(accuracy_score(test['rating'],\n",
    "                     ln_classifier.predict(vectorizer.transform(test['description']))))"
   ]
  },
  {
   "cell_type": "code",
   "execution_count": 73,
   "metadata": {},
   "outputs": [
    {
     "data": {
      "text/plain": [
       "<matplotlib.axes._subplots.AxesSubplot at 0x126691160>"
      ]
     },
     "execution_count": 73,
     "metadata": {},
     "output_type": "execute_result"
    },
    {
     "data": {
      "image/png": "[encoded data removed]",
      "text/plain": [
       "<Figure size 432x288 with 2 Axes>"
      ]
     },
     "metadata": {
      "needs_background": "light"
     },
     "output_type": "display_data"
    }
   ],
   "source": [
    "test_prediction = ln_classifier.predict(vectorizer.transform(test['description']))\n",
    "\n",
    "cm = confusion_matrix(test['rating'], test_prediction)\n",
    "sns.heatmap(cm, annot=True, cmap=\"Greens\", fmt='g')\n",
    "\n"
   ]
  },
  {
   "cell_type": "markdown",
   "metadata": {},
   "source": [
    "<div class=\"alert alert-info\">\n",
    "<h3> Your turn</h3>\n",
    "What is the out sample accuracy of a logistic regression model on your data?\n",
    "<p><code> from sklearn.linear_model import LogisticRegression\n",
    "\n",
    "</div>\n",
    "\n",
    "\n",
    "\n"
   ]
  },
  {
   "cell_type": "markdown",
   "metadata": {
    "slideshow": {
     "slide_type": "slide"
    }
   },
   "source": [
    "# What about a different model?"
   ]
  },
  {
   "cell_type": "markdown",
   "metadata": {
    "slideshow": {
     "slide_type": "slide"
    }
   },
   "source": [
    "![](images/knn1.png)"
   ]
  },
  {
   "cell_type": "code",
   "execution_count": 76,
   "metadata": {
    "slideshow": {
     "slide_type": "slide"
    }
   },
   "outputs": [],
   "source": [
    "from sklearn.neighbors import KNeighborsClassifier\n",
    "\n",
    "knn_classifier = KNeighborsClassifier(n_neighbors = 3)"
   ]
  },
  {
   "cell_type": "code",
   "execution_count": 77,
   "metadata": {
    "slideshow": {
     "slide_type": "slide"
    }
   },
   "outputs": [],
   "source": [
    "from sklearn.feature_extraction.text import TfidfVectorizer"
   ]
  },
  {
   "cell_type": "code",
   "execution_count": 78,
   "metadata": {
    "slideshow": {
     "slide_type": "slide"
    }
   },
   "outputs": [],
   "source": [
    "tf_vector  = TfidfVectorizer(lowercase  =  True,\n",
    "                             ngram_range = (1,2),\n",
    "                             stop_words  = 'english',\n",
    "                             max_df      = .60,\n",
    "                             min_df      = .05,\n",
    "                             max_features = None)"
   ]
  },
  {
   "cell_type": "code",
   "execution_count": 89,
   "metadata": {},
   "outputs": [],
   "source": [
    "train, test = train_test_split(wine_df, test_size=0.7)"
   ]
  },
  {
   "cell_type": "code",
   "execution_count": 90,
   "metadata": {
    "slideshow": {
     "slide_type": "slide"
    }
   },
   "outputs": [
    {
     "data": {
      "text/plain": [
       "TfidfVectorizer(analyzer='word', binary=False, decode_error='strict',\n",
       "        dtype=<class 'numpy.float64'>, encoding='utf-8', input='content',\n",
       "        lowercase=True, max_df=0.6, max_features=None, min_df=0.05,\n",
       "        ngram_range=(1, 2), norm='l2', preprocessor=None, smooth_idf=True,\n",
       "        stop_words='english', strip_accents=None, sublinear_tf=False,\n",
       "        token_pattern='(?u)\\\\b\\\\w\\\\w+\\\\b', tokenizer=None, use_idf=True,\n",
       "        vocabulary=None)"
      ]
     },
     "execution_count": 90,
     "metadata": {},
     "output_type": "execute_result"
    }
   ],
   "source": [
    "tf_vector.fit(train['description'])"
   ]
  },
  {
   "cell_type": "code",
   "execution_count": 91,
   "metadata": {
    "slideshow": {
     "slide_type": "slide"
    }
   },
   "outputs": [],
   "source": [
    "review_tf = tf_vector.transform(train['description'])"
   ]
  },
  {
   "cell_type": "code",
   "execution_count": 92,
   "metadata": {
    "slideshow": {
     "slide_type": "slide"
    }
   },
   "outputs": [
    {
     "data": {
      "text/plain": [
       "KNeighborsClassifier(algorithm='auto', leaf_size=30, metric='minkowski',\n",
       "           metric_params=None, n_jobs=None, n_neighbors=3, p=2,\n",
       "           weights='uniform')"
      ]
     },
     "execution_count": 92,
     "metadata": {},
     "output_type": "execute_result"
    }
   ],
   "source": [
    "knn_classifier.fit(review_tf, train['rating'])"
   ]
  },
  {
   "cell_type": "code",
   "execution_count": 93,
   "metadata": {
    "slideshow": {
     "slide_type": "slide"
    }
   },
   "outputs": [],
   "source": [
    "knn_prediction = knn_classifier.predict(review_tf)"
   ]
  },
  {
   "cell_type": "code",
   "execution_count": 94,
   "metadata": {
    "slideshow": {
     "slide_type": "slide"
    }
   },
   "outputs": [
    {
     "name": "stdout",
     "output_type": "stream",
     "text": [
      "0.8431748766543974\n"
     ]
    }
   ],
   "source": [
    "\n",
    "print(accuracy_score(train['rating'], knn_prediction))\n",
    "\n"
   ]
  },
  {
   "cell_type": "code",
   "execution_count": 95,
   "metadata": {
    "slideshow": {
     "slide_type": "slide"
    }
   },
   "outputs": [
    {
     "name": "stdout",
     "output_type": "stream",
     "text": [
      "              precision    recall  f1-score   support\n",
      "\n",
      "        High       0.84      0.74      0.79      9987\n",
      "         Low       0.85      0.91      0.88     15551\n",
      "\n",
      "   micro avg       0.84      0.84      0.84     25538\n",
      "   macro avg       0.84      0.83      0.83     25538\n",
      "weighted avg       0.84      0.84      0.84     25538\n",
      "\n"
     ]
    }
   ],
   "source": [
    "print(classification_report(train['rating'], knn_prediction))"
   ]
  },
  {
   "cell_type": "code",
   "execution_count": 96,
   "metadata": {
    "slideshow": {
     "slide_type": "slide"
    }
   },
   "outputs": [
    {
     "data": {
      "text/plain": [
       "<matplotlib.axes._subplots.AxesSubplot at 0x1270d0470>"
      ]
     },
     "execution_count": 96,
     "metadata": {},
     "output_type": "execute_result"
    },
    {
     "data": {
      "image/png": "[encoded data removed]",
      "text/plain": [
       "<Figure size 432x288 with 2 Axes>"
      ]
     },
     "metadata": {
      "needs_background": "light"
     },
     "output_type": "display_data"
    }
   ],
   "source": [
    "cm = confusion_matrix(train['rating'], knn_prediction)\n",
    "sns.heatmap(cm, annot=True, cmap=\"Greens\", fmt='g')\n"
   ]
  },
  {
   "cell_type": "markdown",
   "metadata": {
    "slideshow": {
     "slide_type": "slide"
    }
   },
   "source": [
    "<div class=\"alert alert-info\">\n",
    "<h3> Your turn</h3>\n",
    "<p> What does a k-nearest neigbhor for your speech dataset look like? (Don't forget to shrink your dataframe). How does the accuracy compare?\n",
    "</div>\n",
    "\n",
    "\n",
    "\n"
   ]
  },
  {
   "cell_type": "markdown",
   "metadata": {
    "slideshow": {
     "slide_type": "slide"
    }
   },
   "source": [
    "![](images/knn2.png)"
   ]
  },
  {
   "cell_type": "code",
   "execution_count": 97,
   "metadata": {
    "slideshow": {
     "slide_type": "slide"
    }
   },
   "outputs": [],
   "source": [
    "knn_classifier = KNeighborsClassifier(n_neighbors = 15)"
   ]
  },
  {
   "cell_type": "markdown",
   "metadata": {
    "slideshow": {
     "slide_type": "slide"
    }
   },
   "source": [
    "# But what's the best fitting model?"
   ]
  },
  {
   "cell_type": "code",
   "execution_count": 86,
   "metadata": {
    "slideshow": {
     "slide_type": "slide"
    }
   },
   "outputs": [],
   "source": [
    "from sklearn.model_selection import GridSearchCV"
   ]
  },
  {
   "cell_type": "code",
   "execution_count": 87,
   "metadata": {
    "slideshow": {
     "slide_type": "slide"
    }
   },
   "outputs": [],
   "source": [
    "# old model: knn_classifier = KNeighborsClassifier(n_neighbors = 3)\n",
    "\n",
    "parameters = {'n_neighbors' : [2,3, 7],\n",
    "              'weights'      : ['distance', 'uniform']}\n",
    "              "
   ]
  },
  {
   "cell_type": "code",
   "execution_count": 88,
   "metadata": {},
   "outputs": [],
   "source": [
    "grid = GridSearchCV(KNeighborsClassifier(), \n",
    "                    parameters, \n",
    "                    cv = 5)"
   ]
  },
  {
   "cell_type": "markdown",
   "metadata": {},
   "source": [
    "![](images/cv.png)\n"
   ]
  },
  {
   "cell_type": "markdown",
   "metadata": {
    "slideshow": {
     "slide_type": "slide"
    }
   },
   "source": [
    "# But what's the best fitting model?"
   ]
  },
  {
   "cell_type": "code",
   "execution_count": null,
   "metadata": {
    "slideshow": {
     "slide_type": "slide"
    }
   },
   "outputs": [],
   "source": [
    "grid.fit(review_tf,\n",
    "         train['rating'])"
   ]
  },
  {
   "cell_type": "code",
   "execution_count": null,
   "metadata": {
    "slideshow": {
     "slide_type": "slide"
    }
   },
   "outputs": [],
   "source": [
    "grid.cv_results_"
   ]
  },
  {
   "cell_type": "code",
   "execution_count": null,
   "metadata": {
    "slideshow": {
     "slide_type": "slide"
    }
   },
   "outputs": [],
   "source": [
    "pd.DataFrame(grid.cv_results_)"
   ]
  },
  {
   "cell_type": "code",
   "execution_count": null,
   "metadata": {
    "slideshow": {
     "slide_type": "slide"
    }
   },
   "outputs": [],
   "source": [
    "grid.best_estimator_"
   ]
  },
  {
   "cell_type": "code",
   "execution_count": null,
   "metadata": {
    "slideshow": {
     "slide_type": "slide"
    }
   },
   "outputs": [],
   "source": [
    "train_prediction = grid.best_estimator_.predict(review_tf)\n",
    "\n",
    "print(accuracy_score(train['rating'], train_prediction))"
   ]
  },
  {
   "cell_type": "markdown",
   "metadata": {
    "slideshow": {
     "slide_type": "slide"
    }
   },
   "source": [
    "# But what's the best fitting model?"
   ]
  },
  {
   "cell_type": "code",
   "execution_count": 83,
   "metadata": {
    "slideshow": {
     "slide_type": "slide"
    }
   },
   "outputs": [],
   "source": [
    "from sklearn.pipeline import Pipeline"
   ]
  },
  {
   "cell_type": "code",
   "execution_count": null,
   "metadata": {
    "slideshow": {
     "slide_type": "skip"
    }
   },
   "outputs": [],
   "source": [
    "pipeline = Pipeline([\n",
    "                     ('vectorizer' , CountVectorizer()),\n",
    "                     ('classifier' , KNeighborsClassifier())\n",
    "                    ])\n",
    "\n",
    "parameters = {'vectorizer__max_features' : [300, 500, 700],\n",
    "              'classifier__n_neighbors' : [2,3, 5] }\n",
    "\n",
    "\n"
   ]
  },
  {
   "cell_type": "code",
   "execution_count": null,
   "metadata": {
    "slideshow": {
     "slide_type": "slide"
    }
   },
   "outputs": [],
   "source": [
    "grid_search = GridSearchCV(pipeline,\n",
    "                           parameters,\n",
    "                           n_jobs = -1,\n",
    "                           cv = 3,\n",
    "                           verbose = 1)"
   ]
  },
  {
   "cell_type": "code",
   "execution_count": null,
   "metadata": {
    "slideshow": {
     "slide_type": "slide"
    }
   },
   "outputs": [],
   "source": [
    "grid_search.fit(wine_df['description'],\n",
    "                wine_df['rating'])"
   ]
  },
  {
   "cell_type": "code",
   "execution_count": null,
   "metadata": {
    "slideshow": {
     "slide_type": "slide"
    }
   },
   "outputs": [],
   "source": [
    "grid_search.best_score_"
   ]
  },
  {
   "cell_type": "code",
   "execution_count": null,
   "metadata": {
    "slideshow": {
     "slide_type": "slide"
    }
   },
   "outputs": [],
   "source": [
    "grid_search.best_estimator_"
   ]
  },
  {
   "cell_type": "code",
   "execution_count": null,
   "metadata": {
    "slideshow": {
     "slide_type": "slide"
    }
   },
   "outputs": [],
   "source": [
    "grid_search.best_estimator_.get_params"
   ]
  },
  {
   "cell_type": "markdown",
   "metadata": {
    "slideshow": {
     "slide_type": "slide"
    }
   },
   "source": [
    "<div class=\"alert alert-info\">\n",
    "<h3> Homework</h3>\n",
    "<p> The \"data\" folder contains board games descriptions scraped from BoardGameGeeks.com. Analyze the relationship between the words in the <code>description</code> and whether or not reviewers thought it was a <code>quality_game</code>. \n",
    "</div>\n",
    "\n",
    "\n",
    "\n",
    "\n"
   ]
  },
  {
   "cell_type": "code",
   "execution_count": null,
   "metadata": {},
   "outputs": [],
   "source": [
    "bg_url = 'https://raw.githubusercontent.com/nealcaren/KULeuvenBigData/master/notebooks/data/boardgames.csv'"
   ]
  },
  {
   "cell_type": "code",
   "execution_count": null,
   "metadata": {},
   "outputs": [],
   "source": []
  }
 ],
 "metadata": {
  "celltoolbar": "Slideshow",
  "kernelspec": {
   "display_name": "Python 3",
   "language": "python",
   "name": "python3"
  },
  "language_info": {
   "codemirror_mode": {
    "name": "ipython",
    "version": 3
   },
   "file_extension": ".py",
   "mimetype": "text/x-python",
   "name": "python",
   "nbconvert_exporter": "python",
   "pygments_lexer": "ipython3",
   "version": "3.6.8"
  }
 },
 "nbformat": 4,
 "nbformat_minor": 2
}
