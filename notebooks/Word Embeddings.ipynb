{
 "cells": [
  {
   "cell_type": "code",
   "execution_count": 2,
   "metadata": {},
   "outputs": [
    {
     "name": "stdout",
     "output_type": "stream",
     "text": [
      "Collecting package metadata: done\n",
      "Solving environment: done\n",
      "\n",
      "## Package Plan ##\n",
      "\n",
      "  environment location: /Users/nealcaren/anaconda3/envs/kuleuven\n",
      "\n",
      "  added / updated specs:\n",
      "    - spacy\n",
      "\n",
      "\n",
      "The following packages will be downloaded:\n",
      "\n",
      "    package                    |            build\n",
      "    ---------------------------|-----------------\n",
      "    certifi-2019.3.9           |           py36_0         155 KB\n",
      "    regex-2019.04.14           |   py36h1de35cc_0         352 KB\n",
      "    spacy-2.0.16               |   py36h6440ff4_0        47.3 MB\n",
      "    thinc-6.12.1               |py36h1702cab_1000         1.3 MB  conda-forge\n",
      "    ------------------------------------------------------------\n",
      "                                           Total:        49.1 MB\n",
      "\n",
      "The following NEW packages will be INSTALLED:\n",
      "\n",
      "  cymem              pkgs/main/osx-64::cymem-2.0.2-py36h04f5b5a_0\n",
      "  cytoolz            pkgs/main/osx-64::cytoolz-0.9.0.1-py36h1de35cc_1\n",
      "  dill               pkgs/main/osx-64::dill-0.2.9-py36_0\n",
      "  msgpack-numpy      pkgs/main/osx-64::msgpack-numpy-0.4.3.2-py36_0\n",
      "  msgpack-python     pkgs/main/osx-64::msgpack-python-0.6.1-py36h04f5b5a_1\n",
      "  murmurhash         pkgs/main/osx-64::murmurhash-1.0.2-py36h0a44026_0\n",
      "  plac               pkgs/main/osx-64::plac-0.9.6-py36_0\n",
      "  preshed            pkgs/main/osx-64::preshed-2.0.1-py36h0a44026_0\n",
      "  regex              pkgs/main/osx-64::regex-2019.04.14-py36h1de35cc_0\n",
      "  spacy              pkgs/main/osx-64::spacy-2.0.16-py36h6440ff4_0\n",
      "  thinc              conda-forge/osx-64::thinc-6.12.1-py36h1702cab_1000\n",
      "  toolz              pkgs/main/osx-64::toolz-0.9.0-py36_0\n",
      "  tqdm               pkgs/main/osx-64::tqdm-4.31.1-py36_1\n",
      "  ujson              pkgs/main/osx-64::ujson-1.35-py36h1de35cc_0\n",
      "  wrapt              pkgs/main/osx-64::wrapt-1.10.11-py36h1de35cc_2\n",
      "\n",
      "The following packages will be SUPERSEDED by a higher-priority channel:\n",
      "\n",
      "  ca-certificates    conda-forge::ca-certificates-2019.3.9~ --> pkgs/main::ca-certificates-2019.1.23-0\n",
      "  certifi                                       conda-forge --> pkgs/main\n",
      "  openssl            conda-forge::openssl-1.1.1b-h01d97ff_2 --> pkgs/main::openssl-1.1.1b-h1de35cc_1\n",
      "\n",
      "\n",
      "\n",
      "Downloading and Extracting Packages\n",
      "thinc-6.12.1         | 1.3 MB    | ##################################### | 100% \n",
      "spacy-2.0.16         | 47.3 MB   | ##################################### | 100% \n",
      "certifi-2019.3.9     | 155 KB    | ##################################### | 100% \n",
      "regex-2019.04.14     | 352 KB    | ##################################### | 100% \n",
      "Preparing transaction: done\n",
      "Verifying transaction: done\n",
      "Executing transaction: done\n",
      "\n",
      "Note: you may need to restart the kernel to use updated packages.\n"
     ]
    }
   ],
   "source": [
    "%conda install spacy"
   ]
  },
  {
   "cell_type": "code",
   "execution_count": 4,
   "metadata": {},
   "outputs": [],
   "source": [
    "import spacy"
   ]
  },
  {
   "cell_type": "code",
   "execution_count": 32,
   "metadata": {},
   "outputs": [
    {
     "name": "stdout",
     "output_type": "stream",
     "text": [
      "\n",
      "\u001b[93m    Linking successful\u001b[0m\n",
      "    /Users/nealcaren/anaconda3/envs/kuleuven/lib/python3.6/site-packages/en_core_web_sm\n",
      "    -->\n",
      "    /Users/nealcaren/anaconda3/envs/kuleuven/lib/python3.6/site-packages/spacy/data/en_core_web_sm\n",
      "\n",
      "    You can now load the model via spacy.load('en_core_web_sm')\n",
      "\n"
     ]
    }
   ],
   "source": [
    "import spacy.cli\n",
    "spacy.cli.download(\"en_core_web_sm\")"
   ]
  },
  {
   "cell_type": "code",
   "execution_count": 34,
   "metadata": {},
   "outputs": [],
   "source": [
    "nlp = spacy.load('en_core_web_sm')"
   ]
  },
  {
   "cell_type": "code",
   "execution_count": 39,
   "metadata": {},
   "outputs": [],
   "source": [
    "business_sentence = ('European authorities fined Google a record $5.1 billion on Wednesday for'\n",
    "                     'abusing its power in the mobile phone market and ordered the company to'\n",
    "                     'alter its practices.')"
   ]
  },
  {
   "cell_type": "code",
   "execution_count": 40,
   "metadata": {},
   "outputs": [],
   "source": [
    "doc = nlp(business_sentence)"
   ]
  },
  {
   "cell_type": "code",
   "execution_count": 41,
   "metadata": {},
   "outputs": [
    {
     "data": {
      "text/plain": [
       "'European authorities fined Google a record $5.1 billion on Wednesday forabusing its power in the mobile phone market and ordered the company toalter its practices.'"
      ]
     },
     "execution_count": 41,
     "metadata": {},
     "output_type": "execute_result"
    }
   ],
   "source": [
    "doc.text"
   ]
  },
  {
   "cell_type": "code",
   "execution_count": 42,
   "metadata": {},
   "outputs": [
    {
     "data": {
      "text/plain": [
       "0.0"
      ]
     },
     "execution_count": 42,
     "metadata": {},
     "output_type": "execute_result"
    }
   ],
   "source": [
    "doc.sentiment"
   ]
  },
  {
   "cell_type": "code",
   "execution_count": 25,
   "metadata": {},
   "outputs": [],
   "source": [
    "sample = '''You`re a lotta laughs ain`t you babe\n",
    "You cracked me up, I laughed so much I nearly died\n",
    "It`s so funny I was weeping\n",
    "Cried so hard, I nearly split my side\n",
    "I watched you laughing on the TV\n",
    "I don`t get it said the kindly host\n",
    "But there are many here among us\n",
    "Who feel the sight is but a joke\n",
    "Your imagination`s running riot\n",
    "Sometimes I swear you believe what you say\n",
    "No-one seems to notice it`s the same joke\n",
    "It`s just told in a thousand different ways\n",
    "And I can`t wait to read the new ones\n",
    "Yeah the comedy just gets better every day\n",
    "You`re a lotta laughs ain`t you babe\n",
    "It`s funny how it all turned out that way\n",
    "Ooh, you should have known better\n",
    "You should have known better, a-ha-ha\n",
    "It`s not for you, this one`s for me\n",
    "It`s not for you, this one`s for me\n",
    "I saw a picture of you grinning\n",
    "Yeah that smirk covered your entire face\n",
    "It almost split your head in two\n",
    "I hear you sold it to OK\n",
    "Sell a photo of you laughing\n",
    "The more you hoot the more they pay\n",
    "You don`t even need to get your clothes off anymore\n",
    "You`re a bit too old for that stuff anyway\n",
    "Somebody saw you at the party\n",
    "You did the one where you`re falling flat on your face\n",
    "You had the whole place cracking up in stitches\n",
    "Apparently you fall with such good grace\n",
    "And the teenage clothes and see-through sizes\n",
    "The mutton dishes up on the Sunday plate\n",
    "Is now the lamb in ghostly guises\n",
    "It`s all done in the best of taste\n",
    "Ooh, you should have known better\n",
    "You should have known better, a-ha-ha\n",
    "It`s not for you, this one`s for me\n",
    "It`s not for you, this one`s for me'''"
   ]
  },
  {
   "cell_type": "code",
   "execution_count": null,
   "metadata": {},
   "outputs": [],
   "source": [
    "doc = nlp(sample)"
   ]
  },
  {
   "cell_type": "code",
   "execution_count": 35,
   "metadata": {},
   "outputs": [],
   "source": []
  },
  {
   "cell_type": "code",
   "execution_count": 31,
   "metadata": {},
   "outputs": [
    {
     "name": "stdout",
     "output_type": "stream",
     "text": [
      "funny ADJ\n",
      "my ADJ\n",
      "kindly ADJ\n",
      "many ADJ\n",
      "Your ADJ\n",
      "imagination`s ADJ\n",
      "same ADJ\n",
      "different ADJ\n",
      "new ADJ\n",
      "better ADJ\n",
      "funny ADJ\n",
      "better ADJ\n",
      "better ADJ\n",
      "your ADJ\n",
      "entire ADJ\n",
      "your ADJ\n",
      "more ADJ\n",
      "your ADJ\n",
      "old ADJ\n",
      "flat ADJ\n",
      "your ADJ\n",
      "whole ADJ\n",
      "such ADJ\n",
      "good ADJ\n",
      "teenage ADJ\n",
      "ghostly ADJ\n",
      "best ADJ\n",
      "better ADJ\n",
      "better ADJ\n"
     ]
    }
   ],
   "source": [
    "for token in doc:\n",
    "    if token.pos_ == \"ADJ\":\n",
    "        print(token.text, token.pos_,)"
   ]
  },
  {
   "cell_type": "code",
   "execution_count": null,
   "metadata": {},
   "outputs": [],
   "source": []
  }
 ],
 "metadata": {
  "kernelspec": {
   "display_name": "Python 3",
   "language": "python",
   "name": "python3"
  },
  "language_info": {
   "codemirror_mode": {
    "name": "ipython",
    "version": 3
   },
   "file_extension": ".py",
   "mimetype": "text/x-python",
   "name": "python",
   "nbconvert_exporter": "python",
   "pygments_lexer": "ipython3",
   "version": "3.6.8"
  }
 },
 "nbformat": 4,
 "nbformat_minor": 2
}
