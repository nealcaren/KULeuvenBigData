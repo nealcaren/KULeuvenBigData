{
 "cells": [
  {
   "cell_type": "markdown",
   "metadata": {},
   "source": [
    "<div class=\"alert alert-info\">\n",
    "<h3>Homework</h3>\n",
    "<p>The file winereviews.csv has more than 85,000 user submitted wine reviews. What are the most common words used in reviews (located in the \"description\" field)? What is the sentiment in the reviews? Bonus: Is there variation in the words used for reviews above and below the median review score? Super bonus: Could you construct a wine sentiment dictionary? \n",
    "\n",
    "<p> https://github.com/nealcaren/KULeuvenBigData/blob/master/notebooks/data/wine_reviews.csv?raw=true\n",
    "</div>\n",
    "\n",
    "\n",
    "\n",
    "\n",
    "\n",
    "    "
   ]
  },
  {
   "cell_type": "markdown",
   "metadata": {},
   "source": [
    "Import the most likely libraries."
   ]
  },
  {
   "cell_type": "code",
   "execution_count": 1,
   "metadata": {},
   "outputs": [],
   "source": [
    "%matplotlib inline\n",
    "\n",
    "import pandas as pd\n",
    "import seaborn as sns\n",
    "\n",
    "from vaderSentiment.vaderSentiment import SentimentIntensityAnalyzer\n",
    "from afinn import Afinn\n",
    "\n",
    "from sklearn.feature_extraction.text import CountVectorizer, TfidfVectorizer\n"
   ]
  },
  {
   "cell_type": "markdown",
   "metadata": {},
   "source": [
    "Load the data from the internet. Try to only do this once because it takes a couple of minutes, even on a fast internet connect."
   ]
  },
  {
   "cell_type": "code",
   "execution_count": 2,
   "metadata": {},
   "outputs": [],
   "source": [
    "wine_url = 'https://github.com/nealcaren/KULeuvenBigData/blob/master/notebooks/data/wine_reviews.csv?raw=true'\n",
    "wine_df = pd.read_csv(wine_url)"
   ]
  },
  {
   "cell_type": "markdown",
   "metadata": {},
   "source": [
    "Save the data, so that the next time, we can just load it locally."
   ]
  },
  {
   "cell_type": "code",
   "execution_count": 3,
   "metadata": {},
   "outputs": [],
   "source": [
    "wine_df.to_csv('data/wine_reviews.csv')"
   ]
  },
  {
   "cell_type": "code",
   "execution_count": 4,
   "metadata": {},
   "outputs": [],
   "source": [
    "wine_df = pd.read_csv('data/wine_reviews.csv')"
   ]
  },
  {
   "cell_type": "markdown",
   "metadata": {},
   "source": [
    "Inspection"
   ]
  },
  {
   "cell_type": "code",
   "execution_count": 5,
   "metadata": {},
   "outputs": [
    {
     "data": {
      "text/html": [
       "<div>\n",
       "<style scoped>\n",
       "    .dataframe tbody tr th:only-of-type {\n",
       "        vertical-align: middle;\n",
       "    }\n",
       "\n",
       "    .dataframe tbody tr th {\n",
       "        vertical-align: top;\n",
       "    }\n",
       "\n",
       "    .dataframe thead th {\n",
       "        text-align: right;\n",
       "    }\n",
       "</style>\n",
       "<table border=\"1\" class=\"dataframe\">\n",
       "  <thead>\n",
       "    <tr style=\"text-align: right;\">\n",
       "      <th></th>\n",
       "      <th>Unnamed: 0</th>\n",
       "      <th>country</th>\n",
       "      <th>description</th>\n",
       "      <th>designation</th>\n",
       "      <th>points</th>\n",
       "      <th>price</th>\n",
       "      <th>province</th>\n",
       "      <th>region_1</th>\n",
       "      <th>region_2</th>\n",
       "      <th>taster_name</th>\n",
       "      <th>taster_twitter_handle</th>\n",
       "      <th>title</th>\n",
       "      <th>variety</th>\n",
       "      <th>winery</th>\n",
       "      <th>rating</th>\n",
       "    </tr>\n",
       "  </thead>\n",
       "  <tbody>\n",
       "    <tr>\n",
       "      <th>0</th>\n",
       "      <td>0</td>\n",
       "      <td>Italy</td>\n",
       "      <td>Aromas include tropical fruit, broom, brimston...</td>\n",
       "      <td>Vulkà Bianco</td>\n",
       "      <td>87</td>\n",
       "      <td>NaN</td>\n",
       "      <td>Sicily &amp; Sardinia</td>\n",
       "      <td>Etna</td>\n",
       "      <td>NaN</td>\n",
       "      <td>Kerin O’Keefe</td>\n",
       "      <td>@kerinokeefe</td>\n",
       "      <td>Nicosia 2013 Vulkà Bianco  (Etna)</td>\n",
       "      <td>White Blend</td>\n",
       "      <td>Nicosia</td>\n",
       "      <td>Low</td>\n",
       "    </tr>\n",
       "    <tr>\n",
       "      <th>1</th>\n",
       "      <td>1</td>\n",
       "      <td>Portugal</td>\n",
       "      <td>This is ripe and fruity, a wine that is smooth...</td>\n",
       "      <td>Avidagos</td>\n",
       "      <td>87</td>\n",
       "      <td>15.0</td>\n",
       "      <td>Douro</td>\n",
       "      <td>NaN</td>\n",
       "      <td>NaN</td>\n",
       "      <td>Roger Voss</td>\n",
       "      <td>@vossroger</td>\n",
       "      <td>Quinta dos Avidagos 2011 Avidagos Red (Douro)</td>\n",
       "      <td>Portuguese Red</td>\n",
       "      <td>Quinta dos Avidagos</td>\n",
       "      <td>Low</td>\n",
       "    </tr>\n",
       "    <tr>\n",
       "      <th>2</th>\n",
       "      <td>2</td>\n",
       "      <td>US</td>\n",
       "      <td>Tart and snappy, the flavors of lime flesh and...</td>\n",
       "      <td>NaN</td>\n",
       "      <td>87</td>\n",
       "      <td>14.0</td>\n",
       "      <td>Oregon</td>\n",
       "      <td>Willamette Valley</td>\n",
       "      <td>Willamette Valley</td>\n",
       "      <td>Paul Gregutt</td>\n",
       "      <td>@paulgwine</td>\n",
       "      <td>Rainstorm 2013 Pinot Gris (Willamette Valley)</td>\n",
       "      <td>Pinot Gris</td>\n",
       "      <td>Rainstorm</td>\n",
       "      <td>Low</td>\n",
       "    </tr>\n",
       "    <tr>\n",
       "      <th>3</th>\n",
       "      <td>3</td>\n",
       "      <td>US</td>\n",
       "      <td>Pineapple rind, lemon pith and orange blossom ...</td>\n",
       "      <td>Reserve Late Harvest</td>\n",
       "      <td>87</td>\n",
       "      <td>13.0</td>\n",
       "      <td>Michigan</td>\n",
       "      <td>Lake Michigan Shore</td>\n",
       "      <td>NaN</td>\n",
       "      <td>Alexander Peartree</td>\n",
       "      <td>NaN</td>\n",
       "      <td>St. Julian 2013 Reserve Late Harvest Riesling ...</td>\n",
       "      <td>Riesling</td>\n",
       "      <td>St. Julian</td>\n",
       "      <td>Low</td>\n",
       "    </tr>\n",
       "    <tr>\n",
       "      <th>4</th>\n",
       "      <td>4</td>\n",
       "      <td>US</td>\n",
       "      <td>Much like the regular bottling from 2012, this...</td>\n",
       "      <td>Vintner's Reserve Wild Child Block</td>\n",
       "      <td>87</td>\n",
       "      <td>65.0</td>\n",
       "      <td>Oregon</td>\n",
       "      <td>Willamette Valley</td>\n",
       "      <td>Willamette Valley</td>\n",
       "      <td>Paul Gregutt</td>\n",
       "      <td>@paulgwine</td>\n",
       "      <td>Sweet Cheeks 2012 Vintner's Reserve Wild Child...</td>\n",
       "      <td>Pinot Noir</td>\n",
       "      <td>Sweet Cheeks</td>\n",
       "      <td>Low</td>\n",
       "    </tr>\n",
       "  </tbody>\n",
       "</table>\n",
       "</div>"
      ],
      "text/plain": [
       "   Unnamed: 0   country                                        description  \\\n",
       "0           0     Italy  Aromas include tropical fruit, broom, brimston...   \n",
       "1           1  Portugal  This is ripe and fruity, a wine that is smooth...   \n",
       "2           2        US  Tart and snappy, the flavors of lime flesh and...   \n",
       "3           3        US  Pineapple rind, lemon pith and orange blossom ...   \n",
       "4           4        US  Much like the regular bottling from 2012, this...   \n",
       "\n",
       "                          designation  points  price           province  \\\n",
       "0                        Vulkà Bianco      87    NaN  Sicily & Sardinia   \n",
       "1                            Avidagos      87   15.0              Douro   \n",
       "2                                 NaN      87   14.0             Oregon   \n",
       "3                Reserve Late Harvest      87   13.0           Michigan   \n",
       "4  Vintner's Reserve Wild Child Block      87   65.0             Oregon   \n",
       "\n",
       "              region_1           region_2         taster_name  \\\n",
       "0                 Etna                NaN       Kerin O’Keefe   \n",
       "1                  NaN                NaN          Roger Voss   \n",
       "2    Willamette Valley  Willamette Valley        Paul Gregutt   \n",
       "3  Lake Michigan Shore                NaN  Alexander Peartree   \n",
       "4    Willamette Valley  Willamette Valley        Paul Gregutt   \n",
       "\n",
       "  taster_twitter_handle                                              title  \\\n",
       "0          @kerinokeefe                  Nicosia 2013 Vulkà Bianco  (Etna)   \n",
       "1            @vossroger      Quinta dos Avidagos 2011 Avidagos Red (Douro)   \n",
       "2           @paulgwine       Rainstorm 2013 Pinot Gris (Willamette Valley)   \n",
       "3                   NaN  St. Julian 2013 Reserve Late Harvest Riesling ...   \n",
       "4           @paulgwine   Sweet Cheeks 2012 Vintner's Reserve Wild Child...   \n",
       "\n",
       "          variety               winery rating  \n",
       "0     White Blend              Nicosia    Low  \n",
       "1  Portuguese Red  Quinta dos Avidagos    Low  \n",
       "2      Pinot Gris            Rainstorm    Low  \n",
       "3        Riesling           St. Julian    Low  \n",
       "4      Pinot Noir         Sweet Cheeks    Low  "
      ]
     },
     "execution_count": 5,
     "metadata": {},
     "output_type": "execute_result"
    }
   ],
   "source": [
    "wine_df.head()"
   ]
  },
  {
   "cell_type": "code",
   "execution_count": 6,
   "metadata": {},
   "outputs": [
    {
     "data": {
      "text/html": [
       "<div>\n",
       "<style scoped>\n",
       "    .dataframe tbody tr th:only-of-type {\n",
       "        vertical-align: middle;\n",
       "    }\n",
       "\n",
       "    .dataframe tbody tr th {\n",
       "        vertical-align: top;\n",
       "    }\n",
       "\n",
       "    .dataframe thead th {\n",
       "        text-align: right;\n",
       "    }\n",
       "</style>\n",
       "<table border=\"1\" class=\"dataframe\">\n",
       "  <thead>\n",
       "    <tr style=\"text-align: right;\">\n",
       "      <th></th>\n",
       "      <th>Unnamed: 0</th>\n",
       "      <th>points</th>\n",
       "      <th>price</th>\n",
       "    </tr>\n",
       "  </thead>\n",
       "  <tbody>\n",
       "    <tr>\n",
       "      <th>count</th>\n",
       "      <td>85128.000000</td>\n",
       "      <td>85128.000000</td>\n",
       "      <td>79276.000000</td>\n",
       "    </tr>\n",
       "    <tr>\n",
       "      <th>mean</th>\n",
       "      <td>42563.500000</td>\n",
       "      <td>88.177016</td>\n",
       "      <td>36.888579</td>\n",
       "    </tr>\n",
       "    <tr>\n",
       "      <th>std</th>\n",
       "      <td>24574.481195</td>\n",
       "      <td>3.676081</td>\n",
       "      <td>46.700137</td>\n",
       "    </tr>\n",
       "    <tr>\n",
       "      <th>min</th>\n",
       "      <td>0.000000</td>\n",
       "      <td>80.000000</td>\n",
       "      <td>4.000000</td>\n",
       "    </tr>\n",
       "    <tr>\n",
       "      <th>25%</th>\n",
       "      <td>21281.750000</td>\n",
       "      <td>85.000000</td>\n",
       "      <td>15.000000</td>\n",
       "    </tr>\n",
       "    <tr>\n",
       "      <th>50%</th>\n",
       "      <td>42563.500000</td>\n",
       "      <td>87.000000</td>\n",
       "      <td>25.000000</td>\n",
       "    </tr>\n",
       "    <tr>\n",
       "      <th>75%</th>\n",
       "      <td>63845.250000</td>\n",
       "      <td>92.000000</td>\n",
       "      <td>45.000000</td>\n",
       "    </tr>\n",
       "    <tr>\n",
       "      <th>max</th>\n",
       "      <td>85127.000000</td>\n",
       "      <td>100.000000</td>\n",
       "      <td>2500.000000</td>\n",
       "    </tr>\n",
       "  </tbody>\n",
       "</table>\n",
       "</div>"
      ],
      "text/plain": [
       "         Unnamed: 0        points         price\n",
       "count  85128.000000  85128.000000  79276.000000\n",
       "mean   42563.500000     88.177016     36.888579\n",
       "std    24574.481195      3.676081     46.700137\n",
       "min        0.000000     80.000000      4.000000\n",
       "25%    21281.750000     85.000000     15.000000\n",
       "50%    42563.500000     87.000000     25.000000\n",
       "75%    63845.250000     92.000000     45.000000\n",
       "max    85127.000000    100.000000   2500.000000"
      ]
     },
     "execution_count": 6,
     "metadata": {},
     "output_type": "execute_result"
    }
   ],
   "source": [
    "wine_df.describe()"
   ]
  },
  {
   "cell_type": "code",
   "execution_count": 7,
   "metadata": {},
   "outputs": [
    {
     "name": "stdout",
     "output_type": "stream",
     "text": [
      "<class 'pandas.core.frame.DataFrame'>\n",
      "RangeIndex: 85128 entries, 0 to 85127\n",
      "Data columns (total 15 columns):\n",
      "Unnamed: 0               85128 non-null int64\n",
      "country                  85099 non-null object\n",
      "description              85128 non-null object\n",
      "designation              60343 non-null object\n",
      "points                   85128 non-null int64\n",
      "price                    79276 non-null float64\n",
      "province                 85099 non-null object\n",
      "region_1                 71476 non-null object\n",
      "region_2                 33529 non-null object\n",
      "taster_name              65765 non-null object\n",
      "taster_twitter_handle    62785 non-null object\n",
      "title                    85128 non-null object\n",
      "variety                  85128 non-null object\n",
      "winery                   85128 non-null object\n",
      "rating                   85128 non-null object\n",
      "dtypes: float64(1), int64(2), object(12)\n",
      "memory usage: 9.7+ MB\n"
     ]
    }
   ],
   "source": [
    "wine_df.info()"
   ]
  },
  {
   "cell_type": "markdown",
   "metadata": {},
   "source": [
    "What are the most common words used in reviews (located in the \"description\" field)?"
   ]
  },
  {
   "cell_type": "code",
   "execution_count": 8,
   "metadata": {},
   "outputs": [],
   "source": [
    "vectorizer = CountVectorizer(max_features=1000)"
   ]
  },
  {
   "cell_type": "code",
   "execution_count": 9,
   "metadata": {},
   "outputs": [
    {
     "data": {
      "text/plain": [
       "1000"
      ]
     },
     "execution_count": 9,
     "metadata": {},
     "output_type": "execute_result"
    }
   ],
   "source": [
    "vectorizer.fit(wine_df['description'])\n",
    "len(vectorizer.get_feature_names())"
   ]
  },
  {
   "cell_type": "code",
   "execution_count": 10,
   "metadata": {},
   "outputs": [],
   "source": [
    "frequency_array = vectorizer.transform(wine_df['description'])"
   ]
  },
  {
   "cell_type": "code",
   "execution_count": 11,
   "metadata": {},
   "outputs": [],
   "source": [
    "word_freq_df = pd.DataFrame(frequency_array.toarray(),\n",
    "                            columns = vectorizer.get_feature_names())"
   ]
  },
  {
   "cell_type": "code",
   "execution_count": 12,
   "metadata": {},
   "outputs": [
    {
     "data": {
      "text/plain": [
       "and        225810\n",
       "the        143854\n",
       "of         110486\n",
       "with        79130\n",
       "this        74461\n",
       "is          64605\n",
       "it          57057\n",
       "wine        52801\n",
       "flavors     41615\n",
       "in          40839\n",
       "to          36730\n",
       "fruit       31912\n",
       "on          29717\n",
       "that        27027\n",
       "aromas      24957\n",
       "palate      24094\n",
       "finish      22475\n",
       "acidity     22435\n",
       "but         21455\n",
       "from        21171\n",
       "dtype: int64"
      ]
     },
     "execution_count": 12,
     "metadata": {},
     "output_type": "execute_result"
    }
   ],
   "source": [
    "word_freq_df.sum().sort_values(ascending=False)[:20]"
   ]
  },
  {
   "cell_type": "code",
   "execution_count": 13,
   "metadata": {},
   "outputs": [
    {
     "data": {
      "text/html": [
       "<div>\n",
       "<style scoped>\n",
       "    .dataframe tbody tr th:only-of-type {\n",
       "        vertical-align: middle;\n",
       "    }\n",
       "\n",
       "    .dataframe tbody tr th {\n",
       "        vertical-align: top;\n",
       "    }\n",
       "\n",
       "    .dataframe thead th {\n",
       "        text-align: right;\n",
       "    }\n",
       "</style>\n",
       "<table border=\"1\" class=\"dataframe\">\n",
       "  <thead>\n",
       "    <tr style=\"text-align: right;\">\n",
       "      <th></th>\n",
       "      <th>Unnamed: 0</th>\n",
       "      <th>points</th>\n",
       "      <th>price</th>\n",
       "    </tr>\n",
       "  </thead>\n",
       "  <tbody>\n",
       "    <tr>\n",
       "      <th>count</th>\n",
       "      <td>85128.000000</td>\n",
       "      <td>85128.000000</td>\n",
       "      <td>79276.000000</td>\n",
       "    </tr>\n",
       "    <tr>\n",
       "      <th>mean</th>\n",
       "      <td>42563.500000</td>\n",
       "      <td>88.177016</td>\n",
       "      <td>36.888579</td>\n",
       "    </tr>\n",
       "    <tr>\n",
       "      <th>std</th>\n",
       "      <td>24574.481195</td>\n",
       "      <td>3.676081</td>\n",
       "      <td>46.700137</td>\n",
       "    </tr>\n",
       "    <tr>\n",
       "      <th>min</th>\n",
       "      <td>0.000000</td>\n",
       "      <td>80.000000</td>\n",
       "      <td>4.000000</td>\n",
       "    </tr>\n",
       "    <tr>\n",
       "      <th>25%</th>\n",
       "      <td>21281.750000</td>\n",
       "      <td>85.000000</td>\n",
       "      <td>15.000000</td>\n",
       "    </tr>\n",
       "    <tr>\n",
       "      <th>50%</th>\n",
       "      <td>42563.500000</td>\n",
       "      <td>87.000000</td>\n",
       "      <td>25.000000</td>\n",
       "    </tr>\n",
       "    <tr>\n",
       "      <th>75%</th>\n",
       "      <td>63845.250000</td>\n",
       "      <td>92.000000</td>\n",
       "      <td>45.000000</td>\n",
       "    </tr>\n",
       "    <tr>\n",
       "      <th>max</th>\n",
       "      <td>85127.000000</td>\n",
       "      <td>100.000000</td>\n",
       "      <td>2500.000000</td>\n",
       "    </tr>\n",
       "  </tbody>\n",
       "</table>\n",
       "</div>"
      ],
      "text/plain": [
       "         Unnamed: 0        points         price\n",
       "count  85128.000000  85128.000000  79276.000000\n",
       "mean   42563.500000     88.177016     36.888579\n",
       "std    24574.481195      3.676081     46.700137\n",
       "min        0.000000     80.000000      4.000000\n",
       "25%    21281.750000     85.000000     15.000000\n",
       "50%    42563.500000     87.000000     25.000000\n",
       "75%    63845.250000     92.000000     45.000000\n",
       "max    85127.000000    100.000000   2500.000000"
      ]
     },
     "execution_count": 13,
     "metadata": {},
     "output_type": "execute_result"
    }
   ],
   "source": [
    "wine_df.describe()"
   ]
  },
  {
   "cell_type": "code",
   "execution_count": 14,
   "metadata": {},
   "outputs": [],
   "source": [
    "wine_df['High Score'] = wine_df['points'] > 87"
   ]
  },
  {
   "cell_type": "code",
   "execution_count": 15,
   "metadata": {},
   "outputs": [
    {
     "data": {
      "text/plain": [
       "0.3951108918334743"
      ]
     },
     "execution_count": 15,
     "metadata": {},
     "output_type": "execute_result"
    }
   ],
   "source": [
    "wine_df['High Score'].mean()"
   ]
  },
  {
   "cell_type": "code",
   "execution_count": 16,
   "metadata": {},
   "outputs": [],
   "source": [
    "vectorizer2 = CountVectorizer(max_features=500, \n",
    "                             stop_words='english',\n",
    "                              binary=True)"
   ]
  },
  {
   "cell_type": "code",
   "execution_count": 17,
   "metadata": {},
   "outputs": [],
   "source": [
    "\n",
    "\n",
    "vectorizer2.fit(wine_df['description'])\n",
    "\n",
    "frequency_array = vectorizer2.transform(wine_df['description'])\n",
    "\n",
    "word_freq_df = pd.DataFrame(frequency_array.toarray(),\n",
    "                            columns = vectorizer2.get_feature_names())"
   ]
  },
  {
   "cell_type": "code",
   "execution_count": 18,
   "metadata": {},
   "outputs": [
    {
     "data": {
      "text/html": [
       "<div>\n",
       "<style scoped>\n",
       "    .dataframe tbody tr th:only-of-type {\n",
       "        vertical-align: middle;\n",
       "    }\n",
       "\n",
       "    .dataframe tbody tr th {\n",
       "        vertical-align: top;\n",
       "    }\n",
       "\n",
       "    .dataframe thead th {\n",
       "        text-align: right;\n",
       "    }\n",
       "</style>\n",
       "<table border=\"1\" class=\"dataframe\">\n",
       "  <thead>\n",
       "    <tr style=\"text-align: right;\">\n",
       "      <th></th>\n",
       "      <th>10</th>\n",
       "      <th>100</th>\n",
       "      <th>20</th>\n",
       "      <th>2015</th>\n",
       "      <th>2016</th>\n",
       "      <th>2017</th>\n",
       "      <th>2018</th>\n",
       "      <th>2019</th>\n",
       "      <th>2020</th>\n",
       "      <th>2022</th>\n",
       "      <th>...</th>\n",
       "      <th>wood</th>\n",
       "      <th>woody</th>\n",
       "      <th>year</th>\n",
       "      <th>years</th>\n",
       "      <th>yeasty</th>\n",
       "      <th>yellow</th>\n",
       "      <th>young</th>\n",
       "      <th>zest</th>\n",
       "      <th>zesty</th>\n",
       "      <th>zinfandel</th>\n",
       "    </tr>\n",
       "  </thead>\n",
       "  <tbody>\n",
       "    <tr>\n",
       "      <th>0</th>\n",
       "      <td>0</td>\n",
       "      <td>0</td>\n",
       "      <td>0</td>\n",
       "      <td>0</td>\n",
       "      <td>0</td>\n",
       "      <td>0</td>\n",
       "      <td>0</td>\n",
       "      <td>0</td>\n",
       "      <td>0</td>\n",
       "      <td>0</td>\n",
       "      <td>...</td>\n",
       "      <td>0</td>\n",
       "      <td>0</td>\n",
       "      <td>0</td>\n",
       "      <td>0</td>\n",
       "      <td>0</td>\n",
       "      <td>0</td>\n",
       "      <td>0</td>\n",
       "      <td>0</td>\n",
       "      <td>0</td>\n",
       "      <td>0</td>\n",
       "    </tr>\n",
       "    <tr>\n",
       "      <th>1</th>\n",
       "      <td>0</td>\n",
       "      <td>0</td>\n",
       "      <td>0</td>\n",
       "      <td>0</td>\n",
       "      <td>1</td>\n",
       "      <td>0</td>\n",
       "      <td>0</td>\n",
       "      <td>0</td>\n",
       "      <td>0</td>\n",
       "      <td>0</td>\n",
       "      <td>...</td>\n",
       "      <td>0</td>\n",
       "      <td>0</td>\n",
       "      <td>0</td>\n",
       "      <td>0</td>\n",
       "      <td>0</td>\n",
       "      <td>0</td>\n",
       "      <td>0</td>\n",
       "      <td>0</td>\n",
       "      <td>0</td>\n",
       "      <td>0</td>\n",
       "    </tr>\n",
       "    <tr>\n",
       "      <th>2</th>\n",
       "      <td>0</td>\n",
       "      <td>0</td>\n",
       "      <td>0</td>\n",
       "      <td>0</td>\n",
       "      <td>0</td>\n",
       "      <td>0</td>\n",
       "      <td>0</td>\n",
       "      <td>0</td>\n",
       "      <td>0</td>\n",
       "      <td>0</td>\n",
       "      <td>...</td>\n",
       "      <td>0</td>\n",
       "      <td>0</td>\n",
       "      <td>0</td>\n",
       "      <td>0</td>\n",
       "      <td>0</td>\n",
       "      <td>0</td>\n",
       "      <td>0</td>\n",
       "      <td>0</td>\n",
       "      <td>0</td>\n",
       "      <td>0</td>\n",
       "    </tr>\n",
       "    <tr>\n",
       "      <th>3</th>\n",
       "      <td>0</td>\n",
       "      <td>0</td>\n",
       "      <td>0</td>\n",
       "      <td>0</td>\n",
       "      <td>0</td>\n",
       "      <td>0</td>\n",
       "      <td>0</td>\n",
       "      <td>0</td>\n",
       "      <td>0</td>\n",
       "      <td>0</td>\n",
       "      <td>...</td>\n",
       "      <td>0</td>\n",
       "      <td>0</td>\n",
       "      <td>0</td>\n",
       "      <td>0</td>\n",
       "      <td>0</td>\n",
       "      <td>0</td>\n",
       "      <td>0</td>\n",
       "      <td>0</td>\n",
       "      <td>0</td>\n",
       "      <td>0</td>\n",
       "    </tr>\n",
       "    <tr>\n",
       "      <th>4</th>\n",
       "      <td>0</td>\n",
       "      <td>0</td>\n",
       "      <td>0</td>\n",
       "      <td>0</td>\n",
       "      <td>0</td>\n",
       "      <td>0</td>\n",
       "      <td>0</td>\n",
       "      <td>0</td>\n",
       "      <td>0</td>\n",
       "      <td>0</td>\n",
       "      <td>...</td>\n",
       "      <td>0</td>\n",
       "      <td>0</td>\n",
       "      <td>0</td>\n",
       "      <td>0</td>\n",
       "      <td>0</td>\n",
       "      <td>0</td>\n",
       "      <td>0</td>\n",
       "      <td>0</td>\n",
       "      <td>0</td>\n",
       "      <td>0</td>\n",
       "    </tr>\n",
       "  </tbody>\n",
       "</table>\n",
       "<p>5 rows × 500 columns</p>\n",
       "</div>"
      ],
      "text/plain": [
       "   10  100  20  2015  2016  2017  2018  2019  2020  2022  ...  wood  woody  \\\n",
       "0   0    0   0     0     0     0     0     0     0     0  ...     0      0   \n",
       "1   0    0   0     0     1     0     0     0     0     0  ...     0      0   \n",
       "2   0    0   0     0     0     0     0     0     0     0  ...     0      0   \n",
       "3   0    0   0     0     0     0     0     0     0     0  ...     0      0   \n",
       "4   0    0   0     0     0     0     0     0     0     0  ...     0      0   \n",
       "\n",
       "   year  years  yeasty  yellow  young  zest  zesty  zinfandel  \n",
       "0     0      0       0       0      0     0      0          0  \n",
       "1     0      0       0       0      0     0      0          0  \n",
       "2     0      0       0       0      0     0      0          0  \n",
       "3     0      0       0       0      0     0      0          0  \n",
       "4     0      0       0       0      0     0      0          0  \n",
       "\n",
       "[5 rows x 500 columns]"
      ]
     },
     "execution_count": 18,
     "metadata": {},
     "output_type": "execute_result"
    }
   ],
   "source": [
    "word_freq_df.head()"
   ]
  },
  {
   "cell_type": "code",
   "execution_count": 19,
   "metadata": {},
   "outputs": [
    {
     "data": {
      "text/plain": [
       "wine       19012\n",
       "flavors    13765\n",
       "fruit      12411\n",
       "drink      10123\n",
       "palate     10050\n",
       "tannins     9644\n",
       "black       9152\n",
       "acidity     8967\n",
       "aromas      8443\n",
       "ripe        8230\n",
       "finish      8139\n",
       "cherry      7844\n",
       "rich        6929\n",
       "spice       5916\n",
       "notes       4861\n",
       "dark        4785\n",
       "red         4666\n",
       "nose        4646\n",
       "oak         4547\n",
       "fruits      4100\n",
       "dtype: int64"
      ]
     },
     "execution_count": 19,
     "metadata": {},
     "output_type": "execute_result"
    }
   ],
   "source": [
    "word_freq_df[wine_df['High Score'] == True].sum().sort_values(ascending=False)[:20]"
   ]
  },
  {
   "cell_type": "code",
   "execution_count": 20,
   "metadata": {},
   "outputs": [
    {
     "data": {
      "text/plain": [
       "flavors    25898\n",
       "wine       23468\n",
       "aromas     16201\n",
       "fruit      16118\n",
       "finish     14181\n",
       "palate     13488\n",
       "acidity    12918\n",
       "drink       9609\n",
       "cherry      9500\n",
       "tannins     8943\n",
       "red         7851\n",
       "ripe        7480\n",
       "dry         7142\n",
       "soft        6942\n",
       "fresh       6774\n",
       "notes       6530\n",
       "berry       6374\n",
       "sweet       6313\n",
       "nose        6217\n",
       "light       6205\n",
       "dtype: int64"
      ]
     },
     "execution_count": 20,
     "metadata": {},
     "output_type": "execute_result"
    }
   ],
   "source": [
    "word_freq_df[wine_df['High Score'] == False].sum().sort_values(ascending=False)[:20]"
   ]
  },
  {
   "cell_type": "markdown",
   "metadata": {},
   "source": [
    "Sentiment!"
   ]
  },
  {
   "cell_type": "code",
   "execution_count": 21,
   "metadata": {},
   "outputs": [],
   "source": [
    "afinn = Afinn(language='en')"
   ]
  },
  {
   "cell_type": "code",
   "execution_count": 22,
   "metadata": {},
   "outputs": [],
   "source": [
    "wine_df['Afinn Score'] = wine_df['description'].apply(afinn.score)"
   ]
  },
  {
   "cell_type": "code",
   "execution_count": 23,
   "metadata": {},
   "outputs": [],
   "source": [
    "def word_count(text_string):\n",
    "    '''Calculate the number of words in a string'''\n",
    "    return len(text_string.split())"
   ]
  },
  {
   "cell_type": "code",
   "execution_count": 24,
   "metadata": {},
   "outputs": [],
   "source": [
    "wine_df['Word Count'] = wine_df['description'].apply(word_count)"
   ]
  },
  {
   "cell_type": "code",
   "execution_count": 25,
   "metadata": {},
   "outputs": [],
   "source": [
    "wine_df['Afinn Score Adjusted'] = wine_df['Afinn Score' ] / wine_df['Word Count'] "
   ]
  },
  {
   "cell_type": "code",
   "execution_count": 26,
   "metadata": {},
   "outputs": [],
   "source": [
    "new_columns = ['Afinn Score', 'Word Count', 'Afinn Score Adjusted']"
   ]
  },
  {
   "cell_type": "code",
   "execution_count": 27,
   "metadata": {},
   "outputs": [
    {
     "data": {
      "text/html": [
       "<div>\n",
       "<style scoped>\n",
       "    .dataframe tbody tr th:only-of-type {\n",
       "        vertical-align: middle;\n",
       "    }\n",
       "\n",
       "    .dataframe tbody tr th {\n",
       "        vertical-align: top;\n",
       "    }\n",
       "\n",
       "    .dataframe thead th {\n",
       "        text-align: right;\n",
       "    }\n",
       "</style>\n",
       "<table border=\"1\" class=\"dataframe\">\n",
       "  <thead>\n",
       "    <tr style=\"text-align: right;\">\n",
       "      <th></th>\n",
       "      <th>Afinn Score</th>\n",
       "      <th>Word Count</th>\n",
       "      <th>Afinn Score Adjusted</th>\n",
       "    </tr>\n",
       "  </thead>\n",
       "  <tbody>\n",
       "    <tr>\n",
       "      <th>count</th>\n",
       "      <td>85128.00000</td>\n",
       "      <td>85128.000000</td>\n",
       "      <td>85128.000000</td>\n",
       "    </tr>\n",
       "    <tr>\n",
       "      <th>mean</th>\n",
       "      <td>3.50128</td>\n",
       "      <td>40.090816</td>\n",
       "      <td>0.086331</td>\n",
       "    </tr>\n",
       "    <tr>\n",
       "      <th>std</th>\n",
       "      <td>3.52458</td>\n",
       "      <td>11.908889</td>\n",
       "      <td>0.085814</td>\n",
       "    </tr>\n",
       "    <tr>\n",
       "      <th>min</th>\n",
       "      <td>-9.00000</td>\n",
       "      <td>5.000000</td>\n",
       "      <td>-0.583333</td>\n",
       "    </tr>\n",
       "    <tr>\n",
       "      <th>25%</th>\n",
       "      <td>1.00000</td>\n",
       "      <td>32.000000</td>\n",
       "      <td>0.025000</td>\n",
       "    </tr>\n",
       "    <tr>\n",
       "      <th>50%</th>\n",
       "      <td>3.00000</td>\n",
       "      <td>39.000000</td>\n",
       "      <td>0.076923</td>\n",
       "    </tr>\n",
       "    <tr>\n",
       "      <th>75%</th>\n",
       "      <td>5.00000</td>\n",
       "      <td>47.000000</td>\n",
       "      <td>0.136364</td>\n",
       "    </tr>\n",
       "    <tr>\n",
       "      <th>max</th>\n",
       "      <td>29.00000</td>\n",
       "      <td>135.000000</td>\n",
       "      <td>0.689655</td>\n",
       "    </tr>\n",
       "  </tbody>\n",
       "</table>\n",
       "</div>"
      ],
      "text/plain": [
       "       Afinn Score    Word Count  Afinn Score Adjusted\n",
       "count  85128.00000  85128.000000          85128.000000\n",
       "mean       3.50128     40.090816              0.086331\n",
       "std        3.52458     11.908889              0.085814\n",
       "min       -9.00000      5.000000             -0.583333\n",
       "25%        1.00000     32.000000              0.025000\n",
       "50%        3.00000     39.000000              0.076923\n",
       "75%        5.00000     47.000000              0.136364\n",
       "max       29.00000    135.000000              0.689655"
      ]
     },
     "execution_count": 27,
     "metadata": {},
     "output_type": "execute_result"
    }
   ],
   "source": [
    "wine_df[new_columns].describe()"
   ]
  },
  {
   "cell_type": "code",
   "execution_count": 28,
   "metadata": {},
   "outputs": [
    {
     "data": {
      "text/html": [
       "<div>\n",
       "<style scoped>\n",
       "    .dataframe tbody tr th:only-of-type {\n",
       "        vertical-align: middle;\n",
       "    }\n",
       "\n",
       "    .dataframe tbody tr th {\n",
       "        vertical-align: top;\n",
       "    }\n",
       "\n",
       "    .dataframe thead th {\n",
       "        text-align: right;\n",
       "    }\n",
       "</style>\n",
       "<table border=\"1\" class=\"dataframe\">\n",
       "  <thead>\n",
       "    <tr style=\"text-align: right;\">\n",
       "      <th></th>\n",
       "      <th>Afinn Score</th>\n",
       "      <th>Word Count</th>\n",
       "      <th>Afinn Score Adjusted</th>\n",
       "    </tr>\n",
       "    <tr>\n",
       "      <th>High Score</th>\n",
       "      <th></th>\n",
       "      <th></th>\n",
       "      <th></th>\n",
       "    </tr>\n",
       "  </thead>\n",
       "  <tbody>\n",
       "    <tr>\n",
       "      <th>False</th>\n",
       "      <td>2.0</td>\n",
       "      <td>34</td>\n",
       "      <td>0.062500</td>\n",
       "    </tr>\n",
       "    <tr>\n",
       "      <th>True</th>\n",
       "      <td>5.0</td>\n",
       "      <td>47</td>\n",
       "      <td>0.096154</td>\n",
       "    </tr>\n",
       "  </tbody>\n",
       "</table>\n",
       "</div>"
      ],
      "text/plain": [
       "            Afinn Score  Word Count  Afinn Score Adjusted\n",
       "High Score                                               \n",
       "False               2.0          34              0.062500\n",
       "True                5.0          47              0.096154"
      ]
     },
     "execution_count": 28,
     "metadata": {},
     "output_type": "execute_result"
    }
   ],
   "source": [
    "wine_df.groupby('High Score')[new_columns].median()"
   ]
  },
  {
   "cell_type": "code",
   "execution_count": 29,
   "metadata": {},
   "outputs": [
    {
     "data": {
      "text/html": [
       "<div>\n",
       "<style scoped>\n",
       "    .dataframe tbody tr th:only-of-type {\n",
       "        vertical-align: middle;\n",
       "    }\n",
       "\n",
       "    .dataframe tbody tr th {\n",
       "        vertical-align: top;\n",
       "    }\n",
       "\n",
       "    .dataframe thead th {\n",
       "        text-align: right;\n",
       "    }\n",
       "</style>\n",
       "<table border=\"1\" class=\"dataframe\">\n",
       "  <thead>\n",
       "    <tr style=\"text-align: right;\">\n",
       "      <th></th>\n",
       "      <th>Afinn Score</th>\n",
       "      <th>Word Count</th>\n",
       "      <th>Afinn Score Adjusted</th>\n",
       "    </tr>\n",
       "    <tr>\n",
       "      <th>High Score</th>\n",
       "      <th></th>\n",
       "      <th></th>\n",
       "      <th></th>\n",
       "    </tr>\n",
       "  </thead>\n",
       "  <tbody>\n",
       "    <tr>\n",
       "      <th>False</th>\n",
       "      <td>2.531004</td>\n",
       "      <td>34.913095</td>\n",
       "      <td>0.073734</td>\n",
       "    </tr>\n",
       "    <tr>\n",
       "      <th>True</th>\n",
       "      <td>4.986710</td>\n",
       "      <td>48.017571</td>\n",
       "      <td>0.105617</td>\n",
       "    </tr>\n",
       "  </tbody>\n",
       "</table>\n",
       "</div>"
      ],
      "text/plain": [
       "            Afinn Score  Word Count  Afinn Score Adjusted\n",
       "High Score                                               \n",
       "False          2.531004   34.913095              0.073734\n",
       "True           4.986710   48.017571              0.105617"
      ]
     },
     "execution_count": 29,
     "metadata": {},
     "output_type": "execute_result"
    }
   ],
   "source": [
    "wine_df.groupby('High Score')[new_columns].mean()"
   ]
  },
  {
   "cell_type": "code",
   "execution_count": 30,
   "metadata": {},
   "outputs": [],
   "source": [
    "vader_analyzer = SentimentIntensityAnalyzer()"
   ]
  },
  {
   "cell_type": "code",
   "execution_count": 31,
   "metadata": {},
   "outputs": [],
   "source": [
    "vader_sentiment = wine_df['description'].apply(vader_analyzer.polarity_scores)"
   ]
  },
  {
   "cell_type": "code",
   "execution_count": 32,
   "metadata": {},
   "outputs": [
    {
     "data": {
      "text/plain": [
       "0        {'neg': 0.0, 'neu': 0.935, 'pos': 0.065, 'comp...\n",
       "1        {'neg': 0.0, 'neu': 0.868, 'pos': 0.132, 'comp...\n",
       "2        {'neg': 0.053, 'neu': 0.947, 'pos': 0.0, 'comp...\n",
       "3        {'neg': 0.0, 'neu': 0.926, 'pos': 0.074, 'comp...\n",
       "4        {'neg': 0.0, 'neu': 0.805, 'pos': 0.195, 'comp...\n",
       "5        {'neg': 0.0, 'neu': 0.96, 'pos': 0.04, 'compou...\n",
       "6        {'neg': 0.0, 'neu': 0.843, 'pos': 0.157, 'comp...\n",
       "7        {'neg': 0.0, 'neu': 1.0, 'pos': 0.0, 'compound...\n",
       "8        {'neg': 0.0, 'neu': 0.586, 'pos': 0.414, 'comp...\n",
       "9        {'neg': 0.0, 'neu': 0.808, 'pos': 0.192, 'comp...\n",
       "10       {'neg': 0.0, 'neu': 0.79, 'pos': 0.21, 'compou...\n",
       "11       {'neg': 0.0, 'neu': 0.865, 'pos': 0.135, 'comp...\n",
       "12       {'neg': 0.0, 'neu': 0.878, 'pos': 0.122, 'comp...\n",
       "13       {'neg': 0.0, 'neu': 1.0, 'pos': 0.0, 'compound...\n",
       "14       {'neg': 0.032, 'neu': 0.923, 'pos': 0.045, 'co...\n",
       "15       {'neg': 0.0, 'neu': 0.802, 'pos': 0.198, 'comp...\n",
       "16       {'neg': 0.0, 'neu': 0.937, 'pos': 0.063, 'comp...\n",
       "17       {'neg': 0.0, 'neu': 0.906, 'pos': 0.094, 'comp...\n",
       "18       {'neg': 0.034, 'neu': 0.926, 'pos': 0.041, 'co...\n",
       "19       {'neg': 0.058, 'neu': 0.82, 'pos': 0.121, 'com...\n",
       "20       {'neg': 0.0, 'neu': 1.0, 'pos': 0.0, 'compound...\n",
       "21       {'neg': 0.0, 'neu': 0.887, 'pos': 0.113, 'comp...\n",
       "22       {'neg': 0.0, 'neu': 0.738, 'pos': 0.262, 'comp...\n",
       "23       {'neg': 0.051, 'neu': 0.949, 'pos': 0.0, 'comp...\n",
       "24       {'neg': 0.0, 'neu': 1.0, 'pos': 0.0, 'compound...\n",
       "25       {'neg': 0.0, 'neu': 0.904, 'pos': 0.096, 'comp...\n",
       "26       {'neg': 0.0, 'neu': 0.781, 'pos': 0.219, 'comp...\n",
       "27       {'neg': 0.0, 'neu': 1.0, 'pos': 0.0, 'compound...\n",
       "28       {'neg': 0.0, 'neu': 0.891, 'pos': 0.109, 'comp...\n",
       "29       {'neg': 0.0, 'neu': 0.866, 'pos': 0.134, 'comp...\n",
       "                               ...                        \n",
       "85098    {'neg': 0.0, 'neu': 0.915, 'pos': 0.085, 'comp...\n",
       "85099    {'neg': 0.078, 'neu': 0.858, 'pos': 0.064, 'co...\n",
       "85100    {'neg': 0.0, 'neu': 0.841, 'pos': 0.159, 'comp...\n",
       "85101    {'neg': 0.0, 'neu': 0.783, 'pos': 0.217, 'comp...\n",
       "85102    {'neg': 0.0, 'neu': 0.877, 'pos': 0.123, 'comp...\n",
       "85103    {'neg': 0.042, 'neu': 0.669, 'pos': 0.29, 'com...\n",
       "85104    {'neg': 0.0, 'neu': 0.797, 'pos': 0.203, 'comp...\n",
       "85105    {'neg': 0.0, 'neu': 0.788, 'pos': 0.212, 'comp...\n",
       "85106    {'neg': 0.0, 'neu': 0.882, 'pos': 0.118, 'comp...\n",
       "85107    {'neg': 0.0, 'neu': 0.775, 'pos': 0.225, 'comp...\n",
       "85108    {'neg': 0.0, 'neu': 0.776, 'pos': 0.224, 'comp...\n",
       "85109    {'neg': 0.0, 'neu': 0.83, 'pos': 0.17, 'compou...\n",
       "85110    {'neg': 0.0, 'neu': 0.863, 'pos': 0.137, 'comp...\n",
       "85111    {'neg': 0.0, 'neu': 0.845, 'pos': 0.155, 'comp...\n",
       "85112    {'neg': 0.091, 'neu': 0.703, 'pos': 0.207, 'co...\n",
       "85113    {'neg': 0.0, 'neu': 0.86, 'pos': 0.14, 'compou...\n",
       "85114    {'neg': 0.0, 'neu': 0.775, 'pos': 0.225, 'comp...\n",
       "85115    {'neg': 0.0, 'neu': 0.786, 'pos': 0.214, 'comp...\n",
       "85116    {'neg': 0.0, 'neu': 0.828, 'pos': 0.172, 'comp...\n",
       "85117    {'neg': 0.08, 'neu': 0.616, 'pos': 0.304, 'com...\n",
       "85118    {'neg': 0.0, 'neu': 0.705, 'pos': 0.295, 'comp...\n",
       "85119    {'neg': 0.045, 'neu': 0.804, 'pos': 0.152, 'co...\n",
       "85120    {'neg': 0.0, 'neu': 0.884, 'pos': 0.116, 'comp...\n",
       "85121    {'neg': 0.0, 'neu': 0.825, 'pos': 0.175, 'comp...\n",
       "85122    {'neg': 0.049, 'neu': 0.859, 'pos': 0.093, 'co...\n",
       "85123    {'neg': 0.0, 'neu': 0.828, 'pos': 0.172, 'comp...\n",
       "85124    {'neg': 0.0, 'neu': 0.804, 'pos': 0.196, 'comp...\n",
       "85125    {'neg': 0.075, 'neu': 0.785, 'pos': 0.141, 'co...\n",
       "85126    {'neg': 0.0, 'neu': 0.693, 'pos': 0.307, 'comp...\n",
       "85127    {'neg': 0.0, 'neu': 0.886, 'pos': 0.114, 'comp...\n",
       "Name: description, Length: 85128, dtype: object"
      ]
     },
     "execution_count": 32,
     "metadata": {},
     "output_type": "execute_result"
    }
   ],
   "source": [
    "vader_sentiment"
   ]
  },
  {
   "cell_type": "code",
   "execution_count": 33,
   "metadata": {},
   "outputs": [],
   "source": [
    "vader_df = pd.DataFrame(vader_sentiment.tolist())"
   ]
  },
  {
   "cell_type": "code",
   "execution_count": 34,
   "metadata": {},
   "outputs": [
    {
     "data": {
      "text/html": [
       "<div>\n",
       "<style scoped>\n",
       "    .dataframe tbody tr th:only-of-type {\n",
       "        vertical-align: middle;\n",
       "    }\n",
       "\n",
       "    .dataframe tbody tr th {\n",
       "        vertical-align: top;\n",
       "    }\n",
       "\n",
       "    .dataframe thead th {\n",
       "        text-align: right;\n",
       "    }\n",
       "</style>\n",
       "<table border=\"1\" class=\"dataframe\">\n",
       "  <thead>\n",
       "    <tr style=\"text-align: right;\">\n",
       "      <th></th>\n",
       "      <th>compound</th>\n",
       "      <th>neg</th>\n",
       "      <th>neu</th>\n",
       "      <th>pos</th>\n",
       "    </tr>\n",
       "  </thead>\n",
       "  <tbody>\n",
       "    <tr>\n",
       "      <th>0</th>\n",
       "      <td>0.1531</td>\n",
       "      <td>0.000</td>\n",
       "      <td>0.935</td>\n",
       "      <td>0.065</td>\n",
       "    </tr>\n",
       "    <tr>\n",
       "      <th>1</th>\n",
       "      <td>0.6486</td>\n",
       "      <td>0.000</td>\n",
       "      <td>0.868</td>\n",
       "      <td>0.132</td>\n",
       "    </tr>\n",
       "    <tr>\n",
       "      <th>2</th>\n",
       "      <td>-0.1280</td>\n",
       "      <td>0.053</td>\n",
       "      <td>0.947</td>\n",
       "      <td>0.000</td>\n",
       "    </tr>\n",
       "    <tr>\n",
       "      <th>3</th>\n",
       "      <td>0.3400</td>\n",
       "      <td>0.000</td>\n",
       "      <td>0.926</td>\n",
       "      <td>0.074</td>\n",
       "    </tr>\n",
       "    <tr>\n",
       "      <th>4</th>\n",
       "      <td>0.8176</td>\n",
       "      <td>0.000</td>\n",
       "      <td>0.805</td>\n",
       "      <td>0.195</td>\n",
       "    </tr>\n",
       "  </tbody>\n",
       "</table>\n",
       "</div>"
      ],
      "text/plain": [
       "   compound    neg    neu    pos\n",
       "0    0.1531  0.000  0.935  0.065\n",
       "1    0.6486  0.000  0.868  0.132\n",
       "2   -0.1280  0.053  0.947  0.000\n",
       "3    0.3400  0.000  0.926  0.074\n",
       "4    0.8176  0.000  0.805  0.195"
      ]
     },
     "execution_count": 34,
     "metadata": {},
     "output_type": "execute_result"
    }
   ],
   "source": [
    "vader_df.head()"
   ]
  },
  {
   "cell_type": "code",
   "execution_count": 35,
   "metadata": {},
   "outputs": [],
   "source": [
    "vader_df['High Score'] = wine_df['High Score']"
   ]
  },
  {
   "cell_type": "code",
   "execution_count": 36,
   "metadata": {},
   "outputs": [
    {
     "data": {
      "text/html": [
       "<div>\n",
       "<style scoped>\n",
       "    .dataframe tbody tr th:only-of-type {\n",
       "        vertical-align: middle;\n",
       "    }\n",
       "\n",
       "    .dataframe tbody tr th {\n",
       "        vertical-align: top;\n",
       "    }\n",
       "\n",
       "    .dataframe thead th {\n",
       "        text-align: right;\n",
       "    }\n",
       "</style>\n",
       "<table border=\"1\" class=\"dataframe\">\n",
       "  <thead>\n",
       "    <tr style=\"text-align: right;\">\n",
       "      <th></th>\n",
       "      <th>compound</th>\n",
       "      <th>neg</th>\n",
       "      <th>neu</th>\n",
       "      <th>pos</th>\n",
       "      <th>High Score</th>\n",
       "    </tr>\n",
       "  </thead>\n",
       "  <tbody>\n",
       "    <tr>\n",
       "      <th>0</th>\n",
       "      <td>0.1531</td>\n",
       "      <td>0.000</td>\n",
       "      <td>0.935</td>\n",
       "      <td>0.065</td>\n",
       "      <td>False</td>\n",
       "    </tr>\n",
       "    <tr>\n",
       "      <th>1</th>\n",
       "      <td>0.6486</td>\n",
       "      <td>0.000</td>\n",
       "      <td>0.868</td>\n",
       "      <td>0.132</td>\n",
       "      <td>False</td>\n",
       "    </tr>\n",
       "    <tr>\n",
       "      <th>2</th>\n",
       "      <td>-0.1280</td>\n",
       "      <td>0.053</td>\n",
       "      <td>0.947</td>\n",
       "      <td>0.000</td>\n",
       "      <td>False</td>\n",
       "    </tr>\n",
       "    <tr>\n",
       "      <th>3</th>\n",
       "      <td>0.3400</td>\n",
       "      <td>0.000</td>\n",
       "      <td>0.926</td>\n",
       "      <td>0.074</td>\n",
       "      <td>False</td>\n",
       "    </tr>\n",
       "    <tr>\n",
       "      <th>4</th>\n",
       "      <td>0.8176</td>\n",
       "      <td>0.000</td>\n",
       "      <td>0.805</td>\n",
       "      <td>0.195</td>\n",
       "      <td>False</td>\n",
       "    </tr>\n",
       "  </tbody>\n",
       "</table>\n",
       "</div>"
      ],
      "text/plain": [
       "   compound    neg    neu    pos  High Score\n",
       "0    0.1531  0.000  0.935  0.065       False\n",
       "1    0.6486  0.000  0.868  0.132       False\n",
       "2   -0.1280  0.053  0.947  0.000       False\n",
       "3    0.3400  0.000  0.926  0.074       False\n",
       "4    0.8176  0.000  0.805  0.195       False"
      ]
     },
     "execution_count": 36,
     "metadata": {},
     "output_type": "execute_result"
    }
   ],
   "source": [
    "vader_df.head()"
   ]
  },
  {
   "cell_type": "code",
   "execution_count": 37,
   "metadata": {},
   "outputs": [
    {
     "data": {
      "text/html": [
       "<div>\n",
       "<style scoped>\n",
       "    .dataframe tbody tr th:only-of-type {\n",
       "        vertical-align: middle;\n",
       "    }\n",
       "\n",
       "    .dataframe tbody tr th {\n",
       "        vertical-align: top;\n",
       "    }\n",
       "\n",
       "    .dataframe thead th {\n",
       "        text-align: right;\n",
       "    }\n",
       "</style>\n",
       "<table border=\"1\" class=\"dataframe\">\n",
       "  <thead>\n",
       "    <tr style=\"text-align: right;\">\n",
       "      <th></th>\n",
       "      <th>compound</th>\n",
       "      <th>neg</th>\n",
       "      <th>neu</th>\n",
       "      <th>pos</th>\n",
       "    </tr>\n",
       "    <tr>\n",
       "      <th>High Score</th>\n",
       "      <th></th>\n",
       "      <th></th>\n",
       "      <th></th>\n",
       "      <th></th>\n",
       "    </tr>\n",
       "  </thead>\n",
       "  <tbody>\n",
       "    <tr>\n",
       "      <th>False</th>\n",
       "      <td>0.404178</td>\n",
       "      <td>0.020944</td>\n",
       "      <td>0.854898</td>\n",
       "      <td>0.124157</td>\n",
       "    </tr>\n",
       "    <tr>\n",
       "      <th>True</th>\n",
       "      <td>0.642529</td>\n",
       "      <td>0.011839</td>\n",
       "      <td>0.835308</td>\n",
       "      <td>0.152852</td>\n",
       "    </tr>\n",
       "  </tbody>\n",
       "</table>\n",
       "</div>"
      ],
      "text/plain": [
       "            compound       neg       neu       pos\n",
       "High Score                                        \n",
       "False       0.404178  0.020944  0.854898  0.124157\n",
       "True        0.642529  0.011839  0.835308  0.152852"
      ]
     },
     "execution_count": 37,
     "metadata": {},
     "output_type": "execute_result"
    }
   ],
   "source": [
    "vader_df.groupby('High Score').mean()"
   ]
  },
  {
   "cell_type": "code",
   "execution_count": 38,
   "metadata": {},
   "outputs": [
    {
     "data": {
      "text/html": [
       "<div>\n",
       "<style scoped>\n",
       "    .dataframe tbody tr th:only-of-type {\n",
       "        vertical-align: middle;\n",
       "    }\n",
       "\n",
       "    .dataframe tbody tr th {\n",
       "        vertical-align: top;\n",
       "    }\n",
       "\n",
       "    .dataframe thead th {\n",
       "        text-align: right;\n",
       "    }\n",
       "</style>\n",
       "<table border=\"1\" class=\"dataframe\">\n",
       "  <thead>\n",
       "    <tr style=\"text-align: right;\">\n",
       "      <th></th>\n",
       "      <th>compound</th>\n",
       "      <th>neg</th>\n",
       "      <th>neu</th>\n",
       "      <th>pos</th>\n",
       "    </tr>\n",
       "    <tr>\n",
       "      <th>High Score</th>\n",
       "      <th></th>\n",
       "      <th></th>\n",
       "      <th></th>\n",
       "      <th></th>\n",
       "    </tr>\n",
       "  </thead>\n",
       "  <tbody>\n",
       "    <tr>\n",
       "      <th>False</th>\n",
       "      <td>0.4767</td>\n",
       "      <td>0.0</td>\n",
       "      <td>0.862</td>\n",
       "      <td>0.113</td>\n",
       "    </tr>\n",
       "    <tr>\n",
       "      <th>True</th>\n",
       "      <td>0.7579</td>\n",
       "      <td>0.0</td>\n",
       "      <td>0.839</td>\n",
       "      <td>0.148</td>\n",
       "    </tr>\n",
       "  </tbody>\n",
       "</table>\n",
       "</div>"
      ],
      "text/plain": [
       "            compound  neg    neu    pos\n",
       "High Score                             \n",
       "False         0.4767  0.0  0.862  0.113\n",
       "True          0.7579  0.0  0.839  0.148"
      ]
     },
     "execution_count": 38,
     "metadata": {},
     "output_type": "execute_result"
    }
   ],
   "source": [
    "vader_df.groupby('High Score').median()"
   ]
  },
  {
   "cell_type": "code",
   "execution_count": 39,
   "metadata": {},
   "outputs": [],
   "source": [
    "vader_df['Afinn Score Adjusted'] = wine_df['Afinn Score Adjusted']"
   ]
  },
  {
   "cell_type": "code",
   "execution_count": 40,
   "metadata": {},
   "outputs": [
    {
     "data": {
      "text/html": [
       "<div>\n",
       "<style scoped>\n",
       "    .dataframe tbody tr th:only-of-type {\n",
       "        vertical-align: middle;\n",
       "    }\n",
       "\n",
       "    .dataframe tbody tr th {\n",
       "        vertical-align: top;\n",
       "    }\n",
       "\n",
       "    .dataframe thead th {\n",
       "        text-align: right;\n",
       "    }\n",
       "</style>\n",
       "<table border=\"1\" class=\"dataframe\">\n",
       "  <thead>\n",
       "    <tr style=\"text-align: right;\">\n",
       "      <th></th>\n",
       "      <th>compound</th>\n",
       "      <th>neg</th>\n",
       "      <th>neu</th>\n",
       "      <th>pos</th>\n",
       "      <th>Afinn Score Adjusted</th>\n",
       "    </tr>\n",
       "    <tr>\n",
       "      <th>High Score</th>\n",
       "      <th></th>\n",
       "      <th></th>\n",
       "      <th></th>\n",
       "      <th></th>\n",
       "      <th></th>\n",
       "    </tr>\n",
       "  </thead>\n",
       "  <tbody>\n",
       "    <tr>\n",
       "      <th>False</th>\n",
       "      <td>0.4767</td>\n",
       "      <td>0.0</td>\n",
       "      <td>0.862</td>\n",
       "      <td>0.113</td>\n",
       "      <td>0.062500</td>\n",
       "    </tr>\n",
       "    <tr>\n",
       "      <th>True</th>\n",
       "      <td>0.7579</td>\n",
       "      <td>0.0</td>\n",
       "      <td>0.839</td>\n",
       "      <td>0.148</td>\n",
       "      <td>0.096154</td>\n",
       "    </tr>\n",
       "  </tbody>\n",
       "</table>\n",
       "</div>"
      ],
      "text/plain": [
       "            compound  neg    neu    pos  Afinn Score Adjusted\n",
       "High Score                                                   \n",
       "False         0.4767  0.0  0.862  0.113              0.062500\n",
       "True          0.7579  0.0  0.839  0.148              0.096154"
      ]
     },
     "execution_count": 40,
     "metadata": {},
     "output_type": "execute_result"
    }
   ],
   "source": [
    "vader_df.groupby('High Score').median()"
   ]
  },
  {
   "cell_type": "code",
   "execution_count": 41,
   "metadata": {},
   "outputs": [],
   "source": [
    "from sklearn import linear_model"
   ]
  },
  {
   "cell_type": "code",
   "execution_count": 42,
   "metadata": {},
   "outputs": [],
   "source": [
    "reg = linear_model.LinearRegression(normalize=True)"
   ]
  },
  {
   "cell_type": "code",
   "execution_count": 43,
   "metadata": {},
   "outputs": [],
   "source": [
    "x_vars = ['Afinn Score Adjusted', 'compound']"
   ]
  },
  {
   "cell_type": "code",
   "execution_count": 44,
   "metadata": {},
   "outputs": [
    {
     "data": {
      "text/plain": [
       "LinearRegression(copy_X=True, fit_intercept=True, n_jobs=None, normalize=True)"
      ]
     },
     "execution_count": 44,
     "metadata": {},
     "output_type": "execute_result"
    }
   ],
   "source": [
    "reg.fit(vader_df[x_vars], vader_df['High Score'])"
   ]
  },
  {
   "cell_type": "code",
   "execution_count": 45,
   "metadata": {},
   "outputs": [
    {
     "data": {
      "text/plain": [
       "array([-0.33011586,  0.43262596])"
      ]
     },
     "execution_count": 45,
     "metadata": {},
     "output_type": "execute_result"
    }
   ],
   "source": [
    "reg.coef_"
   ]
  },
  {
   "cell_type": "markdown",
   "metadata": {},
   "source": [
    "Now, to create our own sentiment list."
   ]
  },
  {
   "cell_type": "code",
   "execution_count": 46,
   "metadata": {},
   "outputs": [
    {
     "data": {
      "text/plain": [
       "10               726\n",
       "100              816\n",
       "20               377\n",
       "2015             565\n",
       "2016             758\n",
       "2017            1256\n",
       "2018            1991\n",
       "2019            1038\n",
       "2020            1880\n",
       "2022             896\n",
       "2025             844\n",
       "accented         449\n",
       "accents          488\n",
       "acid             283\n",
       "acidic           199\n",
       "acidity         8967\n",
       "acids            463\n",
       "add              524\n",
       "adds             552\n",
       "aftertaste       497\n",
       "age             2953\n",
       "aged            1004\n",
       "aging           2348\n",
       "alcohol          727\n",
       "almond           527\n",
       "alongside       1227\n",
       "ample            446\n",
       "anise           1076\n",
       "appealing        292\n",
       "appellation      579\n",
       "               ...  \n",
       "velvety         1254\n",
       "verdot           760\n",
       "vibrant          837\n",
       "vines            883\n",
       "vineyard        3275\n",
       "vineyards        981\n",
       "vintage         1870\n",
       "viognier         283\n",
       "violet           831\n",
       "warm             579\n",
       "way              721\n",
       "weight          1099\n",
       "wet              502\n",
       "whiff            629\n",
       "white           2717\n",
       "wild            1468\n",
       "wine           19012\n",
       "winemaker        666\n",
       "winery           956\n",
       "wines           1105\n",
       "wood            2234\n",
       "woody            217\n",
       "year             807\n",
       "years           4018\n",
       "yeasty           249\n",
       "yellow          1185\n",
       "young           1629\n",
       "zest             890\n",
       "zesty            667\n",
       "zinfandel        222\n",
       "Length: 500, dtype: int64"
      ]
     },
     "execution_count": 46,
     "metadata": {},
     "output_type": "execute_result"
    }
   ],
   "source": [
    "word_freq_df[wine_df['High Score'] == True].sum()"
   ]
  },
  {
   "cell_type": "code",
   "execution_count": 47,
   "metadata": {},
   "outputs": [],
   "source": [
    "high_words = word_freq_df[wine_df['High Score'] == True].sum()"
   ]
  },
  {
   "cell_type": "code",
   "execution_count": 48,
   "metadata": {},
   "outputs": [
    {
     "data": {
      "text/plain": [
       "10               437\n",
       "100              511\n",
       "20               365\n",
       "2015             276\n",
       "2016             546\n",
       "2017             538\n",
       "2018             448\n",
       "2019             201\n",
       "2020              99\n",
       "2022              10\n",
       "2025               4\n",
       "accented         541\n",
       "accents          515\n",
       "acid             558\n",
       "acidic           895\n",
       "acidity        12918\n",
       "acids            886\n",
       "add              516\n",
       "adds             510\n",
       "aftertaste      1379\n",
       "age              908\n",
       "aged             710\n",
       "aging           1012\n",
       "alcohol         1528\n",
       "almond          1198\n",
       "alongside       1636\n",
       "ample            353\n",
       "anise            559\n",
       "appealing        398\n",
       "appellation      235\n",
       "               ...  \n",
       "velvety          179\n",
       "verdot           425\n",
       "vibrant          569\n",
       "vines            292\n",
       "vineyard         798\n",
       "vineyards        350\n",
       "vintage         1008\n",
       "viognier         519\n",
       "violet           377\n",
       "warm            1073\n",
       "way              963\n",
       "weight          1228\n",
       "wet              493\n",
       "whiff            696\n",
       "white           4367\n",
       "wild            1039\n",
       "wine           23468\n",
       "winemaker        134\n",
       "winery           462\n",
       "wines            700\n",
       "wood            1893\n",
       "woody            461\n",
       "year             591\n",
       "years            941\n",
       "yeasty           412\n",
       "yellow          1196\n",
       "young           1221\n",
       "zest            1000\n",
       "zesty           1090\n",
       "zinfandel        489\n",
       "Length: 500, dtype: int64"
      ]
     },
     "execution_count": 48,
     "metadata": {},
     "output_type": "execute_result"
    }
   ],
   "source": [
    "word_freq_df[wine_df['High Score'] == False].sum()"
   ]
  },
  {
   "cell_type": "code",
   "execution_count": 49,
   "metadata": {},
   "outputs": [],
   "source": [
    "low_words = word_freq_df[wine_df['High Score'] == False].sum()"
   ]
  },
  {
   "cell_type": "code",
   "execution_count": 50,
   "metadata": {},
   "outputs": [],
   "source": [
    "word_df = pd.concat([low_words, high_words], axis=1)"
   ]
  },
  {
   "cell_type": "code",
   "execution_count": 51,
   "metadata": {},
   "outputs": [
    {
     "data": {
      "text/html": [
       "<div>\n",
       "<style scoped>\n",
       "    .dataframe tbody tr th:only-of-type {\n",
       "        vertical-align: middle;\n",
       "    }\n",
       "\n",
       "    .dataframe tbody tr th {\n",
       "        vertical-align: top;\n",
       "    }\n",
       "\n",
       "    .dataframe thead th {\n",
       "        text-align: right;\n",
       "    }\n",
       "</style>\n",
       "<table border=\"1\" class=\"dataframe\">\n",
       "  <thead>\n",
       "    <tr style=\"text-align: right;\">\n",
       "      <th></th>\n",
       "      <th>0</th>\n",
       "      <th>1</th>\n",
       "    </tr>\n",
       "  </thead>\n",
       "  <tbody>\n",
       "    <tr>\n",
       "      <th>10</th>\n",
       "      <td>437</td>\n",
       "      <td>726</td>\n",
       "    </tr>\n",
       "    <tr>\n",
       "      <th>100</th>\n",
       "      <td>511</td>\n",
       "      <td>816</td>\n",
       "    </tr>\n",
       "    <tr>\n",
       "      <th>20</th>\n",
       "      <td>365</td>\n",
       "      <td>377</td>\n",
       "    </tr>\n",
       "    <tr>\n",
       "      <th>2015</th>\n",
       "      <td>276</td>\n",
       "      <td>565</td>\n",
       "    </tr>\n",
       "    <tr>\n",
       "      <th>2016</th>\n",
       "      <td>546</td>\n",
       "      <td>758</td>\n",
       "    </tr>\n",
       "  </tbody>\n",
       "</table>\n",
       "</div>"
      ],
      "text/plain": [
       "        0    1\n",
       "10    437  726\n",
       "100   511  816\n",
       "20    365  377\n",
       "2015  276  565\n",
       "2016  546  758"
      ]
     },
     "execution_count": 51,
     "metadata": {},
     "output_type": "execute_result"
    }
   ],
   "source": [
    "word_df.head()"
   ]
  },
  {
   "cell_type": "code",
   "execution_count": 52,
   "metadata": {},
   "outputs": [],
   "source": [
    "word_df['ratio'] = word_df[1] /  word_df[0] * 100"
   ]
  },
  {
   "cell_type": "code",
   "execution_count": 53,
   "metadata": {},
   "outputs": [
    {
     "data": {
      "text/html": [
       "<div>\n",
       "<style scoped>\n",
       "    .dataframe tbody tr th:only-of-type {\n",
       "        vertical-align: middle;\n",
       "    }\n",
       "\n",
       "    .dataframe tbody tr th {\n",
       "        vertical-align: top;\n",
       "    }\n",
       "\n",
       "    .dataframe thead th {\n",
       "        text-align: right;\n",
       "    }\n",
       "</style>\n",
       "<table border=\"1\" class=\"dataframe\">\n",
       "  <thead>\n",
       "    <tr style=\"text-align: right;\">\n",
       "      <th></th>\n",
       "      <th>0</th>\n",
       "      <th>1</th>\n",
       "      <th>ratio</th>\n",
       "    </tr>\n",
       "  </thead>\n",
       "  <tbody>\n",
       "    <tr>\n",
       "      <th>easygoing</th>\n",
       "      <td>692</td>\n",
       "      <td>11</td>\n",
       "      <td>1.589595</td>\n",
       "    </tr>\n",
       "    <tr>\n",
       "      <th>simple</th>\n",
       "      <td>3428</td>\n",
       "      <td>56</td>\n",
       "      <td>1.633606</td>\n",
       "    </tr>\n",
       "    <tr>\n",
       "      <th>straightforward</th>\n",
       "      <td>1047</td>\n",
       "      <td>34</td>\n",
       "      <td>3.247373</td>\n",
       "    </tr>\n",
       "    <tr>\n",
       "      <th>stalky</th>\n",
       "      <td>636</td>\n",
       "      <td>21</td>\n",
       "      <td>3.301887</td>\n",
       "    </tr>\n",
       "    <tr>\n",
       "      <th>lacks</th>\n",
       "      <td>682</td>\n",
       "      <td>25</td>\n",
       "      <td>3.665689</td>\n",
       "    </tr>\n",
       "    <tr>\n",
       "      <th>basic</th>\n",
       "      <td>761</td>\n",
       "      <td>37</td>\n",
       "      <td>4.862024</td>\n",
       "    </tr>\n",
       "    <tr>\n",
       "      <th>flat</th>\n",
       "      <td>679</td>\n",
       "      <td>42</td>\n",
       "      <td>6.185567</td>\n",
       "    </tr>\n",
       "    <tr>\n",
       "      <th>short</th>\n",
       "      <td>1023</td>\n",
       "      <td>79</td>\n",
       "      <td>7.722385</td>\n",
       "    </tr>\n",
       "    <tr>\n",
       "      <th>easy</th>\n",
       "      <td>3183</td>\n",
       "      <td>290</td>\n",
       "      <td>9.110902</td>\n",
       "    </tr>\n",
       "    <tr>\n",
       "      <th>rubbery</th>\n",
       "      <td>687</td>\n",
       "      <td>67</td>\n",
       "      <td>9.752547</td>\n",
       "    </tr>\n",
       "  </tbody>\n",
       "</table>\n",
       "</div>"
      ],
      "text/plain": [
       "                    0    1     ratio\n",
       "easygoing         692   11  1.589595\n",
       "simple           3428   56  1.633606\n",
       "straightforward  1047   34  3.247373\n",
       "stalky            636   21  3.301887\n",
       "lacks             682   25  3.665689\n",
       "basic             761   37  4.862024\n",
       "flat              679   42  6.185567\n",
       "short            1023   79  7.722385\n",
       "easy             3183  290  9.110902\n",
       "rubbery           687   67  9.752547"
      ]
     },
     "execution_count": 53,
     "metadata": {},
     "output_type": "execute_result"
    }
   ],
   "source": [
    "word_df.sort_values(by='ratio').head(10)"
   ]
  },
  {
   "cell_type": "code",
   "execution_count": 54,
   "metadata": {},
   "outputs": [
    {
     "data": {
      "text/html": [
       "<div>\n",
       "<style scoped>\n",
       "    .dataframe tbody tr th:only-of-type {\n",
       "        vertical-align: middle;\n",
       "    }\n",
       "\n",
       "    .dataframe tbody tr th {\n",
       "        vertical-align: top;\n",
       "    }\n",
       "\n",
       "    .dataframe thead th {\n",
       "        text-align: right;\n",
       "    }\n",
       "</style>\n",
       "<table border=\"1\" class=\"dataframe\">\n",
       "  <thead>\n",
       "    <tr style=\"text-align: right;\">\n",
       "      <th></th>\n",
       "      <th>0</th>\n",
       "      <th>1</th>\n",
       "      <th>ratio</th>\n",
       "    </tr>\n",
       "  </thead>\n",
       "  <tbody>\n",
       "    <tr>\n",
       "      <th>2025</th>\n",
       "      <td>4</td>\n",
       "      <td>844</td>\n",
       "      <td>21100.000000</td>\n",
       "    </tr>\n",
       "    <tr>\n",
       "      <th>2022</th>\n",
       "      <td>10</td>\n",
       "      <td>896</td>\n",
       "      <td>8960.000000</td>\n",
       "    </tr>\n",
       "    <tr>\n",
       "      <th>2020</th>\n",
       "      <td>99</td>\n",
       "      <td>1880</td>\n",
       "      <td>1898.989899</td>\n",
       "    </tr>\n",
       "    <tr>\n",
       "      <th>beautifully</th>\n",
       "      <td>74</td>\n",
       "      <td>996</td>\n",
       "      <td>1345.945946</td>\n",
       "    </tr>\n",
       "    <tr>\n",
       "      <th>beautiful</th>\n",
       "      <td>89</td>\n",
       "      <td>1113</td>\n",
       "      <td>1250.561798</td>\n",
       "    </tr>\n",
       "    <tr>\n",
       "      <th>impressive</th>\n",
       "      <td>115</td>\n",
       "      <td>1326</td>\n",
       "      <td>1153.043478</td>\n",
       "    </tr>\n",
       "    <tr>\n",
       "      <th>refined</th>\n",
       "      <td>73</td>\n",
       "      <td>686</td>\n",
       "      <td>939.726027</td>\n",
       "    </tr>\n",
       "    <tr>\n",
       "      <th>velvety</th>\n",
       "      <td>179</td>\n",
       "      <td>1254</td>\n",
       "      <td>700.558659</td>\n",
       "    </tr>\n",
       "    <tr>\n",
       "      <th>opulent</th>\n",
       "      <td>124</td>\n",
       "      <td>807</td>\n",
       "      <td>650.806452</td>\n",
       "    </tr>\n",
       "    <tr>\n",
       "      <th>lovely</th>\n",
       "      <td>184</td>\n",
       "      <td>1120</td>\n",
       "      <td>608.695652</td>\n",
       "    </tr>\n",
       "  </tbody>\n",
       "</table>\n",
       "</div>"
      ],
      "text/plain": [
       "               0     1         ratio\n",
       "2025           4   844  21100.000000\n",
       "2022          10   896   8960.000000\n",
       "2020          99  1880   1898.989899\n",
       "beautifully   74   996   1345.945946\n",
       "beautiful     89  1113   1250.561798\n",
       "impressive   115  1326   1153.043478\n",
       "refined       73   686    939.726027\n",
       "velvety      179  1254    700.558659\n",
       "opulent      124   807    650.806452\n",
       "lovely       184  1120    608.695652"
      ]
     },
     "execution_count": 54,
     "metadata": {},
     "output_type": "execute_result"
    }
   ],
   "source": [
    "word_df.sort_values(by='ratio', ascending = False).head(10)"
   ]
  },
  {
   "cell_type": "code",
   "execution_count": 55,
   "metadata": {},
   "outputs": [
    {
     "data": {
      "text/plain": [
       "739297"
      ]
     },
     "execution_count": 55,
     "metadata": {},
     "output_type": "execute_result"
    }
   ],
   "source": [
    "word_df[0].sum()"
   ]
  },
  {
   "cell_type": "code",
   "execution_count": 56,
   "metadata": {},
   "outputs": [
    {
     "data": {
      "text/plain": [
       "626901"
      ]
     },
     "execution_count": 56,
     "metadata": {},
     "output_type": "execute_result"
    }
   ],
   "source": [
    "word_df[1].sum()"
   ]
  },
  {
   "cell_type": "code",
   "execution_count": 57,
   "metadata": {},
   "outputs": [],
   "source": [
    "word_df['low percent'] = word_df[0] / word_df[0].sum() * 100"
   ]
  },
  {
   "cell_type": "code",
   "execution_count": 58,
   "metadata": {},
   "outputs": [],
   "source": [
    "word_df['high percent'] = word_df[1] / word_df[1].sum() * 100"
   ]
  },
  {
   "cell_type": "code",
   "execution_count": 59,
   "metadata": {},
   "outputs": [],
   "source": [
    "word_df['ratio'] = word_df['low percent'] /  word_df['high percent'] * 100"
   ]
  },
  {
   "cell_type": "code",
   "execution_count": 60,
   "metadata": {},
   "outputs": [
    {
     "data": {
      "text/html": [
       "<div>\n",
       "<style scoped>\n",
       "    .dataframe tbody tr th:only-of-type {\n",
       "        vertical-align: middle;\n",
       "    }\n",
       "\n",
       "    .dataframe tbody tr th {\n",
       "        vertical-align: top;\n",
       "    }\n",
       "\n",
       "    .dataframe thead th {\n",
       "        text-align: right;\n",
       "    }\n",
       "</style>\n",
       "<table border=\"1\" class=\"dataframe\">\n",
       "  <thead>\n",
       "    <tr style=\"text-align: right;\">\n",
       "      <th></th>\n",
       "      <th>0</th>\n",
       "      <th>1</th>\n",
       "      <th>ratio</th>\n",
       "      <th>low percent</th>\n",
       "      <th>high percent</th>\n",
       "    </tr>\n",
       "  </thead>\n",
       "  <tbody>\n",
       "    <tr>\n",
       "      <th>easygoing</th>\n",
       "      <td>692</td>\n",
       "      <td>11</td>\n",
       "      <td>5334.496420</td>\n",
       "      <td>0.093602</td>\n",
       "      <td>0.001755</td>\n",
       "    </tr>\n",
       "    <tr>\n",
       "      <th>simple</th>\n",
       "      <td>3428</td>\n",
       "      <td>56</td>\n",
       "      <td>5190.782179</td>\n",
       "      <td>0.463684</td>\n",
       "      <td>0.008933</td>\n",
       "    </tr>\n",
       "    <tr>\n",
       "      <th>straightforward</th>\n",
       "      <td>1047</td>\n",
       "      <td>34</td>\n",
       "      <td>2611.245974</td>\n",
       "      <td>0.141621</td>\n",
       "      <td>0.005424</td>\n",
       "    </tr>\n",
       "    <tr>\n",
       "      <th>stalky</th>\n",
       "      <td>636</td>\n",
       "      <td>21</td>\n",
       "      <td>2568.134941</td>\n",
       "      <td>0.086028</td>\n",
       "      <td>0.003350</td>\n",
       "    </tr>\n",
       "    <tr>\n",
       "      <th>lacks</th>\n",
       "      <td>682</td>\n",
       "      <td>25</td>\n",
       "      <td>2313.259662</td>\n",
       "      <td>0.092250</td>\n",
       "      <td>0.003988</td>\n",
       "    </tr>\n",
       "    <tr>\n",
       "      <th>basic</th>\n",
       "      <td>761</td>\n",
       "      <td>37</td>\n",
       "      <td>1744.066143</td>\n",
       "      <td>0.102936</td>\n",
       "      <td>0.005902</td>\n",
       "    </tr>\n",
       "    <tr>\n",
       "      <th>flat</th>\n",
       "      <td>679</td>\n",
       "      <td>42</td>\n",
       "      <td>1370.883353</td>\n",
       "      <td>0.091844</td>\n",
       "      <td>0.006700</td>\n",
       "    </tr>\n",
       "    <tr>\n",
       "      <th>short</th>\n",
       "      <td>1023</td>\n",
       "      <td>79</td>\n",
       "      <td>1098.066295</td>\n",
       "      <td>0.138375</td>\n",
       "      <td>0.012602</td>\n",
       "    </tr>\n",
       "    <tr>\n",
       "      <th>easy</th>\n",
       "      <td>3183</td>\n",
       "      <td>290</td>\n",
       "      <td>930.719171</td>\n",
       "      <td>0.430544</td>\n",
       "      <td>0.046259</td>\n",
       "    </tr>\n",
       "    <tr>\n",
       "      <th>rubbery</th>\n",
       "      <td>687</td>\n",
       "      <td>67</td>\n",
       "      <td>869.484718</td>\n",
       "      <td>0.092926</td>\n",
       "      <td>0.010687</td>\n",
       "    </tr>\n",
       "  </tbody>\n",
       "</table>\n",
       "</div>"
      ],
      "text/plain": [
       "                    0    1        ratio  low percent  high percent\n",
       "easygoing         692   11  5334.496420     0.093602      0.001755\n",
       "simple           3428   56  5190.782179     0.463684      0.008933\n",
       "straightforward  1047   34  2611.245974     0.141621      0.005424\n",
       "stalky            636   21  2568.134941     0.086028      0.003350\n",
       "lacks             682   25  2313.259662     0.092250      0.003988\n",
       "basic             761   37  1744.066143     0.102936      0.005902\n",
       "flat              679   42  1370.883353     0.091844      0.006700\n",
       "short            1023   79  1098.066295     0.138375      0.012602\n",
       "easy             3183  290   930.719171     0.430544      0.046259\n",
       "rubbery           687   67   869.484718     0.092926      0.010687"
      ]
     },
     "execution_count": 60,
     "metadata": {},
     "output_type": "execute_result"
    }
   ],
   "source": [
    "word_df.sort_values(by='ratio', ascending = False).head(10)"
   ]
  },
  {
   "cell_type": "code",
   "execution_count": 61,
   "metadata": {},
   "outputs": [
    {
     "data": {
      "text/html": [
       "<div>\n",
       "<style scoped>\n",
       "    .dataframe tbody tr th:only-of-type {\n",
       "        vertical-align: middle;\n",
       "    }\n",
       "\n",
       "    .dataframe tbody tr th {\n",
       "        vertical-align: top;\n",
       "    }\n",
       "\n",
       "    .dataframe thead th {\n",
       "        text-align: right;\n",
       "    }\n",
       "</style>\n",
       "<table border=\"1\" class=\"dataframe\">\n",
       "  <thead>\n",
       "    <tr style=\"text-align: right;\">\n",
       "      <th></th>\n",
       "      <th>0</th>\n",
       "      <th>1</th>\n",
       "      <th>ratio</th>\n",
       "      <th>low percent</th>\n",
       "      <th>high percent</th>\n",
       "    </tr>\n",
       "  </thead>\n",
       "  <tbody>\n",
       "    <tr>\n",
       "      <th>lovely</th>\n",
       "      <td>184</td>\n",
       "      <td>1120</td>\n",
       "      <td>13.930921</td>\n",
       "      <td>0.024889</td>\n",
       "      <td>0.178657</td>\n",
       "    </tr>\n",
       "    <tr>\n",
       "      <th>opulent</th>\n",
       "      <td>124</td>\n",
       "      <td>807</td>\n",
       "      <td>13.029513</td>\n",
       "      <td>0.016773</td>\n",
       "      <td>0.128728</td>\n",
       "    </tr>\n",
       "    <tr>\n",
       "      <th>velvety</th>\n",
       "      <td>179</td>\n",
       "      <td>1254</td>\n",
       "      <td>12.104184</td>\n",
       "      <td>0.024212</td>\n",
       "      <td>0.200032</td>\n",
       "    </tr>\n",
       "    <tr>\n",
       "      <th>refined</th>\n",
       "      <td>73</td>\n",
       "      <td>686</td>\n",
       "      <td>9.023578</td>\n",
       "      <td>0.009874</td>\n",
       "      <td>0.109427</td>\n",
       "    </tr>\n",
       "    <tr>\n",
       "      <th>impressive</th>\n",
       "      <td>115</td>\n",
       "      <td>1326</td>\n",
       "      <td>7.354181</td>\n",
       "      <td>0.015555</td>\n",
       "      <td>0.211517</td>\n",
       "    </tr>\n",
       "    <tr>\n",
       "      <th>beautiful</th>\n",
       "      <td>89</td>\n",
       "      <td>1113</td>\n",
       "      <td>6.780705</td>\n",
       "      <td>0.012038</td>\n",
       "      <td>0.177540</td>\n",
       "    </tr>\n",
       "    <tr>\n",
       "      <th>beautifully</th>\n",
       "      <td>74</td>\n",
       "      <td>996</td>\n",
       "      <td>6.300172</td>\n",
       "      <td>0.010010</td>\n",
       "      <td>0.158877</td>\n",
       "    </tr>\n",
       "    <tr>\n",
       "      <th>2020</th>\n",
       "      <td>99</td>\n",
       "      <td>1880</td>\n",
       "      <td>4.465369</td>\n",
       "      <td>0.013391</td>\n",
       "      <td>0.299888</td>\n",
       "    </tr>\n",
       "    <tr>\n",
       "      <th>2022</th>\n",
       "      <td>10</td>\n",
       "      <td>896</td>\n",
       "      <td>0.946394</td>\n",
       "      <td>0.001353</td>\n",
       "      <td>0.142925</td>\n",
       "    </tr>\n",
       "    <tr>\n",
       "      <th>2025</th>\n",
       "      <td>4</td>\n",
       "      <td>844</td>\n",
       "      <td>0.401881</td>\n",
       "      <td>0.000541</td>\n",
       "      <td>0.134631</td>\n",
       "    </tr>\n",
       "  </tbody>\n",
       "</table>\n",
       "</div>"
      ],
      "text/plain": [
       "               0     1      ratio  low percent  high percent\n",
       "lovely       184  1120  13.930921     0.024889      0.178657\n",
       "opulent      124   807  13.029513     0.016773      0.128728\n",
       "velvety      179  1254  12.104184     0.024212      0.200032\n",
       "refined       73   686   9.023578     0.009874      0.109427\n",
       "impressive   115  1326   7.354181     0.015555      0.211517\n",
       "beautiful     89  1113   6.780705     0.012038      0.177540\n",
       "beautifully   74   996   6.300172     0.010010      0.158877\n",
       "2020          99  1880   4.465369     0.013391      0.299888\n",
       "2022          10   896   0.946394     0.001353      0.142925\n",
       "2025           4   844   0.401881     0.000541      0.134631"
      ]
     },
     "execution_count": 61,
     "metadata": {},
     "output_type": "execute_result"
    }
   ],
   "source": [
    "word_df.sort_values(by='ratio', ascending = False).tail(10)"
   ]
  },
  {
   "cell_type": "code",
   "execution_count": 62,
   "metadata": {},
   "outputs": [
    {
     "data": {
      "text/plain": [
       "count     500.000000\n",
       "mean      169.456840\n",
       "std       402.875365\n",
       "min         0.401881\n",
       "25%        55.146568\n",
       "50%        97.000888\n",
       "75%       155.919509\n",
       "max      5334.496420\n",
       "Name: ratio, dtype: float64"
      ]
     },
     "execution_count": 62,
     "metadata": {},
     "output_type": "execute_result"
    }
   ],
   "source": [
    "word_df['ratio'].describe()"
   ]
  },
  {
   "cell_type": "code",
   "execution_count": 63,
   "metadata": {},
   "outputs": [
    {
     "data": {
      "text/plain": [
       "55.14656823657506"
      ]
     },
     "execution_count": 63,
     "metadata": {},
     "output_type": "execute_result"
    }
   ],
   "source": [
    "word_df['ratio'].quantile(q=.25)"
   ]
  },
  {
   "cell_type": "code",
   "execution_count": 64,
   "metadata": {},
   "outputs": [
    {
     "data": {
      "text/plain": [
       "Index(['10', '100', '2015', '2017', '2018', '2019', '2020', '2022', '2025',\n",
       "       'age',\n",
       "       ...\n",
       "       'verdot', 'vines', 'vineyard', 'vineyards', 'vintage', 'violet',\n",
       "       'winemaker', 'winery', 'wines', 'years'],\n",
       "      dtype='object', length=125)"
      ]
     },
     "execution_count": 64,
     "metadata": {},
     "output_type": "execute_result"
    }
   ],
   "source": [
    "word_df[word_df['ratio'] < word_df['ratio'].quantile(q=.25)].index"
   ]
  },
  {
   "cell_type": "code",
   "execution_count": 65,
   "metadata": {},
   "outputs": [
    {
     "data": {
      "text/plain": [
       "Index(['acid', 'acidic', 'acids', 'aftertaste', 'alcohol', 'almond', 'apple',\n",
       "       'aroma', 'aromas', 'astringent',\n",
       "       ...\n",
       "       'tastes', 'tasting', 'tomato', 'touch', 'tough', 'tropical', 'value',\n",
       "       'warm', 'woody', 'zinfandel'],\n",
       "      dtype='object', length=125)"
      ]
     },
     "execution_count": 65,
     "metadata": {},
     "output_type": "execute_result"
    }
   ],
   "source": [
    "word_df[word_df['ratio'] > word_df['ratio'].quantile(q=.75) ].index"
   ]
  },
  {
   "cell_type": "code",
   "execution_count": null,
   "metadata": {},
   "outputs": [],
   "source": []
  }
 ],
 "metadata": {
  "kernelspec": {
   "display_name": "Python 3",
   "language": "python",
   "name": "python3"
  },
  "language_info": {
   "codemirror_mode": {
    "name": "ipython",
    "version": 3
   },
   "file_extension": ".py",
   "mimetype": "text/x-python",
   "name": "python",
   "nbconvert_exporter": "python",
   "pygments_lexer": "ipython3",
   "version": "3.6.8"
  }
 },
 "nbformat": 4,
 "nbformat_minor": 2
}
