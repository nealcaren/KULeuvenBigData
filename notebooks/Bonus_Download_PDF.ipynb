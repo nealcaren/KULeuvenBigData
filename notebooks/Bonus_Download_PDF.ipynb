{
 "cells": [
  {
   "cell_type": "markdown",
   "metadata": {
    "slideshow": {
     "slide_type": "slide"
    }
   },
   "source": [
    "## We want some pdfs!\n",
    "\n",
    "[Link](http://www.europarl.europa.eu/thinktank/en/search.html?selectedDocumentType=&fakeSelectedKeywords=&fakeSelectedAuthor=&fakeDocumentTypes=BRIEFING&dateEnd=&previousResultSetDateStart=01-03-1997&dateStart=&selectedKeyword=&previousSubmitter=POLICY_AREA&documentTypes=BRIEFING&page=1&selectedAuthor=&previousResultSetDateEnd=02-05-2019&fakeSelectedPolicyArea=FORAFF&selectedPolicyArea=FORAFF&word=&facetAction=ADD)"
   ]
  },
  {
   "cell_type": "code",
   "execution_count": 2,
   "metadata": {
    "slideshow": {
     "slide_type": "slide"
    }
   },
   "outputs": [],
   "source": [
    "import requests"
   ]
  },
  {
   "cell_type": "code",
   "execution_count": 3,
   "metadata": {
    "slideshow": {
     "slide_type": "fragment"
    }
   },
   "outputs": [],
   "source": [
    "url = 'http://www.europarl.europa.eu/RegData/etudes/BRIE/2019/635581/EPRS_BRI(2019)635581_EN.pdf'"
   ]
  },
  {
   "cell_type": "code",
   "execution_count": 4,
   "metadata": {
    "slideshow": {
     "slide_type": "fragment"
    }
   },
   "outputs": [],
   "source": [
    "response = requests.get(url)"
   ]
  },
  {
   "cell_type": "code",
   "execution_count": 5,
   "metadata": {
    "slideshow": {
     "slide_type": "slide"
    }
   },
   "outputs": [],
   "source": [
    "with open('EPRS_BRI(2019)635581_EN.pdf', 'wb') as outfile:\n",
    "    outfile.write(response.content)"
   ]
  },
  {
   "cell_type": "markdown",
   "metadata": {
    "slideshow": {
     "slide_type": "slide"
    }
   },
   "source": [
    "## Did it work? Find the file!"
   ]
  },
  {
   "cell_type": "code",
   "execution_count": 10,
   "metadata": {
    "slideshow": {
     "slide_type": "slide"
    }
   },
   "outputs": [],
   "source": [
    "import PyPDF2\n",
    "\n",
    "def extract_text(pdf_file_name):\n",
    "    '''Extract text contents from a PDF file'''\n",
    "    \n",
    "    pdfFileObj = open(pdf_file_name, 'rb')\n",
    "        \n",
    "    pdfReader = PyPDF2.PdfFileReader(pdfFileObj)\n",
    "    \n",
    "    full_text = ''\n",
    "\n",
    "    for page_number in range(0, pdfReader.numPages):\n",
    "        new_page_text = pdfReader.getPage(page_number).extractText()\n",
    "        full_text = full_text +  '\\n' + new_page_text\n",
    "    return full_text\n",
    "    "
   ]
  },
  {
   "cell_type": "code",
   "execution_count": 11,
   "metadata": {
    "slideshow": {
     "slide_type": "slide"
    }
   },
   "outputs": [
    {
     "name": "stdout",
     "output_type": "stream",
     "text": [
      "\n",
      "BRIEFING\n",
      " What Think Tanks are Thinking\n",
      " 15 March\n",
      " 201\n",
      "9  EPRS | European Parliament\n",
      "ary\n",
      " Research Service\n",
      " Author: \n",
      "Marcin Grajewski\n",
      " Strategy and Coordination Unit\n",
      " PE 635.581\n",
      " EN Presidential elections\n",
      " in Ukraine\n",
      " Ukraine \n",
      "will \n",
      "hold presidential elections on 31 March\n",
      ", five years after the Maidan protests \n",
      "resulted in \n",
      "the impeach\n",
      "ment of \n",
      "pro\n",
      "-Kremlin\n",
      " President Viktor Yanukovich\n",
      ", setting the country on a course\n",
      " to \n",
      "dee\n",
      "pen ties with the West\n",
      ". Russia reacted by\n",
      " launching a\n",
      " hybrid war against Ukraine\n",
      ", \n",
      "which resulted \n",
      "in the \n",
      "illegal annex\n",
      "ation\n",
      " of \n",
      "the \n",
      "Crimean peninsula in March 2014\n",
      ", and in military aggression\n",
      " in \n",
      "eastern Ukraine. \n",
      "The outcome of the ballot is uncertain, but the new leader is expected to continue \n",
      "the \n",
      "efforts of incumbent President Petro Poroshenko to deepen relations with the European Union \n",
      "and NATO\n",
      ", and continue the country's reform process, inc\n",
      "luding anti\n",
      "-corruption\n",
      " measures.\n",
      "  A record \n",
      "44 candidates \n",
      "are contesting the election\n",
      ", with actor and political novice Volodymyr \n",
      "Zelenskiy holding the lead in opinion polls, followed by P\n",
      "oroshenko and former prime minister\n",
      ", Yulia Tymoshenko\n",
      ". If no candidate \n",
      "secures an absolute majority in the first round\n",
      ", the top \n",
      "two \n",
      "contenders will face each other in a run\n",
      "-off on 21 April.\n",
      "   This note offers links to \n",
      "recent commentaries, studies and reports from major international \n",
      "think tanks\n",
      " on the situat\n",
      "ion in Ukraine.\n",
      "   Ukraine: What comes after the presidential election?\n",
      " Carnegie Europe, March 2019\n",
      "  Who is ready to lead Ukraine?\n",
      " Atlantic Council, March 2019\n",
      "  Patriotism, pressure, populism: How Poroshenko can win\n",
      " Carnegie Europe, \n",
      "March 2019\n",
      "  No good deed goes unpunished in Ukraine\n",
      " Atlantic Council, March 2019\n",
      "  Der Donbas\n",
      "-Konflikt\n",
      " Stiftung Wissenschaft und Politik, February 2019\n",
      "  Kremlin\n",
      "-linked forces in Ukraine™s 2019 elections: On the brink of revenge?\n",
      " Institut français des relations internationales, February 2019\n",
      "  Ukrainian society ahead of the elections\n",
      " Carnegie Europe, February 2019\n",
      "  Ukraine™s leading presidentia\n",
      "l candidates (minus Poroshenko) promise to fight \n",
      "corruption\n",
      " Atlantic Council, February 2019\n",
      "    \n",
      "EPRS | European Parliamentary Research Service\n",
      " 2 Ukraine's experiment with trust\n",
      " European Council on Foreign Relations, February 2019\n",
      "  Russia looks to strike at Ukraine™s south again?\n",
      " Atlantic Council, February 2019\n",
      "  The Ukraine model for Brexit: Is dissociation just like association?\n",
      " Centre for European Reform, February 2019\n",
      "  L™industrie de défense Ukrainienne\n",
      " Groupe de Recherche et d™Information sur la Paix et la Sécurité, February 2019\n",
      "  What will the 2019 Ukraine elections spell for the Donbas conflict?\n",
      " Istituto Affari Internazionali, February 2019\n",
      "  And yet it moves: Post\n",
      "-Soviet frozen conflicts in 2019\n",
      " Istituto Affari Internazionali, February 2019\n",
      "  The European deterrence initiative\n",
      " Center for Strategic and Budgetary Assessment, January 2019\n",
      "  Elections in 2019: Risks of more interference\n",
      " German Marshall Fund, January 2019\n",
      "  The Sea of Azov should not become a Russian lake\n",
      " European Policy Centre, December 2018\n",
      "  No Russian let\n",
      "-up on Ukraine\n",
      " Rand Europe, December 2018\n",
      "  Advancing natural gas reform in Ukraine\n",
      " Council on Foreign Relations, December 2018\n",
      "  Crimea annexation 2.0\n",
      " Carnegie Europe, November 2018\n",
      "  Ukraine™s new front is Europe™s big challenge\n",
      " Euro\n",
      "pean Council on Foreign Relations, November 2018\n",
      "  Time for Trump to stand up to Putin after the Sea of Azov attack\n",
      " German Marshall Fund, November 2018\n",
      "  Supporting political stability by strengthening local government\n",
      " Danish Institute of International Studies, November 2018\n",
      "  What is happening in relations of Ukraine with its western neighbouring states?\n",
      " International Centre for Policy Studies, October 2018\n",
      "  Occupied Crimea: Europe's grey zone\n",
      " European Policy Centre, October 2018\n",
      "  A Church conflict brews in Ukraine\n",
      " Carnegie Europe, October 2018\n",
      " \n",
      "Presidential elections in Ukraine\n",
      " 3 ‚Nobody wants us™: The alienated civilians of Eastern Ukraine\n",
      " International Crisis Group, October 2018\n",
      "  The attitude of Ukrainians toward social democracy\n",
      " Fri\n",
      "edrich Ebert Stiftung, October 2018\n",
      "  Migration from Ukraine to Poland: \n",
      "The trend stabilises\n",
      " Centre for Eastern Studies, October 2018\n",
      "  Russia vs. Ukraine: More of the same?\n",
      " Brookings Institution, October 2018\n",
      "  The struggle for good governance in Eastern Europe\n",
      " Centre for European Policy Studies, September 2018\n",
      "  Ukraine™s incomplete transformation\n",
      " Carnegie Europe, September 2018\n",
      "  Deepening EU\n",
      "-Ukrainian relations: What, why and how?\n",
      " Centre for European Policy Studies, September 2018\n",
      "  How Eastern Ukraine is adapting and surviving: The case of Kharkiv\n",
      " Carnegie Europe, September 2018\n",
      "  Ukraine and its neighbors\n",
      ": \n",
      "Analysis of regional trends\n",
      " International Centre for Policy Studies, September 2018\n",
      "  Rebuilding Ukraine: An assessment of EU assistance\n",
      " Chatham House, August 2018\n",
      "  How Ukraine™s government has struggled to adapt to Russia™s digital onslaught\n",
      " Council on Foreign Relations, August 2018\n",
      "  Ukraine™s Helsinki hangover\n",
      " German Marshall Fund, July 2018\n",
      "  Ukraine: The struggle for reforms continues\n",
      " Bruegel, July 201\n",
      "8  Integrity on trial: Judicial reform in Georgia, Ukraine and Moldova\n",
      " Centre for \n",
      "European\n",
      " Policy Studies, June 2018\n",
      "  Ukrainian elections: Poroshenko and proliferating populists\n",
      " European Council on Foreign Relations, May 2018\n",
      "  Poroshenko stands alone: Ukraine politics in a pre\n",
      "-election year\n",
      " Centre for Eastern Studies, May 2018\n",
      "  A route to national resilience: \n",
      "Building whole\n",
      "-of-society security in Ukraine\n",
      " International Centre for Defence and Security, April 2018\n",
      "  The EU twinning instrument in Ukraine: Strengths, weaknesses, opportunities and threats\n",
      " Centre for European Policy Studies, April 2018\n",
      " \n",
      "EPRS | European Parliamentary Research Service\n",
      " 4 Russian social media influence: Understanding Russian propaganda in Eastern Europe\n",
      " Rand Europe, April 2018\n",
      "   DISCLAIMER AND COPYR\n",
      "IGHT\n",
      " This document is prepared for, and \n",
      "addressed to, the Members and staff of the European Parliament as \n",
      "background material to assist them in their parliamentary work. The content of the document is the sole \n",
      "responsibility of its author(s) and any opinions expressed herein should not be taken \n",
      "to represent an official \n",
      "position of the Parliament.\n",
      " Reproduction and translation for non\n",
      "-commercial purposes are authorised, provided the source is \n",
      "acknowledged and the European Parliament is given prior notice and sent a copy.\n",
      " © European Union, 201\n",
      "9. eprs@ep.europa.eu\n",
      " (contact)\n",
      " www.eprs.ep.parl.union.eu\n",
      " (intranet)\n",
      " www.europarl.europa.eu/thinktank\n",
      " (internet)\n",
      " http://epthinktank.eu\n",
      " (blog)\n",
      "  \n"
     ]
    }
   ],
   "source": [
    "print(extract_text('EPRS_BRI(2019)635581_EN.pdf'))"
   ]
  }
 ],
 "metadata": {
  "celltoolbar": "Slideshow",
  "kernelspec": {
   "display_name": "Python 3",
   "language": "python",
   "name": "python3"
  },
  "language_info": {
   "codemirror_mode": {
    "name": "ipython",
    "version": 3
   },
   "file_extension": ".py",
   "mimetype": "text/x-python",
   "name": "python",
   "nbconvert_exporter": "python",
   "pygments_lexer": "ipython3",
   "version": "3.6.8"
  }
 },
 "nbformat": 4,
 "nbformat_minor": 2
}
