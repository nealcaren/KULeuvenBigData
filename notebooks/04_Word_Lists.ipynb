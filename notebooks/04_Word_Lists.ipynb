{
 "cells": [
  {
   "cell_type": "markdown",
   "metadata": {},
   "source": [
    "## Word Lists and Sentiment Analysis\n"
   ]
  },
  {
   "cell_type": "markdown",
   "metadata": {
    "slideshow": {
     "slide_type": "skip"
    }
   },
   "source": [
    "\n",
    "A traditional method of analyzing texts is to compute the proportion of the words have positive connotations, negative connotations or are neutral. This method is commonly referred to as sentiment analysis. The typical approach to sentiment analysis is to see how many words in a text are also in a predefined list of words associated with a sentiment. So \"I am having a bad day.\" might score a \"1\" on a negative sentiment scale for the presence of \"bad\" or a .17 because one of six of the words is negative. Some sentiment systems rank words on a scale, so that \"terrific\" might be a 5 while \"fine\" scores a 1. \n",
    "\n",
    "Some systems go beyond positive and negative. The proprietary LIWC program, for example, extends this to measure dozens of other word attributes, such as \"tone\", \"analytic thinking\", and \"clout\". More generally, these methods can be used whenever you have a list of words, and you want to count their occurrences in a set of texts. They are commonly referred to as \"dictionary methods.\"\n",
    "\n",
    "This lesson introduces two different dictionaries that are available in Python, AFINN, and Vader. It concludes by showing how to analyze a text corpus for occurrences on any arbitrary word list."
   ]
  },
  {
   "cell_type": "markdown",
   "metadata": {
    "slideshow": {
     "slide_type": "skip"
    }
   },
   "source": [
    "This lesson assumes your computer has an Anaconda Python 3.7 distribution installed."
   ]
  },
  {
   "cell_type": "markdown",
   "metadata": {
    "slideshow": {
     "slide_type": "slide"
    }
   },
   "source": [
    "#### AFINN\n",
    "\n",
    "[AFINN](http://www2.imm.dtu.dk/pubdb/views/publication_details.php?id=6010) is an English word listed developed by Finn Årup Nielsen. Words scores range from minus five (negative) to plus five (positive). The English language dictionary consists of 2,477 coded words.\n",
    "\n",
    "If this is your first time running this notebook, you may need to install it:\n",
    "\n",
    "```\n",
    "%pip install afinn\n",
    "```"
   ]
  },
  {
   "cell_type": "code",
   "execution_count": 1,
   "metadata": {
    "slideshow": {
     "slide_type": "slide"
    }
   },
   "outputs": [],
   "source": [
    "from afinn import Afinn"
   ]
  },
  {
   "cell_type": "markdown",
   "metadata": {
    "slideshow": {
     "slide_type": "slide"
    }
   },
   "source": [
    "After importing `Afinn`, you need to set the language, English (`en`), Danish (`da`), or emoticon (`emoticons`). "
   ]
  },
  {
   "cell_type": "code",
   "execution_count": 2,
   "metadata": {
    "slideshow": {
     "slide_type": "fragment"
    }
   },
   "outputs": [],
   "source": [
    "afinn = Afinn(language='en')"
   ]
  },
  {
   "cell_type": "markdown",
   "metadata": {
    "slideshow": {
     "slide_type": "slide"
    }
   },
   "source": [
    "The `score` method returns the sum of word valence scores for a text string."
   ]
  },
  {
   "cell_type": "code",
   "execution_count": 3,
   "metadata": {
    "slideshow": {
     "slide_type": "fragment"
    }
   },
   "outputs": [
    {
     "data": {
      "text/plain": [
       "-3.0"
      ]
     },
     "execution_count": 3,
     "metadata": {},
     "output_type": "execute_result"
    }
   ],
   "source": [
    "afinn.score('Bad day.')"
   ]
  },
  {
   "cell_type": "code",
   "execution_count": 4,
   "metadata": {
    "slideshow": {
     "slide_type": "slide"
    }
   },
   "outputs": [
    {
     "data": {
      "text/plain": [
       "3.0"
      ]
     },
     "execution_count": 4,
     "metadata": {},
     "output_type": "execute_result"
    }
   ],
   "source": [
    "afinn.score('Good day.')"
   ]
  },
  {
   "cell_type": "code",
   "execution_count": 5,
   "metadata": {
    "slideshow": {
     "slide_type": "slide"
    }
   },
   "outputs": [
    {
     "data": {
      "text/plain": [
       "-6.0"
      ]
     },
     "execution_count": 5,
     "metadata": {},
     "output_type": "execute_result"
    }
   ],
   "source": [
    "afinn.score('Horrible, bad day.')"
   ]
  },
  {
   "cell_type": "markdown",
   "metadata": {
    "slideshow": {
     "slide_type": "skip"
    }
   },
   "source": [
    "In all these cases, `afinn` has preprocessed the text by removing the punctuation, converting all the words to lower-case, and before analyzing it. "
   ]
  },
  {
   "cell_type": "markdown",
   "metadata": {},
   "source": [
    "<div class=\"alert alert-info\">\n",
    "<h3>Your turn</h3>\n",
    "<p>Create a sentence with a score of +10 or greater and one of -10 or lower.</div>\n",
    "\n",
    "\n"
   ]
  },
  {
   "cell_type": "markdown",
   "metadata": {},
   "source": [
    "### Behind the scenes"
   ]
  },
  {
   "cell_type": "markdown",
   "metadata": {
    "slideshow": {
     "slide_type": "skip"
    }
   },
   "source": [
    " Before using a sentiment dictionary, it is useful to see whether it has any face validity.  To do that, we can look at a sample of the words from the list.\n",
    "\n",
    "After importing the pandas library, the cell below will load word list as a pandas dataframe from the tab-delimited version on Afinn's GitHub page and display a sample of 10 words."
   ]
  },
  {
   "cell_type": "code",
   "execution_count": 6,
   "metadata": {},
   "outputs": [
    {
     "data": {
      "text/html": [
       "<div>\n",
       "<style scoped>\n",
       "    .dataframe tbody tr th:only-of-type {\n",
       "        vertical-align: middle;\n",
       "    }\n",
       "\n",
       "    .dataframe tbody tr th {\n",
       "        vertical-align: top;\n",
       "    }\n",
       "\n",
       "    .dataframe thead th {\n",
       "        text-align: right;\n",
       "    }\n",
       "</style>\n",
       "<table border=\"1\" class=\"dataframe\">\n",
       "  <thead>\n",
       "    <tr style=\"text-align: right;\">\n",
       "      <th></th>\n",
       "      <th>term</th>\n",
       "      <th>value</th>\n",
       "    </tr>\n",
       "  </thead>\n",
       "  <tbody>\n",
       "    <tr>\n",
       "      <th>1852</th>\n",
       "      <td>regret</td>\n",
       "      <td>-2</td>\n",
       "    </tr>\n",
       "    <tr>\n",
       "      <th>1285</th>\n",
       "      <td>indifferent</td>\n",
       "      <td>-2</td>\n",
       "    </tr>\n",
       "    <tr>\n",
       "      <th>681</th>\n",
       "      <td>disappoints</td>\n",
       "      <td>-2</td>\n",
       "    </tr>\n",
       "    <tr>\n",
       "      <th>770</th>\n",
       "      <td>doubts</td>\n",
       "      <td>-1</td>\n",
       "    </tr>\n",
       "    <tr>\n",
       "      <th>1644</th>\n",
       "      <td>outmaneuvered</td>\n",
       "      <td>-2</td>\n",
       "    </tr>\n",
       "    <tr>\n",
       "      <th>55</th>\n",
       "      <td>admit</td>\n",
       "      <td>-1</td>\n",
       "    </tr>\n",
       "    <tr>\n",
       "      <th>1133</th>\n",
       "      <td>haha</td>\n",
       "      <td>3</td>\n",
       "    </tr>\n",
       "    <tr>\n",
       "      <th>1160</th>\n",
       "      <td>haunt</td>\n",
       "      <td>-1</td>\n",
       "    </tr>\n",
       "    <tr>\n",
       "      <th>2435</th>\n",
       "      <td>wishing</td>\n",
       "      <td>1</td>\n",
       "    </tr>\n",
       "    <tr>\n",
       "      <th>21</th>\n",
       "      <td>abused</td>\n",
       "      <td>-3</td>\n",
       "    </tr>\n",
       "  </tbody>\n",
       "</table>\n",
       "</div>"
      ],
      "text/plain": [
       "               term  value\n",
       "1852         regret     -2\n",
       "1285    indifferent     -2\n",
       "681     disappoints     -2\n",
       "770          doubts     -1\n",
       "1644  outmaneuvered     -2\n",
       "55            admit     -1\n",
       "1133           haha      3\n",
       "1160          haunt     -1\n",
       "2435        wishing      1\n",
       "21           abused     -3"
      ]
     },
     "execution_count": 6,
     "metadata": {},
     "output_type": "execute_result"
    }
   ],
   "source": [
    "import pandas as pd\n",
    "\n",
    "afinn_wl_url = ('https://raw.githubusercontent.com'\n",
    "                '/fnielsen/afinn/master/afinn/data/AFINN-111.txt')\n",
    "\n",
    "afinn_wl_df = pd.read_csv(afinn_wl_url, \n",
    "                          header=None, # no column names\n",
    "                          sep='\\t',  # tab sepeated\n",
    "                          names=['term', 'value']) #new column names\n",
    "\n",
    "seed = 808 # seed for sample so results are stable\n",
    "afinn_wl_df.sample(10, random_state = seed)"
   ]
  },
  {
   "cell_type": "markdown",
   "metadata": {
    "slideshow": {
     "slide_type": "skip"
    }
   },
   "source": [
    "We can get a sense of the distribution of word values by plotting them:"
   ]
  },
  {
   "cell_type": "code",
   "execution_count": 7,
   "metadata": {
    "slideshow": {
     "slide_type": "slide"
    }
   },
   "outputs": [
    {
     "data": {
      "text/plain": [
       "<matplotlib.axes._subplots.AxesSubplot at 0x11c4805f8>"
      ]
     },
     "execution_count": 7,
     "metadata": {},
     "output_type": "execute_result"
    },
    {
     "data": {
      "image/png": "[encoded data removed]",
      "text/plain": [
       "<Figure size 432x288 with 1 Axes>"
      ]
     },
     "metadata": {
      "needs_background": "light"
     },
     "output_type": "display_data"
    }
   ],
   "source": [
    "%matplotlib inline\n",
    "\n",
    "afinn_wl_df['value'].hist(bins=20)"
   ]
  },
  {
   "cell_type": "markdown",
   "metadata": {
    "slideshow": {
     "slide_type": "skip"
    }
   },
   "source": [
    "Overall, the dictionary appears to have more negative words than positive words, but the values for both positive and negative words are rarely extreme, with both two and negative two as the most common values."
   ]
  },
  {
   "cell_type": "markdown",
   "metadata": {
    "slideshow": {
     "slide_type": "skip"
    }
   },
   "source": [
    "## Applying the dictionary\n",
    "\n",
    "We can use Afinn to analyze a more extensive text database.  Aashita Kesarwani put together a [corpus](https://www.kaggle.com/aashita/nyt-comments/home) of comments made to New York Times articles. I sampled 10,000 of these from April 2017 and stored them as a JSON file.\n"
   ]
  },
  {
   "cell_type": "code",
   "execution_count": 8,
   "metadata": {
    "slideshow": {
     "slide_type": "slide"
    }
   },
   "outputs": [],
   "source": [
    "# json_url = ('https://github.com/nealcaren/kuleuvenbigdata/'\n",
    "#            'blob/master/notebooks/data/nyt_201704_comments.json?raw=true')\n",
    "\n",
    "json_url = 'data/nyt_201704_comments.json'\n",
    "nyt_df = pd.read_json(json_url)"
   ]
  },
  {
   "cell_type": "markdown",
   "metadata": {
    "slideshow": {
     "slide_type": "skip"
    }
   },
   "source": [
    "The `head` method provides an overview of the dataframe."
   ]
  },
  {
   "cell_type": "code",
   "execution_count": 9,
   "metadata": {
    "slideshow": {
     "slide_type": "slide"
    }
   },
   "outputs": [
    {
     "data": {
      "text/html": [
       "<div>\n",
       "<style scoped>\n",
       "    .dataframe tbody tr th:only-of-type {\n",
       "        vertical-align: middle;\n",
       "    }\n",
       "\n",
       "    .dataframe tbody tr th {\n",
       "        vertical-align: top;\n",
       "    }\n",
       "\n",
       "    .dataframe thead th {\n",
       "        text-align: right;\n",
       "    }\n",
       "</style>\n",
       "<table border=\"1\" class=\"dataframe\">\n",
       "  <thead>\n",
       "    <tr style=\"text-align: right;\">\n",
       "      <th></th>\n",
       "      <th>articleID</th>\n",
       "      <th>commentBody</th>\n",
       "      <th>commentID</th>\n",
       "      <th>commentType</th>\n",
       "      <th>createDate</th>\n",
       "      <th>editorsSelection</th>\n",
       "      <th>recommendations</th>\n",
       "      <th>replyCount</th>\n",
       "      <th>sectionName</th>\n",
       "      <th>userDisplayName</th>\n",
       "      <th>userID</th>\n",
       "      <th>userLocation</th>\n",
       "    </tr>\n",
       "  </thead>\n",
       "  <tbody>\n",
       "    <tr>\n",
       "      <th>0</th>\n",
       "      <td>58ef8bfc7c459f24986da097</td>\n",
       "      <td>Tragedies abound in war, precision munitions n...</td>\n",
       "      <td>22148699</td>\n",
       "      <td>comment</td>\n",
       "      <td>1492123756</td>\n",
       "      <td>False</td>\n",
       "      <td>1</td>\n",
       "      <td>0</td>\n",
       "      <td>Middle East</td>\n",
       "      <td>Bill Owens</td>\n",
       "      <td>66371869</td>\n",
       "      <td>Essex</td>\n",
       "    </tr>\n",
       "    <tr>\n",
       "      <th>1</th>\n",
       "      <td>58e5a1507c459f24986d8a56</td>\n",
       "      <td>\"...but then again, please get off my lawn\" ma...</td>\n",
       "      <td>22053980</td>\n",
       "      <td>comment</td>\n",
       "      <td>1491481436</td>\n",
       "      <td>False</td>\n",
       "      <td>6</td>\n",
       "      <td>0</td>\n",
       "      <td>Unknown</td>\n",
       "      <td>Mike P</td>\n",
       "      <td>56758055</td>\n",
       "      <td>Long Island</td>\n",
       "    </tr>\n",
       "    <tr>\n",
       "      <th>2</th>\n",
       "      <td>58ff102d7c459f24986dbe81</td>\n",
       "      <td>Just another flim-flam plan to shuffle mor...</td>\n",
       "      <td>22263548</td>\n",
       "      <td>comment</td>\n",
       "      <td>1493128804</td>\n",
       "      <td>False</td>\n",
       "      <td>13</td>\n",
       "      <td>1</td>\n",
       "      <td>Politics</td>\n",
       "      <td>giniajim</td>\n",
       "      <td>1651431</td>\n",
       "      <td>VA</td>\n",
       "    </tr>\n",
       "    <tr>\n",
       "      <th>3</th>\n",
       "      <td>58ec83fb7c459f24986d98cd</td>\n",
       "      <td>What do you mean, nice try?  Moynihan Station ...</td>\n",
       "      <td>22113999</td>\n",
       "      <td>userReply</td>\n",
       "      <td>1491924651</td>\n",
       "      <td>False</td>\n",
       "      <td>1</td>\n",
       "      <td>0</td>\n",
       "      <td>Unknown</td>\n",
       "      <td>Guy Walker</td>\n",
       "      <td>55823171</td>\n",
       "      <td>New York City</td>\n",
       "    </tr>\n",
       "    <tr>\n",
       "      <th>4</th>\n",
       "      <td>58fcbc357c459f24986db9d0</td>\n",
       "      <td>Where I live, in a city where cabs are plentif...</td>\n",
       "      <td>22247141</td>\n",
       "      <td>comment</td>\n",
       "      <td>1492971817</td>\n",
       "      <td>True</td>\n",
       "      <td>124</td>\n",
       "      <td>6</td>\n",
       "      <td>Unknown</td>\n",
       "      <td>plphillips</td>\n",
       "      <td>18764882</td>\n",
       "      <td>Washington DC</td>\n",
       "    </tr>\n",
       "  </tbody>\n",
       "</table>\n",
       "</div>"
      ],
      "text/plain": [
       "                  articleID  \\\n",
       "0  58ef8bfc7c459f24986da097   \n",
       "1  58e5a1507c459f24986d8a56   \n",
       "2  58ff102d7c459f24986dbe81   \n",
       "3  58ec83fb7c459f24986d98cd   \n",
       "4  58fcbc357c459f24986db9d0   \n",
       "\n",
       "                                         commentBody  commentID commentType  \\\n",
       "0  Tragedies abound in war, precision munitions n...   22148699     comment   \n",
       "1  \"...but then again, please get off my lawn\" ma...   22053980     comment   \n",
       "2      Just another flim-flam plan to shuffle mor...   22263548     comment   \n",
       "3  What do you mean, nice try?  Moynihan Station ...   22113999   userReply   \n",
       "4  Where I live, in a city where cabs are plentif...   22247141     comment   \n",
       "\n",
       "   createDate  editorsSelection  recommendations  replyCount  sectionName  \\\n",
       "0  1492123756             False                1           0  Middle East   \n",
       "1  1491481436             False                6           0      Unknown   \n",
       "2  1493128804             False               13           1     Politics   \n",
       "3  1491924651             False                1           0      Unknown   \n",
       "4  1492971817              True              124           6      Unknown   \n",
       "\n",
       "  userDisplayName    userID   userLocation  \n",
       "0      Bill Owens  66371869          Essex  \n",
       "1          Mike P  56758055    Long Island  \n",
       "2        giniajim   1651431             VA  \n",
       "3      Guy Walker  55823171  New York City  \n",
       "4      plphillips  18764882  Washington DC  "
      ]
     },
     "execution_count": 9,
     "metadata": {},
     "output_type": "execute_result"
    }
   ],
   "source": [
    "nyt_df.head()"
   ]
  },
  {
   "cell_type": "markdown",
   "metadata": {
    "slideshow": {
     "slide_type": "slide"
    }
   },
   "source": [
    "The column of interest is *commentBody.* \n",
    "\n",
    "To estimate the Afinn sentiment score for all of the responses in the dataframe, we can `apply` the scorer to the commentBody column to create a new column. Applying this function takes a couple of seconds."
   ]
  },
  {
   "cell_type": "code",
   "execution_count": 10,
   "metadata": {
    "slideshow": {
     "slide_type": "fragment"
    }
   },
   "outputs": [],
   "source": [
    "nyt_df['afinn_score'] = nyt_df['commentBody'].apply(afinn.score)"
   ]
  },
  {
   "cell_type": "markdown",
   "metadata": {
    "slideshow": {
     "slide_type": "slide"
    }
   },
   "source": [
    "`describe` gives a sense of the distribution. "
   ]
  },
  {
   "cell_type": "code",
   "execution_count": 11,
   "metadata": {
    "slideshow": {
     "slide_type": "fragment"
    }
   },
   "outputs": [
    {
     "data": {
      "text/plain": [
       "count    10000.000000\n",
       "mean        -0.283000\n",
       "std          7.166188\n",
       "min       -130.000000\n",
       "25%         -3.000000\n",
       "50%          0.000000\n",
       "75%          3.000000\n",
       "max         42.000000\n",
       "Name: afinn_score, dtype: float64"
      ]
     },
     "execution_count": 11,
     "metadata": {},
     "output_type": "execute_result"
    }
   ],
   "source": [
    "nyt_df['afinn_score'].describe()"
   ]
  },
  {
   "cell_type": "markdown",
   "metadata": {
    "slideshow": {
     "slide_type": "skip"
    }
   },
   "source": [
    "It is also useful to sort by `afinn_score` to get a sense of what is in the extreme scoring comments. In this case, I subset the dataframe to display just the two relevant columns. "
   ]
  },
  {
   "cell_type": "code",
   "execution_count": 12,
   "metadata": {
    "slideshow": {
     "slide_type": "slide"
    }
   },
   "outputs": [
    {
     "data": {
      "text/html": [
       "<div>\n",
       "<style scoped>\n",
       "    .dataframe tbody tr th:only-of-type {\n",
       "        vertical-align: middle;\n",
       "    }\n",
       "\n",
       "    .dataframe tbody tr th {\n",
       "        vertical-align: top;\n",
       "    }\n",
       "\n",
       "    .dataframe thead th {\n",
       "        text-align: right;\n",
       "    }\n",
       "</style>\n",
       "<table border=\"1\" class=\"dataframe\">\n",
       "  <thead>\n",
       "    <tr style=\"text-align: right;\">\n",
       "      <th></th>\n",
       "      <th>commentBody</th>\n",
       "      <th>afinn_score</th>\n",
       "    </tr>\n",
       "  </thead>\n",
       "  <tbody>\n",
       "    <tr>\n",
       "      <th>9348</th>\n",
       "      <td>Well Bill, nobody will be able to say that you...</td>\n",
       "      <td>-130.0</td>\n",
       "    </tr>\n",
       "    <tr>\n",
       "      <th>5893</th>\n",
       "      <td>\"Don’t Weaken Title IX Campus Sex Assault Poli...</td>\n",
       "      <td>-62.0</td>\n",
       "    </tr>\n",
       "    <tr>\n",
       "      <th>1510</th>\n",
       "      <td>Would you describe (former prime minister of I...</td>\n",
       "      <td>-54.0</td>\n",
       "    </tr>\n",
       "    <tr>\n",
       "      <th>3378</th>\n",
       "      <td>\"I disapprove of what you say, but I will defe...</td>\n",
       "      <td>-54.0</td>\n",
       "    </tr>\n",
       "    <tr>\n",
       "      <th>3956</th>\n",
       "      <td>The ultimate weakness of violence is that it i...</td>\n",
       "      <td>-52.0</td>\n",
       "    </tr>\n",
       "    <tr>\n",
       "      <th>9353</th>\n",
       "      <td>The “Dirty Muslim”\\n\\nShe is called a “Dirty M...</td>\n",
       "      <td>-46.0</td>\n",
       "    </tr>\n",
       "    <tr>\n",
       "      <th>7788</th>\n",
       "      <td>Democracy and western civilization are doing j...</td>\n",
       "      <td>-43.0</td>\n",
       "    </tr>\n",
       "    <tr>\n",
       "      <th>4446</th>\n",
       "      <td>Immigrants\\n\\nImmigration purge\\nEverybody is...</td>\n",
       "      <td>-42.0</td>\n",
       "    </tr>\n",
       "    <tr>\n",
       "      <th>80</th>\n",
       "      <td>Factual error: There has been no \"rapid fallof...</td>\n",
       "      <td>-42.0</td>\n",
       "    </tr>\n",
       "    <tr>\n",
       "      <th>7571</th>\n",
       "      <td>This is all fine and dandy, except for the fac...</td>\n",
       "      <td>-39.0</td>\n",
       "    </tr>\n",
       "  </tbody>\n",
       "</table>\n",
       "</div>"
      ],
      "text/plain": [
       "                                            commentBody  afinn_score\n",
       "9348  Well Bill, nobody will be able to say that you...       -130.0\n",
       "5893  \"Don’t Weaken Title IX Campus Sex Assault Poli...        -62.0\n",
       "1510  Would you describe (former prime minister of I...        -54.0\n",
       "3378  \"I disapprove of what you say, but I will defe...        -54.0\n",
       "3956  The ultimate weakness of violence is that it i...        -52.0\n",
       "9353  The “Dirty Muslim”\\n\\nShe is called a “Dirty M...        -46.0\n",
       "7788  Democracy and western civilization are doing j...        -43.0\n",
       "4446   Immigrants\\n\\nImmigration purge\\nEverybody is...        -42.0\n",
       "80    Factual error: There has been no \"rapid fallof...        -42.0\n",
       "7571  This is all fine and dandy, except for the fac...        -39.0"
      ]
     },
     "execution_count": 12,
     "metadata": {},
     "output_type": "execute_result"
    }
   ],
   "source": [
    "columns_to_display = ['commentBody', 'afinn_score']\n",
    "\n",
    "nyt_df.sort_values(by='afinn_score')[columns_to_display].head(10)"
   ]
  },
  {
   "cell_type": "markdown",
   "metadata": {},
   "source": [
    "It could be useful to see more of the comment."
   ]
  },
  {
   "cell_type": "code",
   "execution_count": 13,
   "metadata": {
    "slideshow": {
     "slide_type": "slide"
    }
   },
   "outputs": [],
   "source": [
    "pd.set_option('max_colwidth', 100)"
   ]
  },
  {
   "cell_type": "code",
   "execution_count": 14,
   "metadata": {
    "slideshow": {
     "slide_type": "fragment"
    }
   },
   "outputs": [
    {
     "data": {
      "text/html": [
       "<div>\n",
       "<style scoped>\n",
       "    .dataframe tbody tr th:only-of-type {\n",
       "        vertical-align: middle;\n",
       "    }\n",
       "\n",
       "    .dataframe tbody tr th {\n",
       "        vertical-align: top;\n",
       "    }\n",
       "\n",
       "    .dataframe thead th {\n",
       "        text-align: right;\n",
       "    }\n",
       "</style>\n",
       "<table border=\"1\" class=\"dataframe\">\n",
       "  <thead>\n",
       "    <tr style=\"text-align: right;\">\n",
       "      <th></th>\n",
       "      <th>commentBody</th>\n",
       "      <th>afinn_score</th>\n",
       "    </tr>\n",
       "  </thead>\n",
       "  <tbody>\n",
       "    <tr>\n",
       "      <th>9348</th>\n",
       "      <td>Well Bill, nobody will be able to say that you and the New York Times didn't warn us. And warn u...</td>\n",
       "      <td>-130.0</td>\n",
       "    </tr>\n",
       "    <tr>\n",
       "      <th>5893</th>\n",
       "      <td>\"Don’t Weaken Title IX Campus Sex Assault Policies\"\\nEveryone deserves to feel safe on campus an...</td>\n",
       "      <td>-62.0</td>\n",
       "    </tr>\n",
       "    <tr>\n",
       "      <th>1510</th>\n",
       "      <td>Would you describe (former prime minister of Israel) Menachem Begin as a terrorist? \\n\\nHere's p...</td>\n",
       "      <td>-54.0</td>\n",
       "    </tr>\n",
       "    <tr>\n",
       "      <th>3378</th>\n",
       "      <td>\"I disapprove of what you say, but I will defend to the death your right to say it.\" ATTENTION d...</td>\n",
       "      <td>-54.0</td>\n",
       "    </tr>\n",
       "    <tr>\n",
       "      <th>3956</th>\n",
       "      <td>The ultimate weakness of violence is that it is a descending spiral, begetting the very thing it...</td>\n",
       "      <td>-52.0</td>\n",
       "    </tr>\n",
       "    <tr>\n",
       "      <th>9353</th>\n",
       "      <td>The “Dirty Muslim”\\n\\nShe is called a “Dirty Muslim”\\nThe“Dirty Muslim” turned away in front of ...</td>\n",
       "      <td>-46.0</td>\n",
       "    </tr>\n",
       "    <tr>\n",
       "      <th>7788</th>\n",
       "      <td>Democracy and western civilization are doing just fine, but have temporarily lost their sea legs...</td>\n",
       "      <td>-43.0</td>\n",
       "    </tr>\n",
       "    <tr>\n",
       "      <th>4446</th>\n",
       "      <td>Immigrants\\n\\nImmigration purge\\nEverybody is afraid.\\nImmigrants fear law enforcement\\nFear un...</td>\n",
       "      <td>-42.0</td>\n",
       "    </tr>\n",
       "    <tr>\n",
       "      <th>80</th>\n",
       "      <td>Factual error: There has been no \"rapid falloff of illegal crossings\" since Trump assumed office...</td>\n",
       "      <td>-42.0</td>\n",
       "    </tr>\n",
       "    <tr>\n",
       "      <th>7571</th>\n",
       "      <td>This is all fine and dandy, except for the fact that these people made hundreds of millions of d...</td>\n",
       "      <td>-39.0</td>\n",
       "    </tr>\n",
       "  </tbody>\n",
       "</table>\n",
       "</div>"
      ],
      "text/plain": [
       "                                                                                              commentBody  \\\n",
       "9348  Well Bill, nobody will be able to say that you and the New York Times didn't warn us. And warn u...   \n",
       "5893  \"Don’t Weaken Title IX Campus Sex Assault Policies\"\\nEveryone deserves to feel safe on campus an...   \n",
       "1510  Would you describe (former prime minister of Israel) Menachem Begin as a terrorist? \\n\\nHere's p...   \n",
       "3378  \"I disapprove of what you say, but I will defend to the death your right to say it.\" ATTENTION d...   \n",
       "3956  The ultimate weakness of violence is that it is a descending spiral, begetting the very thing it...   \n",
       "9353  The “Dirty Muslim”\\n\\nShe is called a “Dirty Muslim”\\nThe“Dirty Muslim” turned away in front of ...   \n",
       "7788  Democracy and western civilization are doing just fine, but have temporarily lost their sea legs...   \n",
       "4446   Immigrants\\n\\nImmigration purge\\nEverybody is afraid.\\nImmigrants fear law enforcement\\nFear un...   \n",
       "80    Factual error: There has been no \"rapid falloff of illegal crossings\" since Trump assumed office...   \n",
       "7571  This is all fine and dandy, except for the fact that these people made hundreds of millions of d...   \n",
       "\n",
       "      afinn_score  \n",
       "9348       -130.0  \n",
       "5893        -62.0  \n",
       "1510        -54.0  \n",
       "3378        -54.0  \n",
       "3956        -52.0  \n",
       "9353        -46.0  \n",
       "7788        -43.0  \n",
       "4446        -42.0  \n",
       "80          -42.0  \n",
       "7571        -39.0  "
      ]
     },
     "execution_count": 14,
     "metadata": {},
     "output_type": "execute_result"
    }
   ],
   "source": [
    "nyt_df.sort_values(by='afinn_score')[columns_to_display].head(10)"
   ]
  },
  {
   "cell_type": "code",
   "execution_count": 15,
   "metadata": {
    "slideshow": {
     "slide_type": "slide"
    }
   },
   "outputs": [
    {
     "name": "stdout",
     "output_type": "stream",
     "text": [
      "The ultimate weakness of violence is that it is a descending spiral, begetting the very thing it seeks to destroy. Instead of diminishing evil, it multiplies it. Through violence you may murder the liar, but you cannot murder the lie, nor establish the truth. Through violence you murder the hater, but you do not murder hate. In fact, violence merely increases hate ... Returning violence for violence multiples violence, adding deeper darkness to a night already devoid of stars. Darkness cannot drive out darkness; only light can do that. \n",
      "\n",
      "~ Martin Luther King\n"
     ]
    }
   ],
   "source": [
    "sample = nyt_df.iloc[3956]['commentBody']\n",
    "print(sample)"
   ]
  },
  {
   "cell_type": "markdown",
   "metadata": {
    "slideshow": {
     "slide_type": "skip"
    }
   },
   "source": [
    "By default, the sort is ascending, mean the lowest scoring, or most negative comments, are displayed by `head`. The comments with the highest score are shown with `tail`. "
   ]
  },
  {
   "cell_type": "code",
   "execution_count": 16,
   "metadata": {
    "slideshow": {
     "slide_type": "slide"
    }
   },
   "outputs": [
    {
     "data": {
      "text/html": [
       "<div>\n",
       "<style scoped>\n",
       "    .dataframe tbody tr th:only-of-type {\n",
       "        vertical-align: middle;\n",
       "    }\n",
       "\n",
       "    .dataframe tbody tr th {\n",
       "        vertical-align: top;\n",
       "    }\n",
       "\n",
       "    .dataframe thead th {\n",
       "        text-align: right;\n",
       "    }\n",
       "</style>\n",
       "<table border=\"1\" class=\"dataframe\">\n",
       "  <thead>\n",
       "    <tr style=\"text-align: right;\">\n",
       "      <th></th>\n",
       "      <th>commentBody</th>\n",
       "      <th>afinn_score</th>\n",
       "    </tr>\n",
       "  </thead>\n",
       "  <tbody>\n",
       "    <tr>\n",
       "      <th>4949</th>\n",
       "      <td>Aside from the question of whether positive thinking works, there is a personal philosophical co...</td>\n",
       "      <td>32.0</td>\n",
       "    </tr>\n",
       "    <tr>\n",
       "      <th>3617</th>\n",
       "      <td>I found myself immensely enjoying this when I went to see it. I was a big fan of the animated fi...</td>\n",
       "      <td>33.0</td>\n",
       "    </tr>\n",
       "    <tr>\n",
       "      <th>7912</th>\n",
       "      <td>How is prepping for the SATs gaming the system? If you as you so subtly imply aced the SATs the ...</td>\n",
       "      <td>34.0</td>\n",
       "    </tr>\n",
       "    <tr>\n",
       "      <th>6085</th>\n",
       "      <td>\"'You Create That Chemistry': How Actors Fall in Instant Love\\n\\nActors are everywhere in the cu...</td>\n",
       "      <td>35.0</td>\n",
       "    </tr>\n",
       "    <tr>\n",
       "      <th>3971</th>\n",
       "      <td>I'd like to see the discussion moved up a level.  I my view, in exchange for a corp. charter, we...</td>\n",
       "      <td>37.0</td>\n",
       "    </tr>\n",
       "    <tr>\n",
       "      <th>2523</th>\n",
       "      <td>His lawyers are grasping at straws.... In the history of art I'm willing to bet one cannot find ...</td>\n",
       "      <td>38.0</td>\n",
       "    </tr>\n",
       "    <tr>\n",
       "      <th>3486</th>\n",
       "      <td>I applaud the spirit of this column and agree one should approach politics with compassion for o...</td>\n",
       "      <td>38.0</td>\n",
       "    </tr>\n",
       "    <tr>\n",
       "      <th>8495</th>\n",
       "      <td>My goodness... This hit home for me in so many ways. I was (am) a Tomboy, who has grown into a s...</td>\n",
       "      <td>39.0</td>\n",
       "    </tr>\n",
       "    <tr>\n",
       "      <th>9717</th>\n",
       "      <td>When I look at the American actresses of Claire Danes generation, it is a shame she ended up on ...</td>\n",
       "      <td>41.0</td>\n",
       "    </tr>\n",
       "    <tr>\n",
       "      <th>9205</th>\n",
       "      <td>\"Driven | 2017 Porsche 911 Turbo S\"\\n\\n  Since I was born my Favorite thing to do is watch anyth...</td>\n",
       "      <td>42.0</td>\n",
       "    </tr>\n",
       "  </tbody>\n",
       "</table>\n",
       "</div>"
      ],
      "text/plain": [
       "                                                                                              commentBody  \\\n",
       "4949  Aside from the question of whether positive thinking works, there is a personal philosophical co...   \n",
       "3617  I found myself immensely enjoying this when I went to see it. I was a big fan of the animated fi...   \n",
       "7912  How is prepping for the SATs gaming the system? If you as you so subtly imply aced the SATs the ...   \n",
       "6085  \"'You Create That Chemistry': How Actors Fall in Instant Love\\n\\nActors are everywhere in the cu...   \n",
       "3971  I'd like to see the discussion moved up a level.  I my view, in exchange for a corp. charter, we...   \n",
       "2523  His lawyers are grasping at straws.... In the history of art I'm willing to bet one cannot find ...   \n",
       "3486  I applaud the spirit of this column and agree one should approach politics with compassion for o...   \n",
       "8495  My goodness... This hit home for me in so many ways. I was (am) a Tomboy, who has grown into a s...   \n",
       "9717  When I look at the American actresses of Claire Danes generation, it is a shame she ended up on ...   \n",
       "9205  \"Driven | 2017 Porsche 911 Turbo S\"\\n\\n  Since I was born my Favorite thing to do is watch anyth...   \n",
       "\n",
       "      afinn_score  \n",
       "4949         32.0  \n",
       "3617         33.0  \n",
       "7912         34.0  \n",
       "6085         35.0  \n",
       "3971         37.0  \n",
       "2523         38.0  \n",
       "3486         38.0  \n",
       "8495         39.0  \n",
       "9717         41.0  \n",
       "9205         42.0  "
      ]
     },
     "execution_count": 16,
     "metadata": {},
     "output_type": "execute_result"
    }
   ],
   "source": [
    "nyt_df.sort_values(by='afinn_score')[columns_to_display].tail(10)"
   ]
  },
  {
   "cell_type": "code",
   "execution_count": 17,
   "metadata": {
    "slideshow": {
     "slide_type": "slide"
    }
   },
   "outputs": [
    {
     "name": "stdout",
     "output_type": "stream",
     "text": [
      "I applaud the spirit of this column and agree one should approach politics with compassion for others with differing points of view -- a) because they may have little choice, given their life story, to believe what they believe; and b) they may be right.\n",
      "\n",
      "There is of course a compassionate center-right vision not comfortable with PC or identity politics (of any color or gender) that believes amping up tensions between groups is not a good idea, that believes decentralized markets will solve problems like healthcare in a much more humane way (by better saturating the distribution).\n",
      "\n",
      "These people might also oppose the attacks on free speech and due process on today's campus, the use of the govt to surveil people, and the way the media often sides in Orwellian fashion with whatever the statist vision is.\n",
      "\n",
      "These people are eminently sane and favor a longer-road humanism that results in a sustainable society with greater law and order (where people of all races can flourish in peace on calm streets) and wherein govt largesse can be brought in later in the pipeline after true market reforms have occurred to help make systems like education and healthcare more functional via the human desire to compete.\n"
     ]
    }
   ],
   "source": [
    "sample = nyt_df.iloc[3486]['commentBody']\n",
    "print(sample)"
   ]
  },
  {
   "cell_type": "markdown",
   "metadata": {
    "slideshow": {
     "slide_type": "skip"
    }
   },
   "source": [
    "One of the drawbacks to using the raw Afinn score is the that longer texts may yield higher values simply because they contain more words. To adjust for that, we can divide the score by the number of words in the text. \n",
    "\n",
    "The most straightforward way to count words in a Python string is to use the `split` method, which splits a string based on white spaces, and then count the length of the resulting list."
   ]
  },
  {
   "cell_type": "code",
   "execution_count": 18,
   "metadata": {
    "slideshow": {
     "slide_type": "slide"
    }
   },
   "outputs": [],
   "source": [
    "def word_count(text_string):\n",
    "    '''Calculate the number of words in a string'''\n",
    "    return len(text_string.split())"
   ]
  },
  {
   "cell_type": "code",
   "execution_count": 19,
   "metadata": {
    "slideshow": {
     "slide_type": "slide"
    }
   },
   "outputs": [
    {
     "data": {
      "text/plain": [
       "7"
      ]
     },
     "execution_count": 19,
     "metadata": {},
     "output_type": "execute_result"
    }
   ],
   "source": [
    "word_count('This sentence has seven words in it.')"
   ]
  },
  {
   "cell_type": "markdown",
   "metadata": {
    "slideshow": {
     "slide_type": "skip"
    }
   },
   "source": [
    "You can employ that function on our dataframe to create a new column, `word_count` using `appply` to the text column, `commentBody`."
   ]
  },
  {
   "cell_type": "code",
   "execution_count": 20,
   "metadata": {
    "slideshow": {
     "slide_type": "slide"
    }
   },
   "outputs": [],
   "source": [
    "nyt_df['word_count'] = nyt_df['commentBody'].apply(word_count)"
   ]
  },
  {
   "cell_type": "code",
   "execution_count": 21,
   "metadata": {
    "slideshow": {
     "slide_type": "slide"
    }
   },
   "outputs": [
    {
     "data": {
      "text/plain": [
       "count    10000.000000\n",
       "mean        73.459700\n",
       "std         63.508284\n",
       "min          2.000000\n",
       "25%         26.000000\n",
       "50%         53.000000\n",
       "75%        100.000000\n",
       "max        296.000000\n",
       "Name: word_count, dtype: float64"
      ]
     },
     "execution_count": 21,
     "metadata": {},
     "output_type": "execute_result"
    }
   ],
   "source": [
    "nyt_df['word_count'].describe()"
   ]
  },
  {
   "cell_type": "markdown",
   "metadata": {
    "slideshow": {
     "slide_type": "skip"
    }
   },
   "source": [
    "We can divide the original score by the word count to produce `afinn_adjusted`. This isn't exactly a percentage variable, since word scores in Afinn can range from -5 to 5, but it is a useful adjustment to control for variable comment length. To make it clearer that this isn't a percent score, and to make the results more readable, the adjustment is multiplied by 100."
   ]
  },
  {
   "cell_type": "code",
   "execution_count": 22,
   "metadata": {
    "slideshow": {
     "slide_type": "slide"
    }
   },
   "outputs": [],
   "source": [
    "nyt_df['afinn_adjusted'] = nyt_df['afinn_score'] / nyt_df['word_count'] * 100"
   ]
  },
  {
   "cell_type": "code",
   "execution_count": 23,
   "metadata": {
    "slideshow": {
     "slide_type": "slide"
    }
   },
   "outputs": [
    {
     "data": {
      "text/plain": [
       "count    10000.000000\n",
       "mean         0.216934\n",
       "std         14.222974\n",
       "min       -100.000000\n",
       "25%         -6.000000\n",
       "50%          0.000000\n",
       "75%          5.882353\n",
       "max        266.666667\n",
       "Name: afinn_adjusted, dtype: float64"
      ]
     },
     "execution_count": 23,
     "metadata": {},
     "output_type": "execute_result"
    }
   ],
   "source": [
    "nyt_df['afinn_adjusted'].describe()"
   ]
  },
  {
   "cell_type": "markdown",
   "metadata": {
    "slideshow": {
     "slide_type": "slide"
    }
   },
   "source": [
    "You can use `groupby` to see how the sentiment score varies by key characteristics, such as whether or not a New York Times editor highlighted the comment."
   ]
  },
  {
   "cell_type": "code",
   "execution_count": 24,
   "metadata": {
    "slideshow": {
     "slide_type": "slide"
    }
   },
   "outputs": [
    {
     "data": {
      "text/html": [
       "<div>\n",
       "<style scoped>\n",
       "    .dataframe tbody tr th:only-of-type {\n",
       "        vertical-align: middle;\n",
       "    }\n",
       "\n",
       "    .dataframe tbody tr th {\n",
       "        vertical-align: top;\n",
       "    }\n",
       "\n",
       "    .dataframe thead th {\n",
       "        text-align: right;\n",
       "    }\n",
       "</style>\n",
       "<table border=\"1\" class=\"dataframe\">\n",
       "  <thead>\n",
       "    <tr style=\"text-align: right;\">\n",
       "      <th></th>\n",
       "      <th>count</th>\n",
       "      <th>mean</th>\n",
       "      <th>std</th>\n",
       "      <th>min</th>\n",
       "      <th>25%</th>\n",
       "      <th>50%</th>\n",
       "      <th>75%</th>\n",
       "      <th>max</th>\n",
       "    </tr>\n",
       "    <tr>\n",
       "      <th>editorsSelection</th>\n",
       "      <th></th>\n",
       "      <th></th>\n",
       "      <th></th>\n",
       "      <th></th>\n",
       "      <th></th>\n",
       "      <th></th>\n",
       "      <th></th>\n",
       "      <th></th>\n",
       "    </tr>\n",
       "  </thead>\n",
       "  <tbody>\n",
       "    <tr>\n",
       "      <th>False</th>\n",
       "      <td>9783.0</td>\n",
       "      <td>0.245986</td>\n",
       "      <td>14.302260</td>\n",
       "      <td>-100.000000</td>\n",
       "      <td>-6.000000</td>\n",
       "      <td>0.0</td>\n",
       "      <td>5.882353</td>\n",
       "      <td>266.666667</td>\n",
       "    </tr>\n",
       "    <tr>\n",
       "      <th>True</th>\n",
       "      <td>217.0</td>\n",
       "      <td>-1.092828</td>\n",
       "      <td>9.952139</td>\n",
       "      <td>-61.904762</td>\n",
       "      <td>-5.504587</td>\n",
       "      <td>0.0</td>\n",
       "      <td>3.875969</td>\n",
       "      <td>60.000000</td>\n",
       "    </tr>\n",
       "  </tbody>\n",
       "</table>\n",
       "</div>"
      ],
      "text/plain": [
       "                   count      mean        std         min       25%  50%  \\\n",
       "editorsSelection                                                           \n",
       "False             9783.0  0.245986  14.302260 -100.000000 -6.000000  0.0   \n",
       "True               217.0 -1.092828   9.952139  -61.904762 -5.504587  0.0   \n",
       "\n",
       "                       75%         max  \n",
       "editorsSelection                        \n",
       "False             5.882353  266.666667  \n",
       "True              3.875969   60.000000  "
      ]
     },
     "execution_count": 24,
     "metadata": {},
     "output_type": "execute_result"
    }
   ],
   "source": [
    "nyt_df.groupby('editorsSelection')['afinn_adjusted'].describe()"
   ]
  },
  {
   "cell_type": "markdown",
   "metadata": {
    "slideshow": {
     "slide_type": "skip"
    }
   },
   "source": [
    "The above syntax maybe a little complex to decipher.\n",
    "* `nyt_df` is the dataframe we want to use;\n",
    "* `.groupby('editorsSelection')` creates a pandas `groupby` object split by the values of `editorsSelection`;\n",
    "* `['afinn_adjusted']` is the specific column we want to focus on;\n",
    "* `.describe()` produces descriptive statistics for each of the groups.\n",
    "\n",
    "Overall, the findings suggest that editors select comments with more of a negative tone. \n",
    "\n",
    "Pandas can also be used to create the absolute value of a variable using the `abs` method. This is useful for exploring to what extent, in this case, editors embrace or avoid comments that are extreme, either positive or negative."
   ]
  },
  {
   "cell_type": "code",
   "execution_count": 25,
   "metadata": {
    "slideshow": {
     "slide_type": "slide"
    }
   },
   "outputs": [],
   "source": [
    "nyt_df['afinn_adjusted_abs'] = nyt_df['afinn_adjusted'].abs()"
   ]
  },
  {
   "cell_type": "code",
   "execution_count": 26,
   "metadata": {
    "slideshow": {
     "slide_type": "slide"
    }
   },
   "outputs": [
    {
     "data": {
      "text/html": [
       "<div>\n",
       "<style scoped>\n",
       "    .dataframe tbody tr th:only-of-type {\n",
       "        vertical-align: middle;\n",
       "    }\n",
       "\n",
       "    .dataframe tbody tr th {\n",
       "        vertical-align: top;\n",
       "    }\n",
       "\n",
       "    .dataframe thead th {\n",
       "        text-align: right;\n",
       "    }\n",
       "</style>\n",
       "<table border=\"1\" class=\"dataframe\">\n",
       "  <thead>\n",
       "    <tr style=\"text-align: right;\">\n",
       "      <th></th>\n",
       "      <th>count</th>\n",
       "      <th>mean</th>\n",
       "      <th>std</th>\n",
       "      <th>min</th>\n",
       "      <th>25%</th>\n",
       "      <th>50%</th>\n",
       "      <th>75%</th>\n",
       "      <th>max</th>\n",
       "    </tr>\n",
       "    <tr>\n",
       "      <th>editorsSelection</th>\n",
       "      <th></th>\n",
       "      <th></th>\n",
       "      <th></th>\n",
       "      <th></th>\n",
       "      <th></th>\n",
       "      <th></th>\n",
       "      <th></th>\n",
       "      <th></th>\n",
       "    </tr>\n",
       "  </thead>\n",
       "  <tbody>\n",
       "    <tr>\n",
       "      <th>False</th>\n",
       "      <td>9783.0</td>\n",
       "      <td>8.930247</td>\n",
       "      <td>11.173974</td>\n",
       "      <td>0.0</td>\n",
       "      <td>2.301499</td>\n",
       "      <td>5.960265</td>\n",
       "      <td>11.721444</td>\n",
       "      <td>266.666667</td>\n",
       "    </tr>\n",
       "    <tr>\n",
       "      <th>True</th>\n",
       "      <td>217.0</td>\n",
       "      <td>6.399846</td>\n",
       "      <td>7.687472</td>\n",
       "      <td>0.0</td>\n",
       "      <td>1.612903</td>\n",
       "      <td>4.562738</td>\n",
       "      <td>8.724832</td>\n",
       "      <td>61.904762</td>\n",
       "    </tr>\n",
       "  </tbody>\n",
       "</table>\n",
       "</div>"
      ],
      "text/plain": [
       "                   count      mean        std  min       25%       50%  \\\n",
       "editorsSelection                                                         \n",
       "False             9783.0  8.930247  11.173974  0.0  2.301499  5.960265   \n",
       "True               217.0  6.399846   7.687472  0.0  1.612903  4.562738   \n",
       "\n",
       "                        75%         max  \n",
       "editorsSelection                         \n",
       "False             11.721444  266.666667  \n",
       "True               8.724832   61.904762  "
      ]
     },
     "execution_count": 26,
     "metadata": {},
     "output_type": "execute_result"
    }
   ],
   "source": [
    "nyt_df.groupby('editorsSelection')['afinn_adjusted_abs'].describe()"
   ]
  },
  {
   "cell_type": "markdown",
   "metadata": {
    "slideshow": {
     "slide_type": "skip"
    }
   },
   "source": [
    "Here, there seems to be some evidence that editors are avoiding comments with extreme sentiment, as values are lower across the board for the editor's selections. "
   ]
  },
  {
   "cell_type": "markdown",
   "metadata": {
    "slideshow": {
     "slide_type": "slide"
    }
   },
   "source": [
    "<div class=\"alert alert-info\">\n",
    "<h3>Your turn</h3>\n",
    "<p>Group project. Make a histogram of the sentiment of Donald Trump's general election speeches.</div>\n",
    "\n"
   ]
  },
  {
   "cell_type": "markdown",
   "metadata": {
    "slideshow": {
     "slide_type": "slide"
    }
   },
   "source": [
    "#### Vader\n",
    "\n",
    "A second method for sentiment analysis is [vader](https://github.com/cjhutto/vaderSentiment)(Valence Aware Dictionary and sEntiment Reasoner). According to the authors, it is, \"a lexicon and rule-based sentiment analysis tool that is specifically attuned to sentiments expressed in social media.\" \n",
    "\n",
    "As with Afinn, Vader measures both the strength and direction of sentiment. Based on the work of 10 coders, the Vader dictionary includes approximately 7,500 words, emoticons, emojis, acronyms, and commonly used slang. \n",
    "\n",
    "Unlike Afinn, Vader scores an entire text, not just words. Looking at the whole text allows for the algorithm to adjust for negations, such as \"not\", booster words, such as \"remarkably\". It also scores words written in all caps as more intense. Vader returns the proportion of a text that is negative, positive, and neutral, along with a combined score. \n",
    "\n",
    "There is a version included with nltk (`from nltk.sentiment.vader import SentimentIntensityAnalyzer`) but a more recent version can be separately installed:\n",
    "\n",
    "\n",
    "```\n",
    "%pip install vaderSentiment\n",
    "```\n"
   ]
  },
  {
   "cell_type": "code",
   "execution_count": 30,
   "metadata": {
    "slideshow": {
     "slide_type": "slide"
    }
   },
   "outputs": [],
   "source": [
    "from vaderSentiment.vaderSentiment import SentimentIntensityAnalyzer"
   ]
  },
  {
   "cell_type": "markdown",
   "metadata": {
    "slideshow": {
     "slide_type": "skip"
    }
   },
   "source": [
    "Vader requires that you set up an analyzer."
   ]
  },
  {
   "cell_type": "code",
   "execution_count": 31,
   "metadata": {
    "slideshow": {
     "slide_type": "slide"
    }
   },
   "outputs": [],
   "source": [
    "analyzer = SentimentIntensityAnalyzer()"
   ]
  },
  {
   "cell_type": "markdown",
   "metadata": {
    "slideshow": {
     "slide_type": "slide"
    }
   },
   "source": [
    "The `polarity_scores` method returns a dictionary with four items. \n",
    "* `pos`, `neu`, and `neg`  are the proportions of text that fall in each category.\n",
    "* `compound` is the normalized, weighted composite score. "
   ]
  },
  {
   "cell_type": "code",
   "execution_count": 32,
   "metadata": {
    "slideshow": {
     "slide_type": "slide"
    }
   },
   "outputs": [
    {
     "data": {
      "text/plain": [
       "{'neg': 0.875, 'neu': 0.125, 'pos': 0.0, 'compound': -0.7906}"
      ]
     },
     "execution_count": 32,
     "metadata": {},
     "output_type": "execute_result"
    }
   ],
   "source": [
    "analyzer.polarity_scores('Horrible bad day.')"
   ]
  },
  {
   "cell_type": "markdown",
   "metadata": {
    "slideshow": {
     "slide_type": "skip"
    }
   },
   "source": [
    "One useful feature of Vader is that it is able to look at works in context and score appropriately. "
   ]
  },
  {
   "cell_type": "code",
   "execution_count": 33,
   "metadata": {
    "slideshow": {
     "slide_type": "slide"
    }
   },
   "outputs": [
    {
     "data": {
      "text/plain": [
       "{'neg': 0.0, 'neu': 0.637, 'pos': 0.363, 'compound': 0.431}"
      ]
     },
     "execution_count": 33,
     "metadata": {},
     "output_type": "execute_result"
    }
   ],
   "source": [
    "analyzer.polarity_scores(\"At least it isn't a horrible book.\")"
   ]
  },
  {
   "cell_type": "markdown",
   "metadata": {},
   "source": [
    "It also scores contemporary lingo and emojis."
   ]
  },
  {
   "cell_type": "code",
   "execution_count": 34,
   "metadata": {
    "slideshow": {
     "slide_type": "slide"
    }
   },
   "outputs": [
    {
     "data": {
      "text/plain": [
       "{'neg': 0.779, 'neu': 0.221, 'pos': 0.0, 'compound': -0.5461}"
      ]
     },
     "execution_count": 34,
     "metadata": {},
     "output_type": "execute_result"
    }
   ],
   "source": [
    "analyzer.polarity_scores('Today SUX!')"
   ]
  },
  {
   "cell_type": "code",
   "execution_count": 35,
   "metadata": {
    "slideshow": {
     "slide_type": "slide"
    }
   },
   "outputs": [
    {
     "data": {
      "text/plain": [
       "{'neg': 0.0, 'neu': 0.263, 'pos': 0.737, 'compound': 0.4215}"
      ]
     },
     "execution_count": 35,
     "metadata": {},
     "output_type": "execute_result"
    }
   ],
   "source": [
    "analyzer.polarity_scores('💋')"
   ]
  },
  {
   "cell_type": "markdown",
   "metadata": {},
   "source": [
    "<div class=\"alert alert-info\">\n",
    "<h3>Your turn</h3>\n",
    "<p>Rerun your positive and negative sentences from before. How do they score now?</div>\n",
    "\n",
    "\n",
    "\n"
   ]
  },
  {
   "cell_type": "markdown",
   "metadata": {},
   "source": [
    "Since Vader returns a dictionary (unlike Afinn which returns a single value), it is slightly more complicated to use it on an entire pandas dataframe.\n",
    "\n",
    "First, apply the analyzer on the text column. "
   ]
  },
  {
   "cell_type": "code",
   "execution_count": 36,
   "metadata": {
    "slideshow": {
     "slide_type": "slide"
    }
   },
   "outputs": [],
   "source": [
    "sentiment = nyt_df['commentBody'].apply(analyzer.polarity_scores)"
   ]
  },
  {
   "cell_type": "markdown",
   "metadata": {},
   "source": [
    "Our new object `sentiment` is a series, where each item is a dictionary. This series can be unpacked into a dataframe."
   ]
  },
  {
   "cell_type": "code",
   "execution_count": 37,
   "metadata": {
    "slideshow": {
     "slide_type": "slide"
    }
   },
   "outputs": [
    {
     "data": {
      "text/plain": [
       "0         {'neg': 0.576, 'neu': 0.424, 'pos': 0.0, 'compound': -0.7783}\n",
       "1            {'neg': 0.0, 'neu': 0.85, 'pos': 0.15, 'compound': 0.3182}\n",
       "2                 {'neg': 0.0, 'neu': 1.0, 'pos': 0.0, 'compound': 0.0}\n",
       "3       {'neg': 0.069, 'neu': 0.876, 'pos': 0.055, 'compound': -0.5499}\n",
       "4        {'neg': 0.033, 'neu': 0.836, 'pos': 0.131, 'compound': 0.9107}\n",
       "5        {'neg': 0.099, 'neu': 0.644, 'pos': 0.258, 'compound': 0.7101}\n",
       "6       {'neg': 0.104, 'neu': 0.848, 'pos': 0.047, 'compound': -0.8334}\n",
       "7        {'neg': 0.065, 'neu': 0.794, 'pos': 0.141, 'compound': 0.9588}\n",
       "8       {'neg': 0.165, 'neu': 0.703, 'pos': 0.132, 'compound': -0.6283}\n",
       "9                 {'neg': 0.0, 'neu': 1.0, 'pos': 0.0, 'compound': 0.0}\n",
       "10         {'neg': 0.048, 'neu': 0.883, 'pos': 0.069, 'compound': 0.25}\n",
       "11         {'neg': 0.0, 'neu': 0.785, 'pos': 0.215, 'compound': 0.9325}\n",
       "12       {'neg': 0.014, 'neu': 0.877, 'pos': 0.108, 'compound': 0.8622}\n",
       "13      {'neg': 0.064, 'neu': 0.897, 'pos': 0.039, 'compound': -0.3612}\n",
       "14      {'neg': 0.358, 'neu': 0.537, 'pos': 0.105, 'compound': -0.9868}\n",
       "15       {'neg': 0.063, 'neu': 0.795, 'pos': 0.142, 'compound': 0.5927}\n",
       "16         {'neg': 0.0, 'neu': 0.863, 'pos': 0.137, 'compound': 0.5859}\n",
       "17        {'neg': 0.149, 'neu': 0.851, 'pos': 0.0, 'compound': -0.8588}\n",
       "18      {'neg': 0.065, 'neu': 0.872, 'pos': 0.064, 'compound': -0.0276}\n",
       "19       {'neg': 0.036, 'neu': 0.802, 'pos': 0.162, 'compound': 0.8225}\n",
       "20         {'neg': 0.0, 'neu': 0.915, 'pos': 0.085, 'compound': 0.5106}\n",
       "21        {'neg': 0.305, 'neu': 0.695, 'pos': 0.0, 'compound': -0.4728}\n",
       "22                {'neg': 0.0, 'neu': 1.0, 'pos': 0.0, 'compound': 0.0}\n",
       "23      {'neg': 0.182, 'neu': 0.751, 'pos': 0.066, 'compound': -0.9698}\n",
       "24      {'neg': 0.092, 'neu': 0.861, 'pos': 0.047, 'compound': -0.8325}\n",
       "25        {'neg': 0.09, 'neu': 0.815, 'pos': 0.095, 'compound': 0.2846}\n",
       "26         {'neg': 0.0, 'neu': 0.688, 'pos': 0.312, 'compound': 0.8563}\n",
       "27      {'neg': 0.105, 'neu': 0.843, 'pos': 0.052, 'compound': -0.4774}\n",
       "28      {'neg': 0.318, 'neu': 0.609, 'pos': 0.073, 'compound': -0.8156}\n",
       "29        {'neg': 0.169, 'neu': 0.831, 'pos': 0.0, 'compound': -0.8738}\n",
       "                                     ...                               \n",
       "9970       {'neg': 0.087, 'neu': 0.913, 'pos': 0.0, 'compound': -0.296}\n",
       "9971         {'neg': 0.0, 'neu': 0.94, 'pos': 0.06, 'compound': 0.7724}\n",
       "9972    {'neg': 0.105, 'neu': 0.881, 'pos': 0.013, 'compound': -0.8487}\n",
       "9973       {'neg': 0.07, 'neu': 0.866, 'pos': 0.064, 'compound': 0.523}\n",
       "9974        {'neg': 0.04, 'neu': 0.85, 'pos': 0.11, 'compound': 0.8061}\n",
       "9975       {'neg': 0.0, 'neu': 0.865, 'pos': 0.135, 'compound': 0.9269}\n",
       "9976     {'neg': 0.086, 'neu': 0.807, 'pos': 0.107, 'compound': 0.5994}\n",
       "9977    {'neg': 0.199, 'neu': 0.758, 'pos': 0.044, 'compound': -0.9546}\n",
       "9978    {'neg': 0.138, 'neu': 0.785, 'pos': 0.077, 'compound': -0.8014}\n",
       "9979       {'neg': 0.0, 'neu': 0.746, 'pos': 0.254, 'compound': 0.8176}\n",
       "9980       {'neg': 0.081, 'neu': 0.919, 'pos': 0.0, 'compound': -0.296}\n",
       "9981    {'neg': 0.332, 'neu': 0.617, 'pos': 0.051, 'compound': -0.9986}\n",
       "9982    {'neg': 0.175, 'neu': 0.793, 'pos': 0.031, 'compound': -0.9481}\n",
       "9983    {'neg': 0.072, 'neu': 0.892, 'pos': 0.036, 'compound': -0.6486}\n",
       "9984     {'neg': 0.142, 'neu': 0.79, 'pos': 0.068, 'compound': -0.4003}\n",
       "9985      {'neg': 0.169, 'neu': 0.831, 'pos': 0.0, 'compound': -0.9313}\n",
       "9986       {'neg': 0.0, 'neu': 0.872, 'pos': 0.128, 'compound': 0.3612}\n",
       "9987              {'neg': 0.0, 'neu': 1.0, 'pos': 0.0, 'compound': 0.0}\n",
       "9988    {'neg': 0.195, 'neu': 0.754, 'pos': 0.051, 'compound': -0.9602}\n",
       "9989     {'neg': 0.14, 'neu': 0.768, 'pos': 0.093, 'compound': -0.0865}\n",
       "9990    {'neg': 0.114, 'neu': 0.794, 'pos': 0.092, 'compound': -0.8523}\n",
       "9991    {'neg': 0.123, 'neu': 0.804, 'pos': 0.072, 'compound': -0.7399}\n",
       "9992      {'neg': 0.301, 'neu': 0.699, 'pos': 0.0, 'compound': -0.9153}\n",
       "9993              {'neg': 0.0, 'neu': 1.0, 'pos': 0.0, 'compound': 0.0}\n",
       "9994     {'neg': 0.058, 'neu': 0.823, 'pos': 0.119, 'compound': 0.9136}\n",
       "9995    {'neg': 0.297, 'neu': 0.568, 'pos': 0.135, 'compound': -0.5719}\n",
       "9996       {'neg': 0.128, 'neu': 0.832, 'pos': 0.04, 'compound': -0.69}\n",
       "9997    {'neg': 0.123, 'neu': 0.765, 'pos': 0.112, 'compound': -0.2846}\n",
       "9998      {'neg': 0.336, 'neu': 0.664, 'pos': 0.0, 'compound': -0.6763}\n",
       "9999       {'neg': 0.0, 'neu': 0.809, 'pos': 0.191, 'compound': 0.8591}\n",
       "Name: commentBody, Length: 10000, dtype: object"
      ]
     },
     "execution_count": 37,
     "metadata": {},
     "output_type": "execute_result"
    }
   ],
   "source": [
    "sentiment"
   ]
  },
  {
   "cell_type": "code",
   "execution_count": 38,
   "metadata": {
    "slideshow": {
     "slide_type": "slide"
    }
   },
   "outputs": [
    {
     "data": {
      "text/html": [
       "<div>\n",
       "<style scoped>\n",
       "    .dataframe tbody tr th:only-of-type {\n",
       "        vertical-align: middle;\n",
       "    }\n",
       "\n",
       "    .dataframe tbody tr th {\n",
       "        vertical-align: top;\n",
       "    }\n",
       "\n",
       "    .dataframe thead th {\n",
       "        text-align: right;\n",
       "    }\n",
       "</style>\n",
       "<table border=\"1\" class=\"dataframe\">\n",
       "  <thead>\n",
       "    <tr style=\"text-align: right;\">\n",
       "      <th></th>\n",
       "      <th>compound</th>\n",
       "      <th>neg</th>\n",
       "      <th>neu</th>\n",
       "      <th>pos</th>\n",
       "    </tr>\n",
       "  </thead>\n",
       "  <tbody>\n",
       "    <tr>\n",
       "      <th>0</th>\n",
       "      <td>-0.7783</td>\n",
       "      <td>0.576</td>\n",
       "      <td>0.424</td>\n",
       "      <td>0.000</td>\n",
       "    </tr>\n",
       "    <tr>\n",
       "      <th>1</th>\n",
       "      <td>0.3182</td>\n",
       "      <td>0.000</td>\n",
       "      <td>0.850</td>\n",
       "      <td>0.150</td>\n",
       "    </tr>\n",
       "    <tr>\n",
       "      <th>2</th>\n",
       "      <td>0.0000</td>\n",
       "      <td>0.000</td>\n",
       "      <td>1.000</td>\n",
       "      <td>0.000</td>\n",
       "    </tr>\n",
       "    <tr>\n",
       "      <th>3</th>\n",
       "      <td>-0.5499</td>\n",
       "      <td>0.069</td>\n",
       "      <td>0.876</td>\n",
       "      <td>0.055</td>\n",
       "    </tr>\n",
       "    <tr>\n",
       "      <th>4</th>\n",
       "      <td>0.9107</td>\n",
       "      <td>0.033</td>\n",
       "      <td>0.836</td>\n",
       "      <td>0.131</td>\n",
       "    </tr>\n",
       "  </tbody>\n",
       "</table>\n",
       "</div>"
      ],
      "text/plain": [
       "   compound    neg    neu    pos\n",
       "0   -0.7783  0.576  0.424  0.000\n",
       "1    0.3182  0.000  0.850  0.150\n",
       "2    0.0000  0.000  1.000  0.000\n",
       "3   -0.5499  0.069  0.876  0.055\n",
       "4    0.9107  0.033  0.836  0.131"
      ]
     },
     "execution_count": 38,
     "metadata": {},
     "output_type": "execute_result"
    }
   ],
   "source": [
    "sentiment_df = pd.DataFrame(sentiment.tolist())\n",
    "\n",
    "sentiment_df.head()"
   ]
  },
  {
   "cell_type": "markdown",
   "metadata": {
    "slideshow": {
     "slide_type": "slide"
    }
   },
   "source": [
    "The new sentiment dataframe can be merged with the original dataframe."
   ]
  },
  {
   "cell_type": "code",
   "execution_count": 39,
   "metadata": {
    "slideshow": {
     "slide_type": "fragment"
    }
   },
   "outputs": [],
   "source": [
    "nyt_df_sentiment = pd.concat([nyt_df,sentiment_df], axis = 1)"
   ]
  },
  {
   "cell_type": "code",
   "execution_count": 40,
   "metadata": {
    "slideshow": {
     "slide_type": "slide"
    }
   },
   "outputs": [
    {
     "data": {
      "text/html": [
       "<div>\n",
       "<style scoped>\n",
       "    .dataframe tbody tr th:only-of-type {\n",
       "        vertical-align: middle;\n",
       "    }\n",
       "\n",
       "    .dataframe tbody tr th {\n",
       "        vertical-align: top;\n",
       "    }\n",
       "\n",
       "    .dataframe thead th {\n",
       "        text-align: right;\n",
       "    }\n",
       "</style>\n",
       "<table border=\"1\" class=\"dataframe\">\n",
       "  <thead>\n",
       "    <tr style=\"text-align: right;\">\n",
       "      <th></th>\n",
       "      <th>articleID</th>\n",
       "      <th>commentBody</th>\n",
       "      <th>commentID</th>\n",
       "      <th>commentType</th>\n",
       "      <th>createDate</th>\n",
       "      <th>editorsSelection</th>\n",
       "      <th>recommendations</th>\n",
       "      <th>replyCount</th>\n",
       "      <th>sectionName</th>\n",
       "      <th>userDisplayName</th>\n",
       "      <th>userID</th>\n",
       "      <th>userLocation</th>\n",
       "      <th>afinn_score</th>\n",
       "      <th>word_count</th>\n",
       "      <th>afinn_adjusted</th>\n",
       "      <th>afinn_adjusted_abs</th>\n",
       "      <th>compound</th>\n",
       "      <th>neg</th>\n",
       "      <th>neu</th>\n",
       "      <th>pos</th>\n",
       "    </tr>\n",
       "  </thead>\n",
       "  <tbody>\n",
       "    <tr>\n",
       "      <th>0</th>\n",
       "      <td>58ef8bfc7c459f24986da097</td>\n",
       "      <td>Tragedies abound in war, precision munitions notwithstanding....</td>\n",
       "      <td>22148699</td>\n",
       "      <td>comment</td>\n",
       "      <td>1492123756</td>\n",
       "      <td>False</td>\n",
       "      <td>1</td>\n",
       "      <td>0</td>\n",
       "      <td>Middle East</td>\n",
       "      <td>Bill Owens</td>\n",
       "      <td>66371869</td>\n",
       "      <td>Essex</td>\n",
       "      <td>-4.0</td>\n",
       "      <td>7</td>\n",
       "      <td>-57.142857</td>\n",
       "      <td>57.142857</td>\n",
       "      <td>-0.7783</td>\n",
       "      <td>0.576</td>\n",
       "      <td>0.424</td>\n",
       "      <td>0.000</td>\n",
       "    </tr>\n",
       "    <tr>\n",
       "      <th>1</th>\n",
       "      <td>58e5a1507c459f24986d8a56</td>\n",
       "      <td>\"...but then again, please get off my lawn\" made me spit out my coffee.</td>\n",
       "      <td>22053980</td>\n",
       "      <td>comment</td>\n",
       "      <td>1491481436</td>\n",
       "      <td>False</td>\n",
       "      <td>6</td>\n",
       "      <td>0</td>\n",
       "      <td>Unknown</td>\n",
       "      <td>Mike P</td>\n",
       "      <td>56758055</td>\n",
       "      <td>Long Island</td>\n",
       "      <td>1.0</td>\n",
       "      <td>14</td>\n",
       "      <td>7.142857</td>\n",
       "      <td>7.142857</td>\n",
       "      <td>0.3182</td>\n",
       "      <td>0.000</td>\n",
       "      <td>0.850</td>\n",
       "      <td>0.150</td>\n",
       "    </tr>\n",
       "    <tr>\n",
       "      <th>2</th>\n",
       "      <td>58ff102d7c459f24986dbe81</td>\n",
       "      <td>Just another flim-flam plan to shuffle more money to the one percent.</td>\n",
       "      <td>22263548</td>\n",
       "      <td>comment</td>\n",
       "      <td>1493128804</td>\n",
       "      <td>False</td>\n",
       "      <td>13</td>\n",
       "      <td>1</td>\n",
       "      <td>Politics</td>\n",
       "      <td>giniajim</td>\n",
       "      <td>1651431</td>\n",
       "      <td>VA</td>\n",
       "      <td>0.0</td>\n",
       "      <td>12</td>\n",
       "      <td>0.000000</td>\n",
       "      <td>0.000000</td>\n",
       "      <td>0.0000</td>\n",
       "      <td>0.000</td>\n",
       "      <td>1.000</td>\n",
       "      <td>0.000</td>\n",
       "    </tr>\n",
       "    <tr>\n",
       "      <th>3</th>\n",
       "      <td>58ec83fb7c459f24986d98cd</td>\n",
       "      <td>What do you mean, nice try?  Moynihan Station is an ongoing project I'm asking the Times to repo...</td>\n",
       "      <td>22113999</td>\n",
       "      <td>userReply</td>\n",
       "      <td>1491924651</td>\n",
       "      <td>False</td>\n",
       "      <td>1</td>\n",
       "      <td>0</td>\n",
       "      <td>Unknown</td>\n",
       "      <td>Guy Walker</td>\n",
       "      <td>55823171</td>\n",
       "      <td>New York City</td>\n",
       "      <td>4.0</td>\n",
       "      <td>104</td>\n",
       "      <td>3.846154</td>\n",
       "      <td>3.846154</td>\n",
       "      <td>-0.5499</td>\n",
       "      <td>0.069</td>\n",
       "      <td>0.876</td>\n",
       "      <td>0.055</td>\n",
       "    </tr>\n",
       "    <tr>\n",
       "      <th>4</th>\n",
       "      <td>58fcbc357c459f24986db9d0</td>\n",
       "      <td>Where I live, in a city where cabs are plentiful, growth has clearly compromised the experience ...</td>\n",
       "      <td>22247141</td>\n",
       "      <td>comment</td>\n",
       "      <td>1492971817</td>\n",
       "      <td>True</td>\n",
       "      <td>124</td>\n",
       "      <td>6</td>\n",
       "      <td>Unknown</td>\n",
       "      <td>plphillips</td>\n",
       "      <td>18764882</td>\n",
       "      <td>Washington DC</td>\n",
       "      <td>8.0</td>\n",
       "      <td>120</td>\n",
       "      <td>6.666667</td>\n",
       "      <td>6.666667</td>\n",
       "      <td>0.9107</td>\n",
       "      <td>0.033</td>\n",
       "      <td>0.836</td>\n",
       "      <td>0.131</td>\n",
       "    </tr>\n",
       "  </tbody>\n",
       "</table>\n",
       "</div>"
      ],
      "text/plain": [
       "                  articleID  \\\n",
       "0  58ef8bfc7c459f24986da097   \n",
       "1  58e5a1507c459f24986d8a56   \n",
       "2  58ff102d7c459f24986dbe81   \n",
       "3  58ec83fb7c459f24986d98cd   \n",
       "4  58fcbc357c459f24986db9d0   \n",
       "\n",
       "                                                                                           commentBody  \\\n",
       "0                                     Tragedies abound in war, precision munitions notwithstanding....   \n",
       "1                              \"...but then again, please get off my lawn\" made me spit out my coffee.   \n",
       "2                              Just another flim-flam plan to shuffle more money to the one percent.     \n",
       "3  What do you mean, nice try?  Moynihan Station is an ongoing project I'm asking the Times to repo...   \n",
       "4  Where I live, in a city where cabs are plentiful, growth has clearly compromised the experience ...   \n",
       "\n",
       "   commentID commentType  createDate  editorsSelection  recommendations  \\\n",
       "0   22148699     comment  1492123756             False                1   \n",
       "1   22053980     comment  1491481436             False                6   \n",
       "2   22263548     comment  1493128804             False               13   \n",
       "3   22113999   userReply  1491924651             False                1   \n",
       "4   22247141     comment  1492971817              True              124   \n",
       "\n",
       "   replyCount  sectionName userDisplayName    userID   userLocation  \\\n",
       "0           0  Middle East      Bill Owens  66371869          Essex   \n",
       "1           0      Unknown          Mike P  56758055    Long Island   \n",
       "2           1     Politics        giniajim   1651431             VA   \n",
       "3           0      Unknown      Guy Walker  55823171  New York City   \n",
       "4           6      Unknown      plphillips  18764882  Washington DC   \n",
       "\n",
       "   afinn_score  word_count  afinn_adjusted  afinn_adjusted_abs  compound  \\\n",
       "0         -4.0           7      -57.142857           57.142857   -0.7783   \n",
       "1          1.0          14        7.142857            7.142857    0.3182   \n",
       "2          0.0          12        0.000000            0.000000    0.0000   \n",
       "3          4.0         104        3.846154            3.846154   -0.5499   \n",
       "4          8.0         120        6.666667            6.666667    0.9107   \n",
       "\n",
       "     neg    neu    pos  \n",
       "0  0.576  0.424  0.000  \n",
       "1  0.000  0.850  0.150  \n",
       "2  0.000  1.000  0.000  \n",
       "3  0.069  0.876  0.055  \n",
       "4  0.033  0.836  0.131  "
      ]
     },
     "execution_count": 40,
     "metadata": {},
     "output_type": "execute_result"
    }
   ],
   "source": [
    "nyt_df_sentiment.head()"
   ]
  },
  {
   "cell_type": "markdown",
   "metadata": {},
   "source": [
    "If you intend to do this more than once, it can be useful to wrap the entire process into a single function that takes a dataframe and returns the datframe with the polarity columns appended. To clarify where the sentiment information comes from, the prefix `vader_` is added to each of the polarity scores."
   ]
  },
  {
   "cell_type": "code",
   "execution_count": 41,
   "metadata": {
    "slideshow": {
     "slide_type": "slide"
    }
   },
   "outputs": [],
   "source": [
    "def vaderize(df, textfield):\n",
    "    '''Compute the Vader polarity scores for a textfield. \n",
    "    Returns scores and original dataframe.'''\n",
    "\n",
    "    analyzer = SentimentIntensityAnalyzer()\n",
    "\n",
    "    print('Estimating polarity scores for %d cases.' % len(df))\n",
    "    sentiment = df[textfield].apply(analyzer.polarity_scores)\n",
    "\n",
    "    # convert to dataframe\n",
    "    sdf = pd.DataFrame(sentiment.tolist()).add_prefix('vader_')\n",
    "\n",
    "    # merge dataframes\n",
    "    df_combined = pd.concat([df, sdf], axis=1)\n",
    "    return df_combined"
   ]
  },
  {
   "cell_type": "code",
   "execution_count": 35,
   "metadata": {},
   "outputs": [
    {
     "name": "stdout",
     "output_type": "stream",
     "text": [
      "Estimating polarity scores for 10000 cases.\n"
     ]
    }
   ],
   "source": [
    "df_vaderized = vaderize(nyt_df, 'commentBody')"
   ]
  },
  {
   "cell_type": "code",
   "execution_count": 36,
   "metadata": {},
   "outputs": [
    {
     "data": {
      "text/html": [
       "<div>\n",
       "<style scoped>\n",
       "    .dataframe tbody tr th:only-of-type {\n",
       "        vertical-align: middle;\n",
       "    }\n",
       "\n",
       "    .dataframe tbody tr th {\n",
       "        vertical-align: top;\n",
       "    }\n",
       "\n",
       "    .dataframe thead th {\n",
       "        text-align: right;\n",
       "    }\n",
       "</style>\n",
       "<table border=\"1\" class=\"dataframe\">\n",
       "  <thead>\n",
       "    <tr style=\"text-align: right;\">\n",
       "      <th></th>\n",
       "      <th>articleID</th>\n",
       "      <th>commentBody</th>\n",
       "      <th>commentID</th>\n",
       "      <th>commentType</th>\n",
       "      <th>createDate</th>\n",
       "      <th>editorsSelection</th>\n",
       "      <th>recommendations</th>\n",
       "      <th>replyCount</th>\n",
       "      <th>sectionName</th>\n",
       "      <th>userDisplayName</th>\n",
       "      <th>userID</th>\n",
       "      <th>userLocation</th>\n",
       "      <th>afinn_score</th>\n",
       "      <th>word_count</th>\n",
       "      <th>afinn_adjusted</th>\n",
       "      <th>afinn_adjusted_abs</th>\n",
       "      <th>vader_compound</th>\n",
       "      <th>vader_neg</th>\n",
       "      <th>vader_neu</th>\n",
       "      <th>vader_pos</th>\n",
       "    </tr>\n",
       "  </thead>\n",
       "  <tbody>\n",
       "    <tr>\n",
       "      <th>0</th>\n",
       "      <td>58ef8bfc7c459f24986da097</td>\n",
       "      <td>Tragedies abound in war, precision munitions n...</td>\n",
       "      <td>22148699</td>\n",
       "      <td>comment</td>\n",
       "      <td>1492123756</td>\n",
       "      <td>False</td>\n",
       "      <td>1</td>\n",
       "      <td>0</td>\n",
       "      <td>Middle East</td>\n",
       "      <td>Bill Owens</td>\n",
       "      <td>66371869</td>\n",
       "      <td>Essex</td>\n",
       "      <td>-4.0</td>\n",
       "      <td>7</td>\n",
       "      <td>-57.142857</td>\n",
       "      <td>57.142857</td>\n",
       "      <td>-0.7783</td>\n",
       "      <td>0.576</td>\n",
       "      <td>0.424</td>\n",
       "      <td>0.000</td>\n",
       "    </tr>\n",
       "    <tr>\n",
       "      <th>1</th>\n",
       "      <td>58e5a1507c459f24986d8a56</td>\n",
       "      <td>\"...but then again, please get off my lawn\" ma...</td>\n",
       "      <td>22053980</td>\n",
       "      <td>comment</td>\n",
       "      <td>1491481436</td>\n",
       "      <td>False</td>\n",
       "      <td>6</td>\n",
       "      <td>0</td>\n",
       "      <td>Unknown</td>\n",
       "      <td>Mike P</td>\n",
       "      <td>56758055</td>\n",
       "      <td>Long Island</td>\n",
       "      <td>1.0</td>\n",
       "      <td>14</td>\n",
       "      <td>7.142857</td>\n",
       "      <td>7.142857</td>\n",
       "      <td>0.3182</td>\n",
       "      <td>0.000</td>\n",
       "      <td>0.850</td>\n",
       "      <td>0.150</td>\n",
       "    </tr>\n",
       "    <tr>\n",
       "      <th>2</th>\n",
       "      <td>58ff102d7c459f24986dbe81</td>\n",
       "      <td>Just another flim-flam plan to shuffle mor...</td>\n",
       "      <td>22263548</td>\n",
       "      <td>comment</td>\n",
       "      <td>1493128804</td>\n",
       "      <td>False</td>\n",
       "      <td>13</td>\n",
       "      <td>1</td>\n",
       "      <td>Politics</td>\n",
       "      <td>giniajim</td>\n",
       "      <td>1651431</td>\n",
       "      <td>VA</td>\n",
       "      <td>0.0</td>\n",
       "      <td>12</td>\n",
       "      <td>0.000000</td>\n",
       "      <td>0.000000</td>\n",
       "      <td>0.0000</td>\n",
       "      <td>0.000</td>\n",
       "      <td>1.000</td>\n",
       "      <td>0.000</td>\n",
       "    </tr>\n",
       "    <tr>\n",
       "      <th>3</th>\n",
       "      <td>58ec83fb7c459f24986d98cd</td>\n",
       "      <td>What do you mean, nice try?  Moynihan Station ...</td>\n",
       "      <td>22113999</td>\n",
       "      <td>userReply</td>\n",
       "      <td>1491924651</td>\n",
       "      <td>False</td>\n",
       "      <td>1</td>\n",
       "      <td>0</td>\n",
       "      <td>Unknown</td>\n",
       "      <td>Guy Walker</td>\n",
       "      <td>55823171</td>\n",
       "      <td>New York City</td>\n",
       "      <td>4.0</td>\n",
       "      <td>104</td>\n",
       "      <td>3.846154</td>\n",
       "      <td>3.846154</td>\n",
       "      <td>-0.5499</td>\n",
       "      <td>0.069</td>\n",
       "      <td>0.876</td>\n",
       "      <td>0.055</td>\n",
       "    </tr>\n",
       "    <tr>\n",
       "      <th>4</th>\n",
       "      <td>58fcbc357c459f24986db9d0</td>\n",
       "      <td>Where I live, in a city where cabs are plentif...</td>\n",
       "      <td>22247141</td>\n",
       "      <td>comment</td>\n",
       "      <td>1492971817</td>\n",
       "      <td>True</td>\n",
       "      <td>124</td>\n",
       "      <td>6</td>\n",
       "      <td>Unknown</td>\n",
       "      <td>plphillips</td>\n",
       "      <td>18764882</td>\n",
       "      <td>Washington DC</td>\n",
       "      <td>8.0</td>\n",
       "      <td>120</td>\n",
       "      <td>6.666667</td>\n",
       "      <td>6.666667</td>\n",
       "      <td>0.9107</td>\n",
       "      <td>0.033</td>\n",
       "      <td>0.836</td>\n",
       "      <td>0.131</td>\n",
       "    </tr>\n",
       "  </tbody>\n",
       "</table>\n",
       "</div>"
      ],
      "text/plain": [
       "                  articleID  \\\n",
       "0  58ef8bfc7c459f24986da097   \n",
       "1  58e5a1507c459f24986d8a56   \n",
       "2  58ff102d7c459f24986dbe81   \n",
       "3  58ec83fb7c459f24986d98cd   \n",
       "4  58fcbc357c459f24986db9d0   \n",
       "\n",
       "                                         commentBody  commentID commentType  \\\n",
       "0  Tragedies abound in war, precision munitions n...   22148699     comment   \n",
       "1  \"...but then again, please get off my lawn\" ma...   22053980     comment   \n",
       "2      Just another flim-flam plan to shuffle mor...   22263548     comment   \n",
       "3  What do you mean, nice try?  Moynihan Station ...   22113999   userReply   \n",
       "4  Where I live, in a city where cabs are plentif...   22247141     comment   \n",
       "\n",
       "   createDate  editorsSelection  recommendations  replyCount  sectionName  \\\n",
       "0  1492123756             False                1           0  Middle East   \n",
       "1  1491481436             False                6           0      Unknown   \n",
       "2  1493128804             False               13           1     Politics   \n",
       "3  1491924651             False                1           0      Unknown   \n",
       "4  1492971817              True              124           6      Unknown   \n",
       "\n",
       "  userDisplayName    userID   userLocation  afinn_score  word_count  \\\n",
       "0      Bill Owens  66371869          Essex         -4.0           7   \n",
       "1          Mike P  56758055    Long Island          1.0          14   \n",
       "2        giniajim   1651431             VA          0.0          12   \n",
       "3      Guy Walker  55823171  New York City          4.0         104   \n",
       "4      plphillips  18764882  Washington DC          8.0         120   \n",
       "\n",
       "   afinn_adjusted  afinn_adjusted_abs  vader_compound  vader_neg  vader_neu  \\\n",
       "0      -57.142857           57.142857         -0.7783      0.576      0.424   \n",
       "1        7.142857            7.142857          0.3182      0.000      0.850   \n",
       "2        0.000000            0.000000          0.0000      0.000      1.000   \n",
       "3        3.846154            3.846154         -0.5499      0.069      0.876   \n",
       "4        6.666667            6.666667          0.9107      0.033      0.836   \n",
       "\n",
       "   vader_pos  \n",
       "0      0.000  \n",
       "1      0.150  \n",
       "2      0.000  \n",
       "3      0.055  \n",
       "4      0.131  "
      ]
     },
     "execution_count": 36,
     "metadata": {},
     "output_type": "execute_result"
    }
   ],
   "source": [
    "df_vaderized.head()"
   ]
  },
  {
   "cell_type": "markdown",
   "metadata": {
    "slideshow": {
     "slide_type": "skip"
    }
   },
   "source": [
    "The distribution of the combined variable shows peaks at the extremes and zero."
   ]
  },
  {
   "cell_type": "code",
   "execution_count": 37,
   "metadata": {
    "slideshow": {
     "slide_type": "slide"
    }
   },
   "outputs": [
    {
     "data": {
      "text/plain": [
       "<matplotlib.axes._subplots.AxesSubplot at 0x115c7abe0>"
      ]
     },
     "execution_count": 37,
     "metadata": {},
     "output_type": "execute_result"
    },
    {
     "data": {
      "image/png": "[encoded data removed]",
      "text/plain": [
       "<Figure size 432x288 with 1 Axes>"
      ]
     },
     "metadata": {},
     "output_type": "display_data"
    }
   ],
   "source": [
    "%matplotlib inline\n",
    "\n",
    "\n",
    "df_vaderized['vader_compound'].plot(kind='hist')\n",
    "\n"
   ]
  },
  {
   "cell_type": "markdown",
   "metadata": {},
   "source": [
    "Plotting the positive and negative scores shows that many comments have both attributes present."
   ]
  },
  {
   "cell_type": "code",
   "execution_count": 38,
   "metadata": {
    "slideshow": {
     "slide_type": "slide"
    }
   },
   "outputs": [
    {
     "data": {
      "text/plain": [
       "<matplotlib.axes._subplots.AxesSubplot at 0x1166bb160>"
      ]
     },
     "execution_count": 38,
     "metadata": {},
     "output_type": "execute_result"
    },
    {
     "data": {
      "image/png": "[encoded data removed]",
      "text/plain": [
       "<Figure size 432x288 with 1 Axes>"
      ]
     },
     "metadata": {},
     "output_type": "display_data"
    }
   ],
   "source": [
    "df_vaderized.plot.scatter(x='vader_pos', y = 'vader_neg')"
   ]
  },
  {
   "cell_type": "markdown",
   "metadata": {
    "slideshow": {
     "slide_type": "skip"
    }
   },
   "source": [
    "Finally, unlike the Afinn score analysis, there's no strong evidence that the New York Times' editor selection is associated with the Vader sentiment scores."
   ]
  },
  {
   "cell_type": "code",
   "execution_count": 39,
   "metadata": {
    "slideshow": {
     "slide_type": "slide"
    }
   },
   "outputs": [
    {
     "data": {
      "text/html": [
       "<div>\n",
       "<style scoped>\n",
       "    .dataframe tbody tr th:only-of-type {\n",
       "        vertical-align: middle;\n",
       "    }\n",
       "\n",
       "    .dataframe tbody tr th {\n",
       "        vertical-align: top;\n",
       "    }\n",
       "\n",
       "    .dataframe thead th {\n",
       "        text-align: right;\n",
       "    }\n",
       "</style>\n",
       "<table border=\"1\" class=\"dataframe\">\n",
       "  <thead>\n",
       "    <tr style=\"text-align: right;\">\n",
       "      <th></th>\n",
       "      <th>afinn_adjusted</th>\n",
       "      <th>vader_neg</th>\n",
       "      <th>vader_neu</th>\n",
       "      <th>vader_pos</th>\n",
       "    </tr>\n",
       "    <tr>\n",
       "      <th>editorsSelection</th>\n",
       "      <th></th>\n",
       "      <th></th>\n",
       "      <th></th>\n",
       "      <th></th>\n",
       "    </tr>\n",
       "  </thead>\n",
       "  <tbody>\n",
       "    <tr>\n",
       "      <th>False</th>\n",
       "      <td>0.245986</td>\n",
       "      <td>0.099534</td>\n",
       "      <td>0.789326</td>\n",
       "      <td>0.111140</td>\n",
       "    </tr>\n",
       "    <tr>\n",
       "      <th>True</th>\n",
       "      <td>-1.092828</td>\n",
       "      <td>0.099820</td>\n",
       "      <td>0.792991</td>\n",
       "      <td>0.107161</td>\n",
       "    </tr>\n",
       "  </tbody>\n",
       "</table>\n",
       "</div>"
      ],
      "text/plain": [
       "                  afinn_adjusted  vader_neg  vader_neu  vader_pos\n",
       "editorsSelection                                                 \n",
       "False                   0.245986   0.099534   0.789326   0.111140\n",
       "True                   -1.092828   0.099820   0.792991   0.107161"
      ]
     },
     "execution_count": 39,
     "metadata": {},
     "output_type": "execute_result"
    }
   ],
   "source": [
    "sentiment_variables = ['afinn_adjusted', 'vader_neg', 'vader_neu', 'vader_pos']\n",
    "\n",
    "df_vaderized.groupby('editorsSelection')[sentiment_variables].mean()"
   ]
  },
  {
   "cell_type": "markdown",
   "metadata": {
    "slideshow": {
     "slide_type": "slide"
    }
   },
   "source": [
    "#### Word List\n",
    "\n",
    "Occasionally, you will have a sentiment list from a different source that you would like to use. Or, more generally, you have a word list about any subject, not just attitudes, and you want to count their occurrences in texts, such as the use of words associated with politics or hypothesis testing. \n",
    "\n",
    "The final section of the lesson shows the steps for building a function that can analyze texts for the presence of words on any given list. In this case, the sample list will be words associated with men that were assembled by [Danielle Sucher](https://github.com/DanielleSucher/Jailbreak-the-Patriarchy). "
   ]
  },
  {
   "cell_type": "markdown",
   "metadata": {},
   "source": [
    "The list is stored as a csv file. Pandas can be used to read the word list and turn it into a Python list."
   ]
  },
  {
   "cell_type": "code",
   "execution_count": 40,
   "metadata": {},
   "outputs": [
    {
     "data": {
      "text/html": [
       "<div>\n",
       "<style scoped>\n",
       "    .dataframe tbody tr th:only-of-type {\n",
       "        vertical-align: middle;\n",
       "    }\n",
       "\n",
       "    .dataframe tbody tr th {\n",
       "        vertical-align: top;\n",
       "    }\n",
       "\n",
       "    .dataframe thead th {\n",
       "        text-align: right;\n",
       "    }\n",
       "</style>\n",
       "<table border=\"1\" class=\"dataframe\">\n",
       "  <thead>\n",
       "    <tr style=\"text-align: right;\">\n",
       "      <th></th>\n",
       "      <th>term</th>\n",
       "    </tr>\n",
       "  </thead>\n",
       "  <tbody>\n",
       "    <tr>\n",
       "      <th>18</th>\n",
       "      <td>uncle</td>\n",
       "    </tr>\n",
       "    <tr>\n",
       "      <th>36</th>\n",
       "      <td>sons</td>\n",
       "    </tr>\n",
       "    <tr>\n",
       "      <th>31</th>\n",
       "      <td>boy</td>\n",
       "    </tr>\n",
       "    <tr>\n",
       "      <th>19</th>\n",
       "      <td>him</td>\n",
       "    </tr>\n",
       "    <tr>\n",
       "      <th>9</th>\n",
       "      <td>waiter</td>\n",
       "    </tr>\n",
       "    <tr>\n",
       "      <th>32</th>\n",
       "      <td>boys</td>\n",
       "    </tr>\n",
       "    <tr>\n",
       "      <th>44</th>\n",
       "      <td>male</td>\n",
       "    </tr>\n",
       "    <tr>\n",
       "      <th>33</th>\n",
       "      <td>dude</td>\n",
       "    </tr>\n",
       "    <tr>\n",
       "      <th>24</th>\n",
       "      <td>son</td>\n",
       "    </tr>\n",
       "    <tr>\n",
       "      <th>26</th>\n",
       "      <td>boyfriends</td>\n",
       "    </tr>\n",
       "  </tbody>\n",
       "</table>\n",
       "</div>"
      ],
      "text/plain": [
       "          term\n",
       "18       uncle\n",
       "36        sons\n",
       "31         boy\n",
       "19         him\n",
       "9       waiter\n",
       "32        boys\n",
       "44        male\n",
       "33        dude\n",
       "24         son\n",
       "26  boyfriends"
      ]
     },
     "execution_count": 40,
     "metadata": {},
     "output_type": "execute_result"
    }
   ],
   "source": [
    "male_words_df = pd.read_csv('data/male_words.csv')\n",
    "male_words_df.sample(10)"
   ]
  },
  {
   "cell_type": "code",
   "execution_count": 41,
   "metadata": {},
   "outputs": [],
   "source": [
    "male_words_list = male_words_df['term'].values"
   ]
  },
  {
   "cell_type": "markdown",
   "metadata": {},
   "source": [
    "The function that looks for cooccurences has two parts. A preliminary helper function transforms the original text string into a list of lower case words stripping out any punctuation. "
   ]
  },
  {
   "cell_type": "code",
   "execution_count": 42,
   "metadata": {},
   "outputs": [],
   "source": [
    "def text_to_words(text):\n",
    "    '''Transform a string to a list of words,\n",
    "    removing all punctuation.'''\n",
    "    text = text.lower()\n",
    "\n",
    "    p = '!\"#$%&\\'()*+,-./:;<=>?@[\\\\]^_`{|}~'\n",
    "    text = ''.join([ch for ch in text if ch not in p])\n",
    "\n",
    "    return text.split()"
   ]
  },
  {
   "cell_type": "code",
   "execution_count": 43,
   "metadata": {},
   "outputs": [
    {
     "data": {
      "text/plain": [
       "['make', 'this', 'lower', 'case', 'and', 'remove', 'all', 'punctuation']"
      ]
     },
     "execution_count": 43,
     "metadata": {},
     "output_type": "execute_result"
    }
   ],
   "source": [
    "text_to_words('Make this lower case and remove! All? Punctuation.')"
   ]
  },
  {
   "cell_type": "markdown",
   "metadata": {},
   "source": [
    "The main function takes two arguments, the text and the word list. First, the text string is transformed to a list using `text_to_words`. Second, a new list `intersection` is created which contains only those elements from the text list that are in the word list. Finally, the function returns the length of the intersection. "
   ]
  },
  {
   "cell_type": "code",
   "execution_count": 44,
   "metadata": {},
   "outputs": [],
   "source": [
    "def count_occurences(text, word_list):\n",
    "    '''Count occurences of words from a list in a text string.'''\n",
    "    text_list = text_to_words(text)\n",
    "\n",
    "    intersection = [w for w in text_list if w in word_list]\n",
    "\n",
    "    return len(intersection)"
   ]
  },
  {
   "cell_type": "code",
   "execution_count": 45,
   "metadata": {},
   "outputs": [
    {
     "data": {
      "text/plain": [
       "1"
      ]
     },
     "execution_count": 45,
     "metadata": {},
     "output_type": "execute_result"
    }
   ],
   "source": [
    "count_occurences('He went to the store.', male_words_list)"
   ]
  },
  {
   "cell_type": "markdown",
   "metadata": {},
   "source": [
    "The function can now be applied on the Times dataframe to count ocurrences of male words in the comments. Since the function takes a second arguement, the word list, this is passed to the `apply` method as a tuple."
   ]
  },
  {
   "cell_type": "code",
   "execution_count": 46,
   "metadata": {},
   "outputs": [],
   "source": [
    "nyt_df['male_words'] = nyt_df['commentBody'].apply(count_occurences, \n",
    "                                                   args=(male_words_list, ))"
   ]
  },
  {
   "cell_type": "markdown",
   "metadata": {},
   "source": [
    "Most comments do not have words from our male list."
   ]
  },
  {
   "cell_type": "code",
   "execution_count": 47,
   "metadata": {
    "scrolled": true
   },
   "outputs": [
    {
     "data": {
      "text/plain": [
       "count    10000.000000\n",
       "mean         1.101600\n",
       "std          2.126812\n",
       "min          0.000000\n",
       "25%          0.000000\n",
       "50%          0.000000\n",
       "75%          1.000000\n",
       "max         19.000000\n",
       "Name: male_words, dtype: float64"
      ]
     },
     "execution_count": 47,
     "metadata": {},
     "output_type": "execute_result"
    }
   ],
   "source": [
    "nyt_df['male_words'].describe()"
   ]
  },
  {
   "cell_type": "markdown",
   "metadata": {},
   "source": [
    "Sorting the dataframe in descending order by the new variable reveals the comments with the highest number of male words. In order to view larger parts of the text field, I adjust the `max_colwidth` option in pandas."
   ]
  },
  {
   "cell_type": "code",
   "execution_count": 48,
   "metadata": {},
   "outputs": [
    {
     "data": {
      "text/html": [
       "<div>\n",
       "<style scoped>\n",
       "    .dataframe tbody tr th:only-of-type {\n",
       "        vertical-align: middle;\n",
       "    }\n",
       "\n",
       "    .dataframe tbody tr th {\n",
       "        vertical-align: top;\n",
       "    }\n",
       "\n",
       "    .dataframe thead th {\n",
       "        text-align: right;\n",
       "    }\n",
       "</style>\n",
       "<table border=\"1\" class=\"dataframe\">\n",
       "  <thead>\n",
       "    <tr style=\"text-align: right;\">\n",
       "      <th></th>\n",
       "      <th>commentBody</th>\n",
       "      <th>male_words</th>\n",
       "    </tr>\n",
       "  </thead>\n",
       "  <tbody>\n",
       "    <tr>\n",
       "      <th>8386</th>\n",
       "      <td>To interpret a change of words as a change of heart is a silly concept when considering what Trump says. He says, at any moment, what he sees will center attention on him and the result he wants is for people to like him. The point of saying uninformed inflammatory offhanded comments is to polarize a group large enough to feed his ego in 'support' of him. This is why he's attracted to the talking heads who garner big ratings and get rich by saying absurd things.\\nHe would turn on 'his people' in a heartbeat if a larger group would fawn on him for doing so.\\nThere is no policy other than his personal enrichment. Don't make the mistake of creating a reason on his motives than the one single principal, 'it's all about him'.\\nIf the large block of people who hate his guts would fawn over him the moment he does something acceptable and I do mean the \"moment\" he would learn to feed on it. With him it's not complicated. We need to think and act like we're training a dog. Reward good behav...</td>\n",
       "      <td>19</td>\n",
       "    </tr>\n",
       "    <tr>\n",
       "      <th>6242</th>\n",
       "      <td>Yesterday's chemical weapons attack in Syria and the recent subway bombing in St. Petersburg was a rude wake-up call for the president. After blithely announcing last year that he knew more about ISIS than the brass at the Pentagon and that he alone could fix the problems of the world, he now faces his first serious crisis and the global community will be watching closely to see how he responds. \\n\\nThe president brayed loudly to his red nation that he would bomb ISIS into submission, even at the expense of the non-combatant civilian population. It would be so easy, he said, to rid the world of terrorists who would cower and flee before American military might. Yesterday and last night, he didn't send out any tweets decrying the slaughter of civilians by Bashar al-Assad. His Twitter account was silent because now maybe he realizes that being president is more complicated than he thought it was. Idiotic and inane comments won't topple al-Assad's brutal regime.\\n\\nNo, this president ...</td>\n",
       "      <td>19</td>\n",
       "    </tr>\n",
       "    <tr>\n",
       "      <th>68</th>\n",
       "      <td>Nice try, Mr. Baker. Perhaps you wrote your stupefying article before Mr. Trump announced that he had invited the murdering thug Duterte of the Philippines to visit the White House. This is a man who has destroyed any vestige of due process or morality in his own country. So why does Trump honor him with a White House visti, during which I am sure he will gladly shake his hand? \\n\\nJust because Trump can occasionally read a speech that bears some resemblance to a normal presidential address and because once in a while he can be pulled back from the brink of disaster by the few rational heads around him does nothing to change who he is. I'm not going to repeat what everyone already knows about his character flaws, his intellectual weakness, and his appalling incuriousity and ignorance. But they are plain to see, and to celebrate his occasional lapses into sanity is only to underline how abnormal he is most of the time. So he now receives his intelligence briefings more often? We are...</td>\n",
       "      <td>19</td>\n",
       "    </tr>\n",
       "    <tr>\n",
       "      <th>2229</th>\n",
       "      <td>I hate Mitch McConnel's politics. I am not entirely sure that I do not hate him.\\nPower is something he has fought for and won with a focused singularity that takes ones breath away. Remember, he is the guy who said his sole focus was to make Barack Obama a one term President and he gave serious consideration to going after Ashley Judd for episodes of depression that she had experienced when she considered running against him. He is not inclusive, he does not advocate for the disadvantaged and he has not said one public word against the rampage of the Trump administration as it tears through the social safety net. His advocacy for coal was about corporations not individual miners. He has made bedfellows of the Christian Right and fiscal conservatives because they directly and indirectly to protect corporate interests.\\n\\nA conservative can capture in an empathetic way the best intentions of his\\nPolitical opponent and acknowledge their worth. Mr. McConnel has no such interest. For ...</td>\n",
       "      <td>19</td>\n",
       "    </tr>\n",
       "    <tr>\n",
       "      <th>1574</th>\n",
       "      <td>No one should have been surprised by Trump's character, or lack thereof. His narcissism and bombastic nonsense of always taking credit for the good things he really didn't do, and blaming others for the bad things he actually did, is pathetic. \\n\\nWhat was somewhat surprising is his stunning incompetence. He was elected with a populist message that Washington is broken and \"he alone could fix it.\" No argument on the Washington is broken part, and the country was more than ready to throw out the establishment and bring in a \"businessman\" to shake things up. \\n\\nWhat may have been missed was the assumption that Trump must have had SOME level of competence in order to build and grow his businesses. But, what was the reality? He was born on third base and thought he hit a triple. He never had a boss except his \"daddy.\" He never ran a public company, so he never had to report to a board that would keep him in check. And, of course, he's always surrounded himself with loyal sycophants wh...</td>\n",
       "      <td>19</td>\n",
       "    </tr>\n",
       "  </tbody>\n",
       "</table>\n",
       "</div>"
      ],
      "text/plain": [
       "                                                                                                                                                                                                                                                                                                                                                                                                                                                                                                                                                                                                                                                                                                                                                                                                                                                                                                                                                                                                                                  commentBody  \\\n",
       "8386  To interpret a change of words as a change of heart is a silly concept when considering what Trump says. He says, at any moment, what he sees will center attention on him and the result he wants is for people to like him. The point of saying uninformed inflammatory offhanded comments is to polarize a group large enough to feed his ego in 'support' of him. This is why he's attracted to the talking heads who garner big ratings and get rich by saying absurd things.\\nHe would turn on 'his people' in a heartbeat if a larger group would fawn on him for doing so.\\nThere is no policy other than his personal enrichment. Don't make the mistake of creating a reason on his motives than the one single principal, 'it's all about him'.\\nIf the large block of people who hate his guts would fawn over him the moment he does something acceptable and I do mean the \"moment\" he would learn to feed on it. With him it's not complicated. We need to think and act like we're training a dog. Reward good behav...   \n",
       "6242  Yesterday's chemical weapons attack in Syria and the recent subway bombing in St. Petersburg was a rude wake-up call for the president. After blithely announcing last year that he knew more about ISIS than the brass at the Pentagon and that he alone could fix the problems of the world, he now faces his first serious crisis and the global community will be watching closely to see how he responds. \\n\\nThe president brayed loudly to his red nation that he would bomb ISIS into submission, even at the expense of the non-combatant civilian population. It would be so easy, he said, to rid the world of terrorists who would cower and flee before American military might. Yesterday and last night, he didn't send out any tweets decrying the slaughter of civilians by Bashar al-Assad. His Twitter account was silent because now maybe he realizes that being president is more complicated than he thought it was. Idiotic and inane comments won't topple al-Assad's brutal regime.\\n\\nNo, this president ...   \n",
       "68    Nice try, Mr. Baker. Perhaps you wrote your stupefying article before Mr. Trump announced that he had invited the murdering thug Duterte of the Philippines to visit the White House. This is a man who has destroyed any vestige of due process or morality in his own country. So why does Trump honor him with a White House visti, during which I am sure he will gladly shake his hand? \\n\\nJust because Trump can occasionally read a speech that bears some resemblance to a normal presidential address and because once in a while he can be pulled back from the brink of disaster by the few rational heads around him does nothing to change who he is. I'm not going to repeat what everyone already knows about his character flaws, his intellectual weakness, and his appalling incuriousity and ignorance. But they are plain to see, and to celebrate his occasional lapses into sanity is only to underline how abnormal he is most of the time. So he now receives his intelligence briefings more often? We are...   \n",
       "2229  I hate Mitch McConnel's politics. I am not entirely sure that I do not hate him.\\nPower is something he has fought for and won with a focused singularity that takes ones breath away. Remember, he is the guy who said his sole focus was to make Barack Obama a one term President and he gave serious consideration to going after Ashley Judd for episodes of depression that she had experienced when she considered running against him. He is not inclusive, he does not advocate for the disadvantaged and he has not said one public word against the rampage of the Trump administration as it tears through the social safety net. His advocacy for coal was about corporations not individual miners. He has made bedfellows of the Christian Right and fiscal conservatives because they directly and indirectly to protect corporate interests.\\n\\nA conservative can capture in an empathetic way the best intentions of his\\nPolitical opponent and acknowledge their worth. Mr. McConnel has no such interest. For ...   \n",
       "1574  No one should have been surprised by Trump's character, or lack thereof. His narcissism and bombastic nonsense of always taking credit for the good things he really didn't do, and blaming others for the bad things he actually did, is pathetic. \\n\\nWhat was somewhat surprising is his stunning incompetence. He was elected with a populist message that Washington is broken and \"he alone could fix it.\" No argument on the Washington is broken part, and the country was more than ready to throw out the establishment and bring in a \"businessman\" to shake things up. \\n\\nWhat may have been missed was the assumption that Trump must have had SOME level of competence in order to build and grow his businesses. But, what was the reality? He was born on third base and thought he hit a triple. He never had a boss except his \"daddy.\" He never ran a public company, so he never had to report to a board that would keep him in check. And, of course, he's always surrounded himself with loyal sycophants wh...   \n",
       "\n",
       "      male_words  \n",
       "8386          19  \n",
       "6242          19  \n",
       "68            19  \n",
       "2229          19  \n",
       "1574          19  "
      ]
     },
     "execution_count": 48,
     "metadata": {},
     "output_type": "execute_result"
    }
   ],
   "source": [
    "pd.set_option('display.max_colwidth', 1000)\n",
    "nyt_df.sort_values(by='male_words', ascending=False)[['commentBody', 'male_words']].head()"
   ]
  },
  {
   "cell_type": "markdown",
   "metadata": {},
   "source": [
    "To highlight the flexibility of the `count_occurences` function, load a new list of female words, from the same source, in order to estimate the number of female words in each comment. After the word list is loaded, this is accomplished by supplying the new word list as an argument in the function. "
   ]
  },
  {
   "cell_type": "code",
   "execution_count": 49,
   "metadata": {},
   "outputs": [],
   "source": [
    "female_words_df = pd.read_csv('data/female_words.csv')\n",
    "female_words_list = female_words_df['term'].values\n",
    "\n",
    "nyt_df['female_words'] = nyt_df['commentBody'].apply(count_occurences, args=(female_words_list, ))"
   ]
  },
  {
   "cell_type": "markdown",
   "metadata": {},
   "source": [
    "Female words are rarer in comments."
   ]
  },
  {
   "cell_type": "code",
   "execution_count": 50,
   "metadata": {},
   "outputs": [
    {
     "data": {
      "text/html": [
       "<div>\n",
       "<style scoped>\n",
       "    .dataframe tbody tr th:only-of-type {\n",
       "        vertical-align: middle;\n",
       "    }\n",
       "\n",
       "    .dataframe tbody tr th {\n",
       "        vertical-align: top;\n",
       "    }\n",
       "\n",
       "    .dataframe thead th {\n",
       "        text-align: right;\n",
       "    }\n",
       "</style>\n",
       "<table border=\"1\" class=\"dataframe\">\n",
       "  <thead>\n",
       "    <tr style=\"text-align: right;\">\n",
       "      <th></th>\n",
       "      <th>male_words</th>\n",
       "      <th>female_words</th>\n",
       "    </tr>\n",
       "  </thead>\n",
       "  <tbody>\n",
       "    <tr>\n",
       "      <th>count</th>\n",
       "      <td>10000.000000</td>\n",
       "      <td>10000.000000</td>\n",
       "    </tr>\n",
       "    <tr>\n",
       "      <th>mean</th>\n",
       "      <td>1.101600</td>\n",
       "      <td>0.301300</td>\n",
       "    </tr>\n",
       "    <tr>\n",
       "      <th>std</th>\n",
       "      <td>2.126812</td>\n",
       "      <td>1.208993</td>\n",
       "    </tr>\n",
       "    <tr>\n",
       "      <th>min</th>\n",
       "      <td>0.000000</td>\n",
       "      <td>0.000000</td>\n",
       "    </tr>\n",
       "    <tr>\n",
       "      <th>25%</th>\n",
       "      <td>0.000000</td>\n",
       "      <td>0.000000</td>\n",
       "    </tr>\n",
       "    <tr>\n",
       "      <th>50%</th>\n",
       "      <td>0.000000</td>\n",
       "      <td>0.000000</td>\n",
       "    </tr>\n",
       "    <tr>\n",
       "      <th>75%</th>\n",
       "      <td>1.000000</td>\n",
       "      <td>0.000000</td>\n",
       "    </tr>\n",
       "    <tr>\n",
       "      <th>max</th>\n",
       "      <td>19.000000</td>\n",
       "      <td>27.000000</td>\n",
       "    </tr>\n",
       "  </tbody>\n",
       "</table>\n",
       "</div>"
      ],
      "text/plain": [
       "         male_words  female_words\n",
       "count  10000.000000  10000.000000\n",
       "mean       1.101600      0.301300\n",
       "std        2.126812      1.208993\n",
       "min        0.000000      0.000000\n",
       "25%        0.000000      0.000000\n",
       "50%        0.000000      0.000000\n",
       "75%        1.000000      0.000000\n",
       "max       19.000000     27.000000"
      ]
     },
     "execution_count": 50,
     "metadata": {},
     "output_type": "execute_result"
    }
   ],
   "source": [
    "gender_words = ['male_words', 'female_words']\n",
    "nyt_df[gender_words].describe()"
   ]
  },
  {
   "cell_type": "markdown",
   "metadata": {},
   "source": [
    "Finally, it appears that Editors select comments with more gendered words, both male and female. "
   ]
  },
  {
   "cell_type": "code",
   "execution_count": 51,
   "metadata": {},
   "outputs": [
    {
     "data": {
      "text/html": [
       "<div>\n",
       "<style scoped>\n",
       "    .dataframe tbody tr th:only-of-type {\n",
       "        vertical-align: middle;\n",
       "    }\n",
       "\n",
       "    .dataframe tbody tr th {\n",
       "        vertical-align: top;\n",
       "    }\n",
       "\n",
       "    .dataframe thead tr th {\n",
       "        text-align: left;\n",
       "    }\n",
       "\n",
       "    .dataframe thead tr:last-of-type th {\n",
       "        text-align: right;\n",
       "    }\n",
       "</style>\n",
       "<table border=\"1\" class=\"dataframe\">\n",
       "  <thead>\n",
       "    <tr>\n",
       "      <th></th>\n",
       "      <th colspan=\"8\" halign=\"left\">male_words</th>\n",
       "      <th colspan=\"8\" halign=\"left\">female_words</th>\n",
       "    </tr>\n",
       "    <tr>\n",
       "      <th></th>\n",
       "      <th>count</th>\n",
       "      <th>mean</th>\n",
       "      <th>std</th>\n",
       "      <th>min</th>\n",
       "      <th>25%</th>\n",
       "      <th>50%</th>\n",
       "      <th>75%</th>\n",
       "      <th>max</th>\n",
       "      <th>count</th>\n",
       "      <th>mean</th>\n",
       "      <th>std</th>\n",
       "      <th>min</th>\n",
       "      <th>25%</th>\n",
       "      <th>50%</th>\n",
       "      <th>75%</th>\n",
       "      <th>max</th>\n",
       "    </tr>\n",
       "    <tr>\n",
       "      <th>editorsSelection</th>\n",
       "      <th></th>\n",
       "      <th></th>\n",
       "      <th></th>\n",
       "      <th></th>\n",
       "      <th></th>\n",
       "      <th></th>\n",
       "      <th></th>\n",
       "      <th></th>\n",
       "      <th></th>\n",
       "      <th></th>\n",
       "      <th></th>\n",
       "      <th></th>\n",
       "      <th></th>\n",
       "      <th></th>\n",
       "      <th></th>\n",
       "      <th></th>\n",
       "    </tr>\n",
       "  </thead>\n",
       "  <tbody>\n",
       "    <tr>\n",
       "      <th>False</th>\n",
       "      <td>9783.0</td>\n",
       "      <td>1.096392</td>\n",
       "      <td>2.122070</td>\n",
       "      <td>0.0</td>\n",
       "      <td>0.0</td>\n",
       "      <td>0.0</td>\n",
       "      <td>1.0</td>\n",
       "      <td>19.0</td>\n",
       "      <td>9783.0</td>\n",
       "      <td>0.296944</td>\n",
       "      <td>1.198393</td>\n",
       "      <td>0.0</td>\n",
       "      <td>0.0</td>\n",
       "      <td>0.0</td>\n",
       "      <td>0.0</td>\n",
       "      <td>27.0</td>\n",
       "    </tr>\n",
       "    <tr>\n",
       "      <th>True</th>\n",
       "      <td>217.0</td>\n",
       "      <td>1.336406</td>\n",
       "      <td>2.323832</td>\n",
       "      <td>0.0</td>\n",
       "      <td>0.0</td>\n",
       "      <td>0.0</td>\n",
       "      <td>2.0</td>\n",
       "      <td>19.0</td>\n",
       "      <td>217.0</td>\n",
       "      <td>0.497696</td>\n",
       "      <td>1.607633</td>\n",
       "      <td>0.0</td>\n",
       "      <td>0.0</td>\n",
       "      <td>0.0</td>\n",
       "      <td>0.0</td>\n",
       "      <td>12.0</td>\n",
       "    </tr>\n",
       "  </tbody>\n",
       "</table>\n",
       "</div>"
      ],
      "text/plain": [
       "                 male_words                                                \\\n",
       "                      count      mean       std  min  25%  50%  75%   max   \n",
       "editorsSelection                                                            \n",
       "False                9783.0  1.096392  2.122070  0.0  0.0  0.0  1.0  19.0   \n",
       "True                  217.0  1.336406  2.323832  0.0  0.0  0.0  2.0  19.0   \n",
       "\n",
       "                 female_words                                                \n",
       "                        count      mean       std  min  25%  50%  75%   max  \n",
       "editorsSelection                                                             \n",
       "False                  9783.0  0.296944  1.198393  0.0  0.0  0.0  0.0  27.0  \n",
       "True                    217.0  0.497696  1.607633  0.0  0.0  0.0  0.0  12.0  "
      ]
     },
     "execution_count": 51,
     "metadata": {},
     "output_type": "execute_result"
    }
   ],
   "source": [
    "nyt_df.groupby('editorsSelection')[gender_words].describe()"
   ]
  }
 ],
 "metadata": {
  "celltoolbar": "Slideshow",
  "kernelspec": {
   "display_name": "Python 3",
   "language": "python",
   "name": "python3"
  },
  "language_info": {
   "codemirror_mode": {
    "name": "ipython",
    "version": 3
   },
   "file_extension": ".py",
   "mimetype": "text/x-python",
   "name": "python",
   "nbconvert_exporter": "python",
   "pygments_lexer": "ipython3",
   "version": "3.6.8"
  },
  "toc": {
   "base_numbering": 1,
   "nav_menu": {},
   "number_sections": true,
   "sideBar": true,
   "skip_h1_title": false,
   "title_cell": "Table of Contents",
   "title_sidebar": "Contents",
   "toc_cell": true,
   "toc_position": {},
   "toc_section_display": true,
   "toc_window_display": false
  }
 },
 "nbformat": 4,
 "nbformat_minor": 2
}
